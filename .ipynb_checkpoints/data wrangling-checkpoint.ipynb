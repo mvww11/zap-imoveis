{
 "cells": [
  {
   "cell_type": "markdown",
   "metadata": {},
   "source": [
    "# Data Wrangling\n",
    "* Nesse arquivo, pegamos os dados na sua forma bruta, como foram extraídos do [Zap Imóveis](https://www.zapimoveis.com.br), e os transformamos para a forma apropriada para as próximas etapas do pipeline do projeto.\n",
    "* Resolvemos os missing data\n",
    "* Resolvemos as formatações inapropriadas."
   ]
  },
  {
   "cell_type": "code",
   "execution_count": null,
   "metadata": {},
   "outputs": [],
   "source": [
    "import pandas as pd\n",
    "import numpy as np"
   ]
  },
  {
   "cell_type": "code",
   "execution_count": 336,
   "metadata": {},
   "outputs": [],
   "source": [
    "file_names = ['barao_icarai.csv',\n",
    "             'cruz_lima.csv',\n",
    "             'fernando_osorio.csv', \n",
    "             'honorio_barros.csv', \n",
    "             'marques_abrantes.csv', \n",
    "             'marques_parana.csv',\n",
    "             'oswaldo_cruz.csv',\n",
    "             'princesa_januaria.csv',\n",
    "             'rui_barbosa.csv',\n",
    "             'senador_euzebio.csv',\n",
    "             'senador_vergueiro.csv'\n",
    "            ]\n",
    "\n",
    "\n",
    "li = []\n",
    "for file_name in file_names:\n",
    "    _df = pd.read_csv(\"data/\" + file_name, index_col=None, header=0)\n",
    "    li.append(_df)\n",
    "    \n",
    "df = pd.concat(li, axis=0, ignore_index=True)"
   ]
  },
  {
   "cell_type": "code",
   "execution_count": 337,
   "metadata": {},
   "outputs": [
    {
     "data": {
      "text/html": [
       "<div>\n",
       "<style scoped>\n",
       "    .dataframe tbody tr th:only-of-type {\n",
       "        vertical-align: middle;\n",
       "    }\n",
       "\n",
       "    .dataframe tbody tr th {\n",
       "        vertical-align: top;\n",
       "    }\n",
       "\n",
       "    .dataframe thead th {\n",
       "        text-align: right;\n",
       "    }\n",
       "</style>\n",
       "<table border=\"1\" class=\"dataframe\">\n",
       "  <thead>\n",
       "    <tr style=\"text-align: right;\">\n",
       "      <th></th>\n",
       "      <th>Address</th>\n",
       "      <th>Area</th>\n",
       "      <th>Dorms</th>\n",
       "      <th>Baths</th>\n",
       "      <th>Parking Slots</th>\n",
       "      <th>Condominio</th>\n",
       "      <th>IPTU</th>\n",
       "      <th>Price</th>\n",
       "    </tr>\n",
       "  </thead>\n",
       "  <tbody>\n",
       "    <tr>\n",
       "      <th>0</th>\n",
       "      <td>Rua das Laranjeiras, Laranjeiras</td>\n",
       "      <td>\\n        71 - 201 m²\\n</td>\n",
       "      <td>\\n        2 - 4 \\n</td>\n",
       "      <td>\\n        1 \\n</td>\n",
       "      <td>NaN</td>\n",
       "      <td>NaN</td>\n",
       "      <td>NaN</td>\n",
       "      <td>\\n    Sob consulta\\n</td>\n",
       "    </tr>\n",
       "    <tr>\n",
       "      <th>1</th>\n",
       "      <td>Rua Voluntários da Pátria, Botafogo</td>\n",
       "      <td>\\n        113 - 116 m²\\n</td>\n",
       "      <td>\\n        3 \\n</td>\n",
       "      <td>\\n        2 \\n</td>\n",
       "      <td>\\n        1 \\n</td>\n",
       "      <td>NaN</td>\n",
       "      <td>NaN</td>\n",
       "      <td>\\n    R$ 1.665.000\\n    /venda</td>\n",
       "    </tr>\n",
       "    <tr>\n",
       "      <th>2</th>\n",
       "      <td>Rua Pereira da Silva, Laranjeiras</td>\n",
       "      <td>\\n        73 - 124 m²\\n</td>\n",
       "      <td>\\n        2 - 3 \\n</td>\n",
       "      <td>\\n        3 \\n</td>\n",
       "      <td>\\n        1 - 2 \\n</td>\n",
       "      <td>NaN</td>\n",
       "      <td>NaN</td>\n",
       "      <td>\\n    R$ 960.000\\n    /venda</td>\n",
       "    </tr>\n",
       "    <tr>\n",
       "      <th>3</th>\n",
       "      <td>Rua Barão de Icaraí, Flamengo</td>\n",
       "      <td>\\n        160 m²\\n</td>\n",
       "      <td>\\n        2 \\n</td>\n",
       "      <td>\\n        3 \\n</td>\n",
       "      <td>\\n        2 \\n</td>\n",
       "      <td>R$ 1.200</td>\n",
       "      <td>R$ 433</td>\n",
       "      <td>\\n    R$ 1.800.000\\n    /venda</td>\n",
       "    </tr>\n",
       "    <tr>\n",
       "      <th>4</th>\n",
       "      <td>Rua Barão de Icaraí, Flamengo</td>\n",
       "      <td>\\n        100 m²\\n</td>\n",
       "      <td>\\n        2 \\n</td>\n",
       "      <td>\\n        1 \\n</td>\n",
       "      <td>\\n        2 \\n</td>\n",
       "      <td>R$ 950</td>\n",
       "      <td>R$ 280</td>\n",
       "      <td>\\n    R$ 1.050.000\\n    /venda</td>\n",
       "    </tr>\n",
       "    <tr>\n",
       "      <th>...</th>\n",
       "      <td>...</td>\n",
       "      <td>...</td>\n",
       "      <td>...</td>\n",
       "      <td>...</td>\n",
       "      <td>...</td>\n",
       "      <td>...</td>\n",
       "      <td>...</td>\n",
       "      <td>...</td>\n",
       "    </tr>\n",
       "    <tr>\n",
       "      <th>2884</th>\n",
       "      <td>Rua Senador Vergueiro, Flamengo</td>\n",
       "      <td>\\n        385 m²\\n</td>\n",
       "      <td>\\n        5 \\n</td>\n",
       "      <td>\\n        3 \\n</td>\n",
       "      <td>\\n        1 \\n</td>\n",
       "      <td>R$ 3.680</td>\n",
       "      <td>R$ 878</td>\n",
       "      <td>\\n    R$ 2.500.000\\n    /venda</td>\n",
       "    </tr>\n",
       "    <tr>\n",
       "      <th>2885</th>\n",
       "      <td>Rua Senador Vergueiro, Flamengo</td>\n",
       "      <td>\\n        198 m²\\n</td>\n",
       "      <td>\\n        4 \\n</td>\n",
       "      <td>\\n        4 \\n</td>\n",
       "      <td>\\n        1 \\n</td>\n",
       "      <td>R$ 1.600</td>\n",
       "      <td>R$ 491</td>\n",
       "      <td>\\n    R$ 1.800.000\\n    /venda</td>\n",
       "    </tr>\n",
       "    <tr>\n",
       "      <th>2886</th>\n",
       "      <td>Rua Senador Vergueiro, Flamengo</td>\n",
       "      <td>\\n        160 m²\\n</td>\n",
       "      <td>\\n        3 \\n</td>\n",
       "      <td>\\n        3 \\n</td>\n",
       "      <td>\\n        1 \\n</td>\n",
       "      <td>R$ 1.500</td>\n",
       "      <td>R$ 3.840</td>\n",
       "      <td>\\n    R$ 2.030.000\\n    /venda</td>\n",
       "    </tr>\n",
       "    <tr>\n",
       "      <th>2887</th>\n",
       "      <td>Rua Senador Vergueiro, Flamengo</td>\n",
       "      <td>\\n        220 m²\\n</td>\n",
       "      <td>\\n        4 \\n</td>\n",
       "      <td>\\n        3 \\n</td>\n",
       "      <td>\\n        1 \\n</td>\n",
       "      <td>R$ 1.555</td>\n",
       "      <td>R$ 46.440</td>\n",
       "      <td>\\n    R$ 2.240.000\\n    /venda</td>\n",
       "    </tr>\n",
       "    <tr>\n",
       "      <th>2888</th>\n",
       "      <td>Rua Senador Vergueiro, Flamengo</td>\n",
       "      <td>\\n        218 m²\\n</td>\n",
       "      <td>\\n        4 \\n</td>\n",
       "      <td>\\n        3 \\n</td>\n",
       "      <td>\\n        1 \\n</td>\n",
       "      <td>NaN</td>\n",
       "      <td>R$ 46.440</td>\n",
       "      <td>\\n    R$ 2.240.000\\n    /venda</td>\n",
       "    </tr>\n",
       "  </tbody>\n",
       "</table>\n",
       "<p>2889 rows × 8 columns</p>\n",
       "</div>"
      ],
      "text/plain": [
       "                                  Address                              Area  \\\n",
       "0        Rua das Laranjeiras, Laranjeiras   \\n        71 - 201 m²\\n           \n",
       "1     Rua Voluntários da Pátria, Botafogo  \\n        113 - 116 m²\\n           \n",
       "2       Rua Pereira da Silva, Laranjeiras   \\n        73 - 124 m²\\n           \n",
       "3           Rua Barão de Icaraí, Flamengo        \\n        160 m²\\n           \n",
       "4           Rua Barão de Icaraí, Flamengo        \\n        100 m²\\n           \n",
       "...                                   ...                               ...   \n",
       "2884      Rua Senador Vergueiro, Flamengo        \\n        385 m²\\n           \n",
       "2885      Rua Senador Vergueiro, Flamengo        \\n        198 m²\\n           \n",
       "2886      Rua Senador Vergueiro, Flamengo        \\n        160 m²\\n           \n",
       "2887      Rua Senador Vergueiro, Flamengo        \\n        220 m²\\n           \n",
       "2888      Rua Senador Vergueiro, Flamengo        \\n        218 m²\\n           \n",
       "\n",
       "                           Dorms                   Baths  \\\n",
       "0     \\n        2 - 4 \\n          \\n        1 \\n           \n",
       "1         \\n        3 \\n          \\n        2 \\n           \n",
       "2     \\n        2 - 3 \\n          \\n        3 \\n           \n",
       "3         \\n        2 \\n          \\n        3 \\n           \n",
       "4         \\n        2 \\n          \\n        1 \\n           \n",
       "...                          ...                     ...   \n",
       "2884      \\n        5 \\n          \\n        3 \\n           \n",
       "2885      \\n        4 \\n          \\n        4 \\n           \n",
       "2886      \\n        3 \\n          \\n        3 \\n           \n",
       "2887      \\n        4 \\n          \\n        3 \\n           \n",
       "2888      \\n        4 \\n          \\n        3 \\n           \n",
       "\n",
       "                   Parking Slots Condominio       IPTU  \\\n",
       "0                            NaN        NaN        NaN   \n",
       "1         \\n        1 \\n                NaN        NaN   \n",
       "2     \\n        1 - 2 \\n                NaN        NaN   \n",
       "3         \\n        2 \\n           R$ 1.200     R$ 433   \n",
       "4         \\n        2 \\n             R$ 950     R$ 280   \n",
       "...                          ...        ...        ...   \n",
       "2884      \\n        1 \\n           R$ 3.680     R$ 878   \n",
       "2885      \\n        1 \\n           R$ 1.600     R$ 491   \n",
       "2886      \\n        1 \\n           R$ 1.500   R$ 3.840   \n",
       "2887      \\n        1 \\n           R$ 1.555  R$ 46.440   \n",
       "2888      \\n        1 \\n                NaN  R$ 46.440   \n",
       "\n",
       "                               Price  \n",
       "0             \\n    Sob consulta\\n    \n",
       "1     \\n    R$ 1.665.000\\n    /venda  \n",
       "2       \\n    R$ 960.000\\n    /venda  \n",
       "3     \\n    R$ 1.800.000\\n    /venda  \n",
       "4     \\n    R$ 1.050.000\\n    /venda  \n",
       "...                              ...  \n",
       "2884  \\n    R$ 2.500.000\\n    /venda  \n",
       "2885  \\n    R$ 1.800.000\\n    /venda  \n",
       "2886  \\n    R$ 2.030.000\\n    /venda  \n",
       "2887  \\n    R$ 2.240.000\\n    /venda  \n",
       "2888  \\n    R$ 2.240.000\\n    /venda  \n",
       "\n",
       "[2889 rows x 8 columns]"
      ]
     },
     "execution_count": 337,
     "metadata": {},
     "output_type": "execute_result"
    }
   ],
   "source": [
    "df"
   ]
  },
  {
   "cell_type": "markdown",
   "metadata": {},
   "source": [
    "Perceba, acima, como várias colunas, que representam valores, possuem o código de quebra de linha '\\n'. Outras linhas possuem o símbolo 'R$'. Vamos consertar essa formatação mais à frente.\n",
    "\n",
    "Além disso, Todas as ruas possuem também o baixo, o que é indesejado. Vamos criar uma outra coluna, somente com as ruas de nosso interesse, já numa formatação apropriada:"
   ]
  },
  {
   "cell_type": "code",
   "execution_count": 338,
   "metadata": {},
   "outputs": [],
   "source": [
    "def extract_street(x):\n",
    "    x = x.lower()\n",
    "    if 'icaraí' in x:\n",
    "        return 'Barão de Icaraí'\n",
    "    elif 'lima' in x:\n",
    "        return 'Cruz Lima'\n",
    "    elif 'fernando' in x:\n",
    "        return 'Fernando Osório'\n",
    "    elif 'barros' in x:\n",
    "        return 'Honório de Barros'\n",
    "    elif 'abrantes' in x:\n",
    "        return 'Marquês de Abrantes'\n",
    "    elif 'paraná' in x:\n",
    "        return 'Marquês de Paraná'\n",
    "    elif 'oswaldo' in x:\n",
    "        return 'Oswaldo Cruz'\n",
    "    elif 'januaria' in x:\n",
    "        return 'Princesa Januaria'\n",
    "    elif 'barbosa' in x:\n",
    "        return 'Rui Barbosa'\n",
    "    elif 'euzebio' in x:\n",
    "        return 'Senador Euzebio'\n",
    "    elif 'vergueiro' in x:\n",
    "        return 'Senador Vergueiro'\n",
    "    else:\n",
    "        return np.NaN"
   ]
  },
  {
   "cell_type": "code",
   "execution_count": 339,
   "metadata": {},
   "outputs": [],
   "source": [
    "df['Street'] = df['Address'].apply(extract_street)"
   ]
  },
  {
   "cell_type": "code",
   "execution_count": 340,
   "metadata": {},
   "outputs": [
    {
     "data": {
      "text/html": [
       "<div>\n",
       "<style scoped>\n",
       "    .dataframe tbody tr th:only-of-type {\n",
       "        vertical-align: middle;\n",
       "    }\n",
       "\n",
       "    .dataframe tbody tr th {\n",
       "        vertical-align: top;\n",
       "    }\n",
       "\n",
       "    .dataframe thead th {\n",
       "        text-align: right;\n",
       "    }\n",
       "</style>\n",
       "<table border=\"1\" class=\"dataframe\">\n",
       "  <thead>\n",
       "    <tr style=\"text-align: right;\">\n",
       "      <th></th>\n",
       "      <th>Address</th>\n",
       "      <th>Area</th>\n",
       "      <th>Dorms</th>\n",
       "      <th>Baths</th>\n",
       "      <th>Parking Slots</th>\n",
       "      <th>Condominio</th>\n",
       "      <th>IPTU</th>\n",
       "      <th>Price</th>\n",
       "      <th>Street</th>\n",
       "    </tr>\n",
       "  </thead>\n",
       "  <tbody>\n",
       "    <tr>\n",
       "      <th>0</th>\n",
       "      <td>Rua das Laranjeiras, Laranjeiras</td>\n",
       "      <td>\\n        71 - 201 m²\\n</td>\n",
       "      <td>\\n        2 - 4 \\n</td>\n",
       "      <td>\\n        1 \\n</td>\n",
       "      <td>NaN</td>\n",
       "      <td>NaN</td>\n",
       "      <td>NaN</td>\n",
       "      <td>\\n    Sob consulta\\n</td>\n",
       "      <td>NaN</td>\n",
       "    </tr>\n",
       "    <tr>\n",
       "      <th>1</th>\n",
       "      <td>Rua Voluntários da Pátria, Botafogo</td>\n",
       "      <td>\\n        113 - 116 m²\\n</td>\n",
       "      <td>\\n        3 \\n</td>\n",
       "      <td>\\n        2 \\n</td>\n",
       "      <td>\\n        1 \\n</td>\n",
       "      <td>NaN</td>\n",
       "      <td>NaN</td>\n",
       "      <td>\\n    R$ 1.665.000\\n    /venda</td>\n",
       "      <td>NaN</td>\n",
       "    </tr>\n",
       "    <tr>\n",
       "      <th>2</th>\n",
       "      <td>Rua Pereira da Silva, Laranjeiras</td>\n",
       "      <td>\\n        73 - 124 m²\\n</td>\n",
       "      <td>\\n        2 - 3 \\n</td>\n",
       "      <td>\\n        3 \\n</td>\n",
       "      <td>\\n        1 - 2 \\n</td>\n",
       "      <td>NaN</td>\n",
       "      <td>NaN</td>\n",
       "      <td>\\n    R$ 960.000\\n    /venda</td>\n",
       "      <td>NaN</td>\n",
       "    </tr>\n",
       "    <tr>\n",
       "      <th>3</th>\n",
       "      <td>Rua Barão de Icaraí, Flamengo</td>\n",
       "      <td>\\n        160 m²\\n</td>\n",
       "      <td>\\n        2 \\n</td>\n",
       "      <td>\\n        3 \\n</td>\n",
       "      <td>\\n        2 \\n</td>\n",
       "      <td>R$ 1.200</td>\n",
       "      <td>R$ 433</td>\n",
       "      <td>\\n    R$ 1.800.000\\n    /venda</td>\n",
       "      <td>Barão de Icaraí</td>\n",
       "    </tr>\n",
       "    <tr>\n",
       "      <th>4</th>\n",
       "      <td>Rua Barão de Icaraí, Flamengo</td>\n",
       "      <td>\\n        100 m²\\n</td>\n",
       "      <td>\\n        2 \\n</td>\n",
       "      <td>\\n        1 \\n</td>\n",
       "      <td>\\n        2 \\n</td>\n",
       "      <td>R$ 950</td>\n",
       "      <td>R$ 280</td>\n",
       "      <td>\\n    R$ 1.050.000\\n    /venda</td>\n",
       "      <td>Barão de Icaraí</td>\n",
       "    </tr>\n",
       "  </tbody>\n",
       "</table>\n",
       "</div>"
      ],
      "text/plain": [
       "                               Address                              Area  \\\n",
       "0     Rua das Laranjeiras, Laranjeiras   \\n        71 - 201 m²\\n           \n",
       "1  Rua Voluntários da Pátria, Botafogo  \\n        113 - 116 m²\\n           \n",
       "2    Rua Pereira da Silva, Laranjeiras   \\n        73 - 124 m²\\n           \n",
       "3        Rua Barão de Icaraí, Flamengo        \\n        160 m²\\n           \n",
       "4        Rua Barão de Icaraí, Flamengo        \\n        100 m²\\n           \n",
       "\n",
       "                        Dorms                   Baths  \\\n",
       "0  \\n        2 - 4 \\n          \\n        1 \\n           \n",
       "1      \\n        3 \\n          \\n        2 \\n           \n",
       "2  \\n        2 - 3 \\n          \\n        3 \\n           \n",
       "3      \\n        2 \\n          \\n        3 \\n           \n",
       "4      \\n        2 \\n          \\n        1 \\n           \n",
       "\n",
       "                Parking Slots Condominio    IPTU  \\\n",
       "0                         NaN        NaN     NaN   \n",
       "1      \\n        1 \\n                NaN     NaN   \n",
       "2  \\n        1 - 2 \\n                NaN     NaN   \n",
       "3      \\n        2 \\n           R$ 1.200  R$ 433   \n",
       "4      \\n        2 \\n             R$ 950  R$ 280   \n",
       "\n",
       "                            Price           Street  \n",
       "0          \\n    Sob consulta\\n                NaN  \n",
       "1  \\n    R$ 1.665.000\\n    /venda              NaN  \n",
       "2    \\n    R$ 960.000\\n    /venda              NaN  \n",
       "3  \\n    R$ 1.800.000\\n    /venda  Barão de Icaraí  \n",
       "4  \\n    R$ 1.050.000\\n    /venda  Barão de Icaraí  "
      ]
     },
     "execution_count": 340,
     "metadata": {},
     "output_type": "execute_result"
    }
   ],
   "source": [
    "df.head()"
   ]
  },
  {
   "cell_type": "code",
   "execution_count": 341,
   "metadata": {},
   "outputs": [
    {
     "data": {
      "text/plain": [
       "Senador Vergueiro      550\n",
       "Marquês de Abrantes    437\n",
       "Rui Barbosa            401\n",
       "Oswaldo Cruz           367\n",
       "Barão de Icaraí         78\n",
       "Cruz Lima               67\n",
       "Senador Euzebio         62\n",
       "Honório de Barros       41\n",
       "Fernando Osório         35\n",
       "Princesa Januaria       32\n",
       "Marquês de Paraná       29\n",
       "Name: Street, dtype: int64"
      ]
     },
     "execution_count": 341,
     "metadata": {},
     "output_type": "execute_result"
    }
   ],
   "source": [
    "df.Street.value_counts()"
   ]
  },
  {
   "cell_type": "markdown",
   "metadata": {},
   "source": [
    "A coluna 'Street' possui somente as nossas ruas de interesse, já na formatação apropriada. Mas algumas ruas ficaram como nulas nessa coluna. Veremos agora o por quê."
   ]
  },
  {
   "cell_type": "markdown",
   "metadata": {},
   "source": [
    "# Ruas que não satisfazem nosso filtro\n",
    "O Zap exibe apartamentos patrocinados no resultado de nossas buscas que não necessariamente satisfazem os critérios de nossos filtros. Por isso, temos apartamentos em ruas e bairros que não nos interessavam. Ao criarmos a coluna Street, esses apartamentos ficaram como NaN, pois não pertenciam a nenhuma das ruas estipuladas na função extract_street().\n",
    "\n",
    "Vemos abaixo que 798 anúnios se encaixam nessa categoria. Portanto, vamos eliminá-los da análise."
   ]
  },
  {
   "cell_type": "code",
   "execution_count": 342,
   "metadata": {},
   "outputs": [
    {
     "name": "stdout",
     "output_type": "stream",
     "text": [
      "linhas nulas na coluna Street: 790\n"
     ]
    }
   ],
   "source": [
    "#linhas nulas na coluna Street\n",
    "print(f'linhas nulas na coluna Street: {df.isna().sum().Street}')"
   ]
  },
  {
   "cell_type": "code",
   "execution_count": 343,
   "metadata": {},
   "outputs": [
    {
     "data": {
      "text/html": [
       "<div>\n",
       "<style scoped>\n",
       "    .dataframe tbody tr th:only-of-type {\n",
       "        vertical-align: middle;\n",
       "    }\n",
       "\n",
       "    .dataframe tbody tr th {\n",
       "        vertical-align: top;\n",
       "    }\n",
       "\n",
       "    .dataframe thead th {\n",
       "        text-align: right;\n",
       "    }\n",
       "</style>\n",
       "<table border=\"1\" class=\"dataframe\">\n",
       "  <thead>\n",
       "    <tr style=\"text-align: right;\">\n",
       "      <th></th>\n",
       "      <th>Address</th>\n",
       "      <th>Area</th>\n",
       "      <th>Dorms</th>\n",
       "      <th>Baths</th>\n",
       "      <th>Parking Slots</th>\n",
       "      <th>Condominio</th>\n",
       "      <th>IPTU</th>\n",
       "      <th>Price</th>\n",
       "      <th>Street</th>\n",
       "    </tr>\n",
       "  </thead>\n",
       "  <tbody>\n",
       "    <tr>\n",
       "      <th>3</th>\n",
       "      <td>Rua Barão de Icaraí, Flamengo</td>\n",
       "      <td>\\n        160 m²\\n</td>\n",
       "      <td>\\n        2 \\n</td>\n",
       "      <td>\\n        3 \\n</td>\n",
       "      <td>\\n        2 \\n</td>\n",
       "      <td>R$ 1.200</td>\n",
       "      <td>R$ 433</td>\n",
       "      <td>\\n    R$ 1.800.000\\n    /venda</td>\n",
       "      <td>Barão de Icaraí</td>\n",
       "    </tr>\n",
       "    <tr>\n",
       "      <th>4</th>\n",
       "      <td>Rua Barão de Icaraí, Flamengo</td>\n",
       "      <td>\\n        100 m²\\n</td>\n",
       "      <td>\\n        2 \\n</td>\n",
       "      <td>\\n        1 \\n</td>\n",
       "      <td>\\n        2 \\n</td>\n",
       "      <td>R$ 950</td>\n",
       "      <td>R$ 280</td>\n",
       "      <td>\\n    R$ 1.050.000\\n    /venda</td>\n",
       "      <td>Barão de Icaraí</td>\n",
       "    </tr>\n",
       "    <tr>\n",
       "      <th>5</th>\n",
       "      <td>Rua Barão de Icaraí, Flamengo</td>\n",
       "      <td>\\n        78 m²\\n</td>\n",
       "      <td>\\n        2 \\n</td>\n",
       "      <td>\\n        2 \\n</td>\n",
       "      <td>\\n        1 \\n</td>\n",
       "      <td>R$ 790</td>\n",
       "      <td>R$ 2.202</td>\n",
       "      <td>\\n    R$ 949.999\\n    /venda</td>\n",
       "      <td>Barão de Icaraí</td>\n",
       "    </tr>\n",
       "    <tr>\n",
       "      <th>6</th>\n",
       "      <td>Rua Barão de Icaraí, Flamengo</td>\n",
       "      <td>\\n        102 m²\\n</td>\n",
       "      <td>\\n        3 \\n</td>\n",
       "      <td>\\n        2 \\n</td>\n",
       "      <td>\\n        1 \\n</td>\n",
       "      <td>R$ 1.100</td>\n",
       "      <td>R$ 214</td>\n",
       "      <td>\\n    R$ 973.000\\n    /venda</td>\n",
       "      <td>Barão de Icaraí</td>\n",
       "    </tr>\n",
       "    <tr>\n",
       "      <th>7</th>\n",
       "      <td>Rua Barão de Icaraí, Flamengo</td>\n",
       "      <td>\\n        130 m²\\n</td>\n",
       "      <td>\\n        3 \\n</td>\n",
       "      <td>\\n        2 \\n</td>\n",
       "      <td>\\n        1 \\n</td>\n",
       "      <td>R$ 1.650</td>\n",
       "      <td>R$ 295</td>\n",
       "      <td>\\n    R$ 1.150.000\\n    /venda</td>\n",
       "      <td>Barão de Icaraí</td>\n",
       "    </tr>\n",
       "    <tr>\n",
       "      <th>...</th>\n",
       "      <td>...</td>\n",
       "      <td>...</td>\n",
       "      <td>...</td>\n",
       "      <td>...</td>\n",
       "      <td>...</td>\n",
       "      <td>...</td>\n",
       "      <td>...</td>\n",
       "      <td>...</td>\n",
       "      <td>...</td>\n",
       "    </tr>\n",
       "    <tr>\n",
       "      <th>2884</th>\n",
       "      <td>Rua Senador Vergueiro, Flamengo</td>\n",
       "      <td>\\n        385 m²\\n</td>\n",
       "      <td>\\n        5 \\n</td>\n",
       "      <td>\\n        3 \\n</td>\n",
       "      <td>\\n        1 \\n</td>\n",
       "      <td>R$ 3.680</td>\n",
       "      <td>R$ 878</td>\n",
       "      <td>\\n    R$ 2.500.000\\n    /venda</td>\n",
       "      <td>Senador Vergueiro</td>\n",
       "    </tr>\n",
       "    <tr>\n",
       "      <th>2885</th>\n",
       "      <td>Rua Senador Vergueiro, Flamengo</td>\n",
       "      <td>\\n        198 m²\\n</td>\n",
       "      <td>\\n        4 \\n</td>\n",
       "      <td>\\n        4 \\n</td>\n",
       "      <td>\\n        1 \\n</td>\n",
       "      <td>R$ 1.600</td>\n",
       "      <td>R$ 491</td>\n",
       "      <td>\\n    R$ 1.800.000\\n    /venda</td>\n",
       "      <td>Senador Vergueiro</td>\n",
       "    </tr>\n",
       "    <tr>\n",
       "      <th>2886</th>\n",
       "      <td>Rua Senador Vergueiro, Flamengo</td>\n",
       "      <td>\\n        160 m²\\n</td>\n",
       "      <td>\\n        3 \\n</td>\n",
       "      <td>\\n        3 \\n</td>\n",
       "      <td>\\n        1 \\n</td>\n",
       "      <td>R$ 1.500</td>\n",
       "      <td>R$ 3.840</td>\n",
       "      <td>\\n    R$ 2.030.000\\n    /venda</td>\n",
       "      <td>Senador Vergueiro</td>\n",
       "    </tr>\n",
       "    <tr>\n",
       "      <th>2887</th>\n",
       "      <td>Rua Senador Vergueiro, Flamengo</td>\n",
       "      <td>\\n        220 m²\\n</td>\n",
       "      <td>\\n        4 \\n</td>\n",
       "      <td>\\n        3 \\n</td>\n",
       "      <td>\\n        1 \\n</td>\n",
       "      <td>R$ 1.555</td>\n",
       "      <td>R$ 46.440</td>\n",
       "      <td>\\n    R$ 2.240.000\\n    /venda</td>\n",
       "      <td>Senador Vergueiro</td>\n",
       "    </tr>\n",
       "    <tr>\n",
       "      <th>2888</th>\n",
       "      <td>Rua Senador Vergueiro, Flamengo</td>\n",
       "      <td>\\n        218 m²\\n</td>\n",
       "      <td>\\n        4 \\n</td>\n",
       "      <td>\\n        3 \\n</td>\n",
       "      <td>\\n        1 \\n</td>\n",
       "      <td>NaN</td>\n",
       "      <td>R$ 46.440</td>\n",
       "      <td>\\n    R$ 2.240.000\\n    /venda</td>\n",
       "      <td>Senador Vergueiro</td>\n",
       "    </tr>\n",
       "  </tbody>\n",
       "</table>\n",
       "<p>2099 rows × 9 columns</p>\n",
       "</div>"
      ],
      "text/plain": [
       "                              Address                        Area  \\\n",
       "3       Rua Barão de Icaraí, Flamengo  \\n        160 m²\\n           \n",
       "4       Rua Barão de Icaraí, Flamengo  \\n        100 m²\\n           \n",
       "5       Rua Barão de Icaraí, Flamengo   \\n        78 m²\\n           \n",
       "6       Rua Barão de Icaraí, Flamengo  \\n        102 m²\\n           \n",
       "7       Rua Barão de Icaraí, Flamengo  \\n        130 m²\\n           \n",
       "...                               ...                         ...   \n",
       "2884  Rua Senador Vergueiro, Flamengo  \\n        385 m²\\n           \n",
       "2885  Rua Senador Vergueiro, Flamengo  \\n        198 m²\\n           \n",
       "2886  Rua Senador Vergueiro, Flamengo  \\n        160 m²\\n           \n",
       "2887  Rua Senador Vergueiro, Flamengo  \\n        220 m²\\n           \n",
       "2888  Rua Senador Vergueiro, Flamengo  \\n        218 m²\\n           \n",
       "\n",
       "                       Dorms                   Baths           Parking Slots  \\\n",
       "3     \\n        2 \\n          \\n        3 \\n          \\n        2 \\n           \n",
       "4     \\n        2 \\n          \\n        1 \\n          \\n        2 \\n           \n",
       "5     \\n        2 \\n          \\n        2 \\n          \\n        1 \\n           \n",
       "6     \\n        3 \\n          \\n        2 \\n          \\n        1 \\n           \n",
       "7     \\n        3 \\n          \\n        2 \\n          \\n        1 \\n           \n",
       "...                      ...                     ...                     ...   \n",
       "2884  \\n        5 \\n          \\n        3 \\n          \\n        1 \\n           \n",
       "2885  \\n        4 \\n          \\n        4 \\n          \\n        1 \\n           \n",
       "2886  \\n        3 \\n          \\n        3 \\n          \\n        1 \\n           \n",
       "2887  \\n        4 \\n          \\n        3 \\n          \\n        1 \\n           \n",
       "2888  \\n        4 \\n          \\n        3 \\n          \\n        1 \\n           \n",
       "\n",
       "     Condominio       IPTU                           Price             Street  \n",
       "3      R$ 1.200     R$ 433  \\n    R$ 1.800.000\\n    /venda    Barão de Icaraí  \n",
       "4        R$ 950     R$ 280  \\n    R$ 1.050.000\\n    /venda    Barão de Icaraí  \n",
       "5        R$ 790   R$ 2.202    \\n    R$ 949.999\\n    /venda    Barão de Icaraí  \n",
       "6      R$ 1.100     R$ 214    \\n    R$ 973.000\\n    /venda    Barão de Icaraí  \n",
       "7      R$ 1.650     R$ 295  \\n    R$ 1.150.000\\n    /venda    Barão de Icaraí  \n",
       "...         ...        ...                             ...                ...  \n",
       "2884   R$ 3.680     R$ 878  \\n    R$ 2.500.000\\n    /venda  Senador Vergueiro  \n",
       "2885   R$ 1.600     R$ 491  \\n    R$ 1.800.000\\n    /venda  Senador Vergueiro  \n",
       "2886   R$ 1.500   R$ 3.840  \\n    R$ 2.030.000\\n    /venda  Senador Vergueiro  \n",
       "2887   R$ 1.555  R$ 46.440  \\n    R$ 2.240.000\\n    /venda  Senador Vergueiro  \n",
       "2888        NaN  R$ 46.440  \\n    R$ 2.240.000\\n    /venda  Senador Vergueiro  \n",
       "\n",
       "[2099 rows x 9 columns]"
      ]
     },
     "execution_count": 343,
     "metadata": {},
     "output_type": "execute_result"
    }
   ],
   "source": [
    "#Eliminando todas as linhas que não estão em uma das ruas estudadas\n",
    "df = df.dropna(axis = 0, subset=['Street'])\n",
    "df"
   ]
  },
  {
   "cell_type": "markdown",
   "metadata": {},
   "source": [
    "## Imóveis na Planta\n",
    "Parte dos anúncios patrocinados continham prédios ainda em construção ou recém prontos, que têm várias opções de apartamentos. \n",
    "\n",
    "### Banheiros\n",
    "Por isso temos, como vemos abaixo, valores para Baths do tipo \"1 - 3\" (8 anúncios) ou \"2 - 3\" (8 anúncios): são anúncios de imobiliárias que possuem várias opções naquele prédio. Precisamos deletar essas linhas, pois serão incompatíveis com nossa modelagem."
   ]
  },
  {
   "cell_type": "code",
   "execution_count": 344,
   "metadata": {},
   "outputs": [
    {
     "name": "stdout",
     "output_type": "stream",
     "text": [
      "Index(['\\n        2 \\n        ', '\\n        3 \\n        ',\n",
      "       '\\n        1 \\n        ', '\\n        4 \\n        ',\n",
      "       '\\n        5 \\n        ', '\\n        6 \\n        ',\n",
      "       '\\n        7 \\n        ', '\\n        1 - 3 \\n        ',\n",
      "       '\\n        2 - 3 \\n        ', '\\n        8 \\n        ',\n",
      "       '\\n        11 \\n        ', '\\n        9 \\n        '],\n",
      "      dtype='object')\n"
     ]
    },
    {
     "data": {
      "text/plain": [
       "\\n        2 \\n                667\n",
       "\\n        3 \\n                658\n",
       "\\n        1 \\n                385\n",
       "\\n        4 \\n                247\n",
       "\\n        5 \\n                 82\n",
       "\\n        6 \\n                 28\n",
       "\\n        7 \\n                  9\n",
       "\\n        1 - 3 \\n              8\n",
       "\\n        2 - 3 \\n              8\n",
       "\\n        8 \\n                  3\n",
       "\\n        11 \\n                 1\n",
       "\\n        9 \\n                  1\n",
       "Name: Baths, dtype: int64"
      ]
     },
     "execution_count": 344,
     "metadata": {},
     "output_type": "execute_result"
    }
   ],
   "source": [
    "#exibindo os valores existentes na coluna Baths, e quantas vezes cada um aparece\n",
    "print(df.Baths.value_counts().index)\n",
    "df.Baths.value_counts()"
   ]
  },
  {
   "cell_type": "code",
   "execution_count": 345,
   "metadata": {},
   "outputs": [],
   "source": [
    "#deleta os anúncios que são imcompatíveis com nossa modelagem (mais de uma opção de apartamento no anúncio)\n",
    "df = df[df['Baths'] != '\\n        2 - 3 \\n        ']\n",
    "df = df[df['Baths'] != '\\n        1 - 3 \\n        ']"
   ]
  },
  {
   "cell_type": "code",
   "execution_count": 346,
   "metadata": {},
   "outputs": [
    {
     "data": {
      "text/plain": [
       "\\n        2 \\n             667\n",
       "\\n        3 \\n             658\n",
       "\\n        1 \\n             385\n",
       "\\n        4 \\n             247\n",
       "\\n        5 \\n              82\n",
       "\\n        6 \\n              28\n",
       "\\n        7 \\n               9\n",
       "\\n        8 \\n               3\n",
       "\\n        11 \\n              1\n",
       "\\n        9 \\n               1\n",
       "Name: Baths, dtype: int64"
      ]
     },
     "execution_count": 346,
     "metadata": {},
     "output_type": "execute_result"
    }
   ],
   "source": [
    "#verificando que não temos mais esse tipo de anúncio indesejado\n",
    "df.Baths.value_counts()"
   ]
  },
  {
   "cell_type": "markdown",
   "metadata": {},
   "source": [
    "### Dormitórios\n",
    "\n",
    "Na coluna dormitórios, encontramos 3 anúncios com o mesmo problema apontado acima. Vamos deletá-los."
   ]
  },
  {
   "cell_type": "code",
   "execution_count": 347,
   "metadata": {},
   "outputs": [
    {
     "name": "stdout",
     "output_type": "stream",
     "text": [
      "Index(['\\n        3 \\n        ', '\\n        2 \\n        ',\n",
      "       '\\n        4 \\n        ', '\\n        1 \\n        ',\n",
      "       '\\n        5 \\n        ', '\\n        6 \\n        ',\n",
      "       '\\n        2 - 3 \\n        ', '\\n        7 \\n        '],\n",
      "      dtype='object')\n"
     ]
    },
    {
     "data": {
      "text/plain": [
       "\\n        3 \\n                946\n",
       "\\n        2 \\n                500\n",
       "\\n        4 \\n                438\n",
       "\\n        1 \\n                166\n",
       "\\n        5 \\n                 16\n",
       "\\n        6 \\n                 13\n",
       "\\n        2 - 3 \\n              3\n",
       "\\n        7 \\n                  1\n",
       "Name: Dorms, dtype: int64"
      ]
     },
     "execution_count": 347,
     "metadata": {},
     "output_type": "execute_result"
    }
   ],
   "source": [
    "#exibe os valores existentes na coluna Dorms, e quantas vezes cada um aparece\n",
    "print(df.Dorms.value_counts().index)\n",
    "df.Dorms.value_counts()"
   ]
  },
  {
   "cell_type": "code",
   "execution_count": 348,
   "metadata": {},
   "outputs": [],
   "source": [
    "#deleta os anúncios que são imcompatíveis com nossa modelagem (mais de uma opção de apartamento no anúncio)\n",
    "df = df[df['Dorms'] != '\\n        2 - 3 \\n        ']"
   ]
  },
  {
   "cell_type": "code",
   "execution_count": 349,
   "metadata": {},
   "outputs": [
    {
     "data": {
      "text/plain": [
       "\\n        3 \\n            946\n",
       "\\n        2 \\n            500\n",
       "\\n        4 \\n            438\n",
       "\\n        1 \\n            166\n",
       "\\n        5 \\n             16\n",
       "\\n        6 \\n             13\n",
       "\\n        7 \\n              1\n",
       "Name: Dorms, dtype: int64"
      ]
     },
     "execution_count": 349,
     "metadata": {},
     "output_type": "execute_result"
    }
   ],
   "source": [
    "#verificando que não temos mais de uma opção de dormitório por anúncio\n",
    "df.Dorms.value_counts()"
   ]
  },
  {
   "cell_type": "markdown",
   "metadata": {},
   "source": [
    "### Vagas de Garagem\n",
    "\n",
    "Na coluna 'Parking Slots', não temos o problema de mais de uma opção de imóvel no mesmo anúncio."
   ]
  },
  {
   "cell_type": "code",
   "execution_count": 350,
   "metadata": {},
   "outputs": [
    {
     "data": {
      "text/plain": [
       "\\n        1 \\n            1136\n",
       "\\n        2 \\n             248\n",
       "\\n        3 \\n              28\n",
       "\\n        4 \\n               1\n",
       "Name: Parking Slots, dtype: int64"
      ]
     },
     "execution_count": 350,
     "metadata": {},
     "output_type": "execute_result"
    }
   ],
   "source": [
    "#verificando que não temos mais de uma opção de vaga de garagem por anúncio\n",
    "df['Parking Slots'].value_counts()"
   ]
  },
  {
   "cell_type": "markdown",
   "metadata": {},
   "source": [
    "### Área\n",
    "\n",
    "Na coluna 'Area', não temos o problema de mais de uma opção de imóvel no mesmo anúncio."
   ]
  },
  {
   "cell_type": "code",
   "execution_count": 351,
   "metadata": {},
   "outputs": [
    {
     "data": {
      "text/plain": [
       "Index(['\\n        90 m²\\n        ', '\\n        80 m²\\n        ',\n",
       "       '\\n        100 m²\\n        ', '\\n        120 m²\\n        ',\n",
       "       '\\n        130 m²\\n        ', '\\n        110 m²\\n        ',\n",
       "       '\\n        150 m²\\n        ', '\\n        95 m²\\n        ',\n",
       "       '\\n        98 m²\\n        ', '\\n        525 m²\\n        ',\n",
       "       ...\n",
       "       '\\n        435 m²\\n        ', '\\n        359 m²\\n        ',\n",
       "       '\\n        31 m²\\n        ', '\\n        398 m²\\n        ',\n",
       "       '\\n        203 m²\\n        ', '\\n        133 m²\\n        ',\n",
       "       '\\n        63 m²\\n        ', '\\n        375 m²\\n        ',\n",
       "       '\\n        178 m²\\n        ', '\\n        554 m²\\n        '],\n",
       "      dtype='object', length=231)"
      ]
     },
     "execution_count": 351,
     "metadata": {},
     "output_type": "execute_result"
    }
   ],
   "source": [
    "#verificando que não temos mais de uma opção de area por anúncio (somente parte dos valores são exibidos abaixo, para não \"sujar\" a tela)\n",
    "df.Area.value_counts().index"
   ]
  },
  {
   "cell_type": "markdown",
   "metadata": {},
   "source": [
    "### Condomínio\n",
    "Na coluna 'Condomínio', não temos o problema de mais de uma opção de imóvel no mesmo anúncio."
   ]
  },
  {
   "cell_type": "code",
   "execution_count": 352,
   "metadata": {},
   "outputs": [
    {
     "data": {
      "text/plain": [
       "Index(['R$ 1.200', 'R$ 1.800', 'R$ 800', 'R$ 1.500', 'R$ 1.000', 'R$ 900',\n",
       "       'R$ 1.100', 'R$ 2.000', 'R$ 1.300', 'R$ 850',\n",
       "       ...\n",
       "       'R$ 3.243', 'R$ 1.580', 'R$ 912', 'R$ 968', 'R$ 1.286', 'R$ 1.361',\n",
       "       'R$ 1.041', 'R$ 2.047', 'R$ 3.638', 'R$ 959'],\n",
       "      dtype='object', length=583)"
      ]
     },
     "execution_count": 352,
     "metadata": {},
     "output_type": "execute_result"
    }
   ],
   "source": [
    "#verificando que não temos mais de uma opção de valor de condominio por anúncio (somente parte dos valores são exibidos abaixo, para não \"sujar\" a tela)\n",
    "df['Condominio'].value_counts().index"
   ]
  },
  {
   "cell_type": "markdown",
   "metadata": {},
   "source": [
    "### IPTU\n",
    "Na coluna 'IPTU', não temos o problema de mais de uma opção de imóvel no mesmo anúncio."
   ]
  },
  {
   "cell_type": "code",
   "execution_count": 353,
   "metadata": {},
   "outputs": [
    {
     "data": {
      "text/plain": [
       "Index(['R$ 2.000', 'R$ 1.800', 'R$ 1.200', 'R$ 1.500', 'R$ 1.700', 'R$ 200',\n",
       "       'R$ 4.000', 'R$ 2.200', 'R$ 1.600', 'R$ 180',\n",
       "       ...\n",
       "       'R$ 309', 'R$ 2.680', 'R$ 2.547', 'R$ 6.186', 'R$ 99', 'R$ 6.731',\n",
       "       'R$ 1.586', 'R$ 695', 'R$ 9.396', 'R$ 3.839'],\n",
       "      dtype='object', length=961)"
      ]
     },
     "execution_count": 353,
     "metadata": {},
     "output_type": "execute_result"
    }
   ],
   "source": [
    "#verificando que não temos mais de uma opção de valor de IPTU por anúncio (somente parte dos valores são exibidos abaixo, para não \"sujar\" a tela)\n",
    "df['IPTU'].value_counts().index"
   ]
  },
  {
   "cell_type": "markdown",
   "metadata": {},
   "source": [
    "### Price\n",
    "Na coluna 'Price', não temos o problema de mais de uma opção de imóvel no mesmo anúncio."
   ]
  },
  {
   "cell_type": "code",
   "execution_count": 354,
   "metadata": {},
   "outputs": [
    {
     "data": {
      "text/plain": [
       "Index(['\\n    R$ 1.100.000\\n    /venda', '\\n    R$ 850.000\\n    /venda',\n",
       "       '\\n    R$ 1.800.000\\n    /venda', '\\n    R$ 950.000\\n    /venda',\n",
       "       '\\n    R$ 1.200.000\\n    /venda', '\\n    R$ 1.490.000\\n    /venda',\n",
       "       '\\n    R$ 1.900.000\\n    /venda', '\\n    R$ 890.000\\n    /venda',\n",
       "       '\\n    R$ 650.000\\n    /venda', '\\n    R$ 1.600.000\\n    /venda',\n",
       "       ...\n",
       "       '\\n    R$ 2.695.000\\n    /venda', '\\n    R$ 3.360.000\\n    /venda',\n",
       "       '\\n    R$ 1.470.000\\n    /venda', '\\n    R$ 1.198.000\\n    /venda',\n",
       "       '\\n    R$ 3.750.000\\n    /venda', '\\n    R$ 1.290.000\\n    /venda',\n",
       "       '\\n    R$ 960.000\\n    /venda', '\\n    R$ 1.488.000\\n    /venda',\n",
       "       '\\n    R$ 585.000\\n    /venda', '\\n    R$ 635.000\\n    /venda'],\n",
       "      dtype='object', length=391)"
      ]
     },
     "execution_count": 354,
     "metadata": {},
     "output_type": "execute_result"
    }
   ],
   "source": [
    "#verificando que não temos mais de uma opção de valor de Preço por anúncio (somente parte dos valores são exibidos abaixo, para não \"sujar\" a tela)\n",
    "df['Price'].value_counts().index"
   ]
  },
  {
   "cell_type": "markdown",
   "metadata": {},
   "source": [
    "# Formatação\n",
    "Por inspeção visual, vemos acima que nossas features estão com uma formatação inapropriada. Por exemplo, a coluna 'Dorms' possui strings como '\\\\', 'n' e espaços nos seus valores.\n",
    "\n",
    "Vamos consertar a formatação, criando uma função que recebe cada um desses valores (em formato de string) e devolve apenas os números (em formato de string) contidos naquela string, que é o que nos interessa."
   ]
  },
  {
   "cell_type": "code",
   "execution_count": 355,
   "metadata": {},
   "outputs": [],
   "source": [
    "#função que retorna somente os digitos presentes numa string.\n",
    "def extract_numbers(string):\n",
    "    \n",
    "    #caso o argumento seja NaN, retorna NaN\n",
    "    #importante porque ainda não tratamos os valores nulos de nossos dados\n",
    "    if pd.isna(string):\n",
    "        return np.NaN\n",
    "    \n",
    "    else:\n",
    "        _digits = ''\n",
    "        for c in string:\n",
    "            if c in [str(i) for i in range (10)]:\n",
    "                _digits = _digits + c\n",
    "        return _digits"
   ]
  },
  {
   "cell_type": "code",
   "execution_count": 356,
   "metadata": {},
   "outputs": [
    {
     "data": {
      "text/html": [
       "<div>\n",
       "<style scoped>\n",
       "    .dataframe tbody tr th:only-of-type {\n",
       "        vertical-align: middle;\n",
       "    }\n",
       "\n",
       "    .dataframe tbody tr th {\n",
       "        vertical-align: top;\n",
       "    }\n",
       "\n",
       "    .dataframe thead th {\n",
       "        text-align: right;\n",
       "    }\n",
       "</style>\n",
       "<table border=\"1\" class=\"dataframe\">\n",
       "  <thead>\n",
       "    <tr style=\"text-align: right;\">\n",
       "      <th></th>\n",
       "      <th>Address</th>\n",
       "      <th>Area</th>\n",
       "      <th>Dorms</th>\n",
       "      <th>Baths</th>\n",
       "      <th>Parking Slots</th>\n",
       "      <th>Condominio</th>\n",
       "      <th>IPTU</th>\n",
       "      <th>Price</th>\n",
       "      <th>Street</th>\n",
       "      <th>Area_</th>\n",
       "      <th>Dorms_</th>\n",
       "      <th>Baths_</th>\n",
       "      <th>Parking Slots_</th>\n",
       "      <th>Condominio_</th>\n",
       "      <th>IPTU_</th>\n",
       "      <th>Price_</th>\n",
       "    </tr>\n",
       "  </thead>\n",
       "  <tbody>\n",
       "    <tr>\n",
       "      <th>3</th>\n",
       "      <td>Rua Barão de Icaraí, Flamengo</td>\n",
       "      <td>\\n        160 m²\\n</td>\n",
       "      <td>\\n        2 \\n</td>\n",
       "      <td>\\n        3 \\n</td>\n",
       "      <td>\\n        2 \\n</td>\n",
       "      <td>R$ 1.200</td>\n",
       "      <td>R$ 433</td>\n",
       "      <td>\\n    R$ 1.800.000\\n    /venda</td>\n",
       "      <td>Barão de Icaraí</td>\n",
       "      <td>160</td>\n",
       "      <td>2</td>\n",
       "      <td>3</td>\n",
       "      <td>2</td>\n",
       "      <td>1200</td>\n",
       "      <td>433</td>\n",
       "      <td>1800000</td>\n",
       "    </tr>\n",
       "    <tr>\n",
       "      <th>4</th>\n",
       "      <td>Rua Barão de Icaraí, Flamengo</td>\n",
       "      <td>\\n        100 m²\\n</td>\n",
       "      <td>\\n        2 \\n</td>\n",
       "      <td>\\n        1 \\n</td>\n",
       "      <td>\\n        2 \\n</td>\n",
       "      <td>R$ 950</td>\n",
       "      <td>R$ 280</td>\n",
       "      <td>\\n    R$ 1.050.000\\n    /venda</td>\n",
       "      <td>Barão de Icaraí</td>\n",
       "      <td>100</td>\n",
       "      <td>2</td>\n",
       "      <td>1</td>\n",
       "      <td>2</td>\n",
       "      <td>950</td>\n",
       "      <td>280</td>\n",
       "      <td>1050000</td>\n",
       "    </tr>\n",
       "    <tr>\n",
       "      <th>5</th>\n",
       "      <td>Rua Barão de Icaraí, Flamengo</td>\n",
       "      <td>\\n        78 m²\\n</td>\n",
       "      <td>\\n        2 \\n</td>\n",
       "      <td>\\n        2 \\n</td>\n",
       "      <td>\\n        1 \\n</td>\n",
       "      <td>R$ 790</td>\n",
       "      <td>R$ 2.202</td>\n",
       "      <td>\\n    R$ 949.999\\n    /venda</td>\n",
       "      <td>Barão de Icaraí</td>\n",
       "      <td>78</td>\n",
       "      <td>2</td>\n",
       "      <td>2</td>\n",
       "      <td>1</td>\n",
       "      <td>790</td>\n",
       "      <td>2202</td>\n",
       "      <td>949999</td>\n",
       "    </tr>\n",
       "    <tr>\n",
       "      <th>6</th>\n",
       "      <td>Rua Barão de Icaraí, Flamengo</td>\n",
       "      <td>\\n        102 m²\\n</td>\n",
       "      <td>\\n        3 \\n</td>\n",
       "      <td>\\n        2 \\n</td>\n",
       "      <td>\\n        1 \\n</td>\n",
       "      <td>R$ 1.100</td>\n",
       "      <td>R$ 214</td>\n",
       "      <td>\\n    R$ 973.000\\n    /venda</td>\n",
       "      <td>Barão de Icaraí</td>\n",
       "      <td>102</td>\n",
       "      <td>3</td>\n",
       "      <td>2</td>\n",
       "      <td>1</td>\n",
       "      <td>1100</td>\n",
       "      <td>214</td>\n",
       "      <td>973000</td>\n",
       "    </tr>\n",
       "    <tr>\n",
       "      <th>7</th>\n",
       "      <td>Rua Barão de Icaraí, Flamengo</td>\n",
       "      <td>\\n        130 m²\\n</td>\n",
       "      <td>\\n        3 \\n</td>\n",
       "      <td>\\n        2 \\n</td>\n",
       "      <td>\\n        1 \\n</td>\n",
       "      <td>R$ 1.650</td>\n",
       "      <td>R$ 295</td>\n",
       "      <td>\\n    R$ 1.150.000\\n    /venda</td>\n",
       "      <td>Barão de Icaraí</td>\n",
       "      <td>130</td>\n",
       "      <td>3</td>\n",
       "      <td>2</td>\n",
       "      <td>1</td>\n",
       "      <td>1650</td>\n",
       "      <td>295</td>\n",
       "      <td>1150000</td>\n",
       "    </tr>\n",
       "  </tbody>\n",
       "</table>\n",
       "</div>"
      ],
      "text/plain": [
       "                         Address                        Area  \\\n",
       "3  Rua Barão de Icaraí, Flamengo  \\n        160 m²\\n           \n",
       "4  Rua Barão de Icaraí, Flamengo  \\n        100 m²\\n           \n",
       "5  Rua Barão de Icaraí, Flamengo   \\n        78 m²\\n           \n",
       "6  Rua Barão de Icaraí, Flamengo  \\n        102 m²\\n           \n",
       "7  Rua Barão de Icaraí, Flamengo  \\n        130 m²\\n           \n",
       "\n",
       "                    Dorms                   Baths           Parking Slots  \\\n",
       "3  \\n        2 \\n          \\n        3 \\n          \\n        2 \\n           \n",
       "4  \\n        2 \\n          \\n        1 \\n          \\n        2 \\n           \n",
       "5  \\n        2 \\n          \\n        2 \\n          \\n        1 \\n           \n",
       "6  \\n        3 \\n          \\n        2 \\n          \\n        1 \\n           \n",
       "7  \\n        3 \\n          \\n        2 \\n          \\n        1 \\n           \n",
       "\n",
       "  Condominio      IPTU                           Price           Street Area_  \\\n",
       "3   R$ 1.200    R$ 433  \\n    R$ 1.800.000\\n    /venda  Barão de Icaraí   160   \n",
       "4     R$ 950    R$ 280  \\n    R$ 1.050.000\\n    /venda  Barão de Icaraí   100   \n",
       "5     R$ 790  R$ 2.202    \\n    R$ 949.999\\n    /venda  Barão de Icaraí    78   \n",
       "6   R$ 1.100    R$ 214    \\n    R$ 973.000\\n    /venda  Barão de Icaraí   102   \n",
       "7   R$ 1.650    R$ 295  \\n    R$ 1.150.000\\n    /venda  Barão de Icaraí   130   \n",
       "\n",
       "  Dorms_ Baths_ Parking Slots_ Condominio_ IPTU_   Price_  \n",
       "3      2      3              2        1200   433  1800000  \n",
       "4      2      1              2         950   280  1050000  \n",
       "5      2      2              1         790  2202   949999  \n",
       "6      3      2              1        1100   214   973000  \n",
       "7      3      2              1        1650   295  1150000  "
      ]
     },
     "execution_count": 356,
     "metadata": {},
     "output_type": "execute_result"
    }
   ],
   "source": [
    "#extraindo somente os números das colunas numéricas\n",
    "df['Area_'] = df.Area.apply(extract_numbers)\n",
    "df['Dorms_'] = df.Dorms.apply(extract_numbers)\n",
    "df['Baths_'] = df.Baths.apply(extract_numbers)\n",
    "df['Parking Slots_'] = df['Parking Slots'].apply(extract_numbers)\n",
    "df['Condominio_'] = df.Condominio.apply(extract_numbers)\n",
    "df['IPTU_'] = df.IPTU.apply(extract_numbers)\n",
    "df['Price_'] = df.Price.apply(extract_numbers)\n",
    "\n",
    "df.head()"
   ]
  },
  {
   "cell_type": "code",
   "execution_count": null,
   "metadata": {},
   "outputs": [],
   "source": []
  },
  {
   "cell_type": "markdown",
   "metadata": {},
   "source": [
    "# Data Types\n",
    "Todos os valores do dataframe são strings. Vamos alterar os valores para numéricos das colunas apropriadas.\n",
    "\n",
    "observação: como algumas colunas possuem valores nulos, não podem ser transformadas para int, somente para float (pandas)."
   ]
  },
  {
   "cell_type": "code",
   "execution_count": 357,
   "metadata": {},
   "outputs": [
    {
     "data": {
      "text/plain": [
       "Address            object\n",
       "Area               object\n",
       "Dorms              object\n",
       "Baths              object\n",
       "Parking Slots      object\n",
       "Condominio         object\n",
       "IPTU               object\n",
       "Price              object\n",
       "Street             object\n",
       "Area_             float64\n",
       "Dorms_            float64\n",
       "Baths_            float64\n",
       "Parking Slots_    float64\n",
       "Condominio_       float64\n",
       "IPTU_             float64\n",
       "Price_            float64\n",
       "dtype: object"
      ]
     },
     "execution_count": 357,
     "metadata": {},
     "output_type": "execute_result"
    }
   ],
   "source": [
    "#Alterando o datatypes para float\n",
    "df['Area_'] = df.Area_.astype(float)\n",
    "df['Dorms_'] = df.Dorms_.astype(float)\n",
    "df['Baths_'] = df.Baths_.astype(float)\n",
    "df['Parking Slots_'] = df['Parking Slots_'].astype(float)\n",
    "df['Condominio_'] = df.Condominio_.astype(float)\n",
    "df['IPTU_'] = df.IPTU_.astype(float)\n",
    "df['Price_'] = df.Price_.astype(float)\n",
    "\n",
    "#Verificando:\n",
    "df.dtypes"
   ]
  },
  {
   "cell_type": "markdown",
   "metadata": {},
   "source": [
    "Vamos eliminar as colunas originais dos dados e ficar somente com as colunas tratadas:"
   ]
  },
  {
   "cell_type": "code",
   "execution_count": 358,
   "metadata": {},
   "outputs": [
    {
     "data": {
      "text/html": [
       "<div>\n",
       "<style scoped>\n",
       "    .dataframe tbody tr th:only-of-type {\n",
       "        vertical-align: middle;\n",
       "    }\n",
       "\n",
       "    .dataframe tbody tr th {\n",
       "        vertical-align: top;\n",
       "    }\n",
       "\n",
       "    .dataframe thead th {\n",
       "        text-align: right;\n",
       "    }\n",
       "</style>\n",
       "<table border=\"1\" class=\"dataframe\">\n",
       "  <thead>\n",
       "    <tr style=\"text-align: right;\">\n",
       "      <th></th>\n",
       "      <th>Street</th>\n",
       "      <th>Area</th>\n",
       "      <th>Dorms</th>\n",
       "      <th>Baths</th>\n",
       "      <th>Parking Slots</th>\n",
       "      <th>Condominio</th>\n",
       "      <th>IPTU</th>\n",
       "      <th>Price</th>\n",
       "    </tr>\n",
       "  </thead>\n",
       "  <tbody>\n",
       "    <tr>\n",
       "      <th>3</th>\n",
       "      <td>Barão de Icaraí</td>\n",
       "      <td>160.0</td>\n",
       "      <td>2.0</td>\n",
       "      <td>3.0</td>\n",
       "      <td>2.0</td>\n",
       "      <td>1200.0</td>\n",
       "      <td>433.0</td>\n",
       "      <td>1800000.0</td>\n",
       "    </tr>\n",
       "    <tr>\n",
       "      <th>4</th>\n",
       "      <td>Barão de Icaraí</td>\n",
       "      <td>100.0</td>\n",
       "      <td>2.0</td>\n",
       "      <td>1.0</td>\n",
       "      <td>2.0</td>\n",
       "      <td>950.0</td>\n",
       "      <td>280.0</td>\n",
       "      <td>1050000.0</td>\n",
       "    </tr>\n",
       "    <tr>\n",
       "      <th>5</th>\n",
       "      <td>Barão de Icaraí</td>\n",
       "      <td>78.0</td>\n",
       "      <td>2.0</td>\n",
       "      <td>2.0</td>\n",
       "      <td>1.0</td>\n",
       "      <td>790.0</td>\n",
       "      <td>2202.0</td>\n",
       "      <td>949999.0</td>\n",
       "    </tr>\n",
       "    <tr>\n",
       "      <th>6</th>\n",
       "      <td>Barão de Icaraí</td>\n",
       "      <td>102.0</td>\n",
       "      <td>3.0</td>\n",
       "      <td>2.0</td>\n",
       "      <td>1.0</td>\n",
       "      <td>1100.0</td>\n",
       "      <td>214.0</td>\n",
       "      <td>973000.0</td>\n",
       "    </tr>\n",
       "    <tr>\n",
       "      <th>7</th>\n",
       "      <td>Barão de Icaraí</td>\n",
       "      <td>130.0</td>\n",
       "      <td>3.0</td>\n",
       "      <td>2.0</td>\n",
       "      <td>1.0</td>\n",
       "      <td>1650.0</td>\n",
       "      <td>295.0</td>\n",
       "      <td>1150000.0</td>\n",
       "    </tr>\n",
       "  </tbody>\n",
       "</table>\n",
       "</div>"
      ],
      "text/plain": [
       "            Street   Area  Dorms  Baths  Parking Slots  Condominio    IPTU  \\\n",
       "3  Barão de Icaraí  160.0    2.0    3.0            2.0      1200.0   433.0   \n",
       "4  Barão de Icaraí  100.0    2.0    1.0            2.0       950.0   280.0   \n",
       "5  Barão de Icaraí   78.0    2.0    2.0            1.0       790.0  2202.0   \n",
       "6  Barão de Icaraí  102.0    3.0    2.0            1.0      1100.0   214.0   \n",
       "7  Barão de Icaraí  130.0    3.0    2.0            1.0      1650.0   295.0   \n",
       "\n",
       "       Price  \n",
       "3  1800000.0  \n",
       "4  1050000.0  \n",
       "5   949999.0  \n",
       "6   973000.0  \n",
       "7  1150000.0  "
      ]
     },
     "execution_count": 358,
     "metadata": {},
     "output_type": "execute_result"
    }
   ],
   "source": [
    "#Pegando apenas as colunas tratadas\n",
    "df = df[['Street', 'Area_', 'Dorms_', 'Baths_', 'Parking Slots_', 'Condominio_', 'IPTU_', 'Price_']]\n",
    "\n",
    "#Renomeando essas colunas\n",
    "df = df.rename(columns={'Area_': 'Area',\n",
    "               'Dorms_': 'Dorms',\n",
    "               'Baths_': 'Baths',\n",
    "               'Parking Slots_': 'Parking Slots',\n",
    "               'Condominio_': 'Condominio',\n",
    "               'IPTU_': 'IPTU',\n",
    "               'Price_': 'Price'})\n",
    "\n",
    "df.head()"
   ]
  },
  {
   "cell_type": "markdown",
   "metadata": {},
   "source": [
    "# Linhas Duplicadas\n",
    "Alguns anúncios pagam para ganhar o status de \"destacado\" e aparecer em múltiplicas páginas da busca, acima dos demais anúncios. Nesse caso, nosso data scrapper pegou mais de uma vez o mesmo anúncio. Esses anúncios destacados vão aparecer como linhas duplicadas em nosso dataframe.\n",
    "\n",
    "Vamos remover as linhas duplicadas (e ficar somente com uma cópia de cada)."
   ]
  },
  {
   "cell_type": "code",
   "execution_count": 359,
   "metadata": {},
   "outputs": [
    {
     "name": "stdout",
     "output_type": "stream",
     "text": [
      "Quantidade de Linhas: 2080\n",
      "Quantidade de Linhas Duplicadas: 92\n",
      "Quantidade de Linhas Restantes: 1988\n"
     ]
    }
   ],
   "source": [
    "print(f\"Quantidade de Linhas: {len(df.index)}\")\n",
    "print(f\"Quantidade de Linhas Duplicadas: {len(df[df.duplicated()].index)}\")\n",
    "\n",
    "#Eliminando as linhas duplicadas\n",
    "df = df[~df.duplicated()]\n",
    "\n",
    "print(f\"Quantidade de Linhas Restantes: {len(df.index)}\")"
   ]
  },
  {
   "cell_type": "markdown",
   "metadata": {},
   "source": [
    "Possuíamos 92 linhas duplicadas. É possível que dois apartamentos diferentes tivesse todas as informações idênticas. Entretanto, acredito que a maior parte das linhas duplicadas se referissem ao mesmo apartamento, que pagou para ser 'destacado'. Por isso, deletei todos esses duplicados."
   ]
  },
  {
   "cell_type": "markdown",
   "metadata": {},
   "source": [
    "# Valores Nulos (Missing Data)\n",
    "Vamos tratar, agora, os valores nulos em nosso conjunto de dados.\n",
    "\n",
    "Abaixo, vemos a quantidade de missing data em cada coluna."
   ]
  },
  {
   "cell_type": "code",
   "execution_count": 360,
   "metadata": {},
   "outputs": [
    {
     "data": {
      "text/plain": [
       "Street             0\n",
       "Area               0\n",
       "Dorms              0\n",
       "Baths              2\n",
       "Parking Slots    656\n",
       "Condominio        64\n",
       "IPTU             225\n",
       "Price              0\n",
       "dtype: int64"
      ]
     },
     "execution_count": 360,
     "metadata": {},
     "output_type": "execute_result"
    }
   ],
   "source": [
    "df.isna().sum()"
   ]
  },
  {
   "cell_type": "markdown",
   "metadata": {},
   "source": [
    "#### Parking Slots\n",
    "Temos 656 apartamentos sem informação de Vagas de Garagem.\n",
    "\n",
    "Abaixo, vemos que nenhum anúncio possui vagas de garagem = 0. Logo, suspeito que, quando um apartamento não tem vagas de garagem, o anúncio no Zap não exibe essa informação. Assim, nosso data scrapper não enxergou esse dado, e ele ficou como nulo.\n",
    "\n",
    "Desse modo, vamos colocar o valor de 0 no lugar dos valores nulos."
   ]
  },
  {
   "cell_type": "code",
   "execution_count": 361,
   "metadata": {},
   "outputs": [
    {
     "data": {
      "text/plain": [
       "1.0    1073\n",
       "2.0     232\n",
       "3.0      26\n",
       "4.0       1\n",
       "Name: Parking Slots, dtype: int64"
      ]
     },
     "execution_count": 361,
     "metadata": {},
     "output_type": "execute_result"
    }
   ],
   "source": [
    "#Contagem de cada valor possível para 'Parking Slots'\n",
    "df['Parking Slots'].value_counts()"
   ]
  },
  {
   "cell_type": "code",
   "execution_count": 362,
   "metadata": {},
   "outputs": [],
   "source": [
    "#substituindo os valores nulos por 0\n",
    "df['Parking Slots'] = df['Parking Slots'].fillna(0)"
   ]
  },
  {
   "cell_type": "code",
   "execution_count": 363,
   "metadata": {},
   "outputs": [
    {
     "data": {
      "text/plain": [
       "1.0    1073\n",
       "0.0     656\n",
       "2.0     232\n",
       "3.0      26\n",
       "4.0       1\n",
       "Name: Parking Slots, dtype: int64"
      ]
     },
     "execution_count": 363,
     "metadata": {},
     "output_type": "execute_result"
    }
   ],
   "source": [
    "#Nova contagem para verificar que os 656 valores que eram nulos agora são 0\n",
    "df['Parking Slots'].value_counts()"
   ]
  },
  {
   "cell_type": "markdown",
   "metadata": {},
   "source": [
    "#### Banheiros\n",
    "Temos apenas 2 apartamentos sem informação de quantidade de banheiros. Como é uma quantidade de baixíssima relevância, vamos eliminar essas 2 linhas de nosso dataframe."
   ]
  },
  {
   "cell_type": "code",
   "execution_count": 364,
   "metadata": {},
   "outputs": [],
   "source": [
    "#removendo dos dados as linhas com valor nulo de Baths\n",
    "df = df.dropna(axis = 0, subset=['Baths'])"
   ]
  },
  {
   "cell_type": "code",
   "execution_count": 365,
   "metadata": {},
   "outputs": [
    {
     "data": {
      "text/html": [
       "<div>\n",
       "<style scoped>\n",
       "    .dataframe tbody tr th:only-of-type {\n",
       "        vertical-align: middle;\n",
       "    }\n",
       "\n",
       "    .dataframe tbody tr th {\n",
       "        vertical-align: top;\n",
       "    }\n",
       "\n",
       "    .dataframe thead th {\n",
       "        text-align: right;\n",
       "    }\n",
       "</style>\n",
       "<table border=\"1\" class=\"dataframe\">\n",
       "  <thead>\n",
       "    <tr style=\"text-align: right;\">\n",
       "      <th></th>\n",
       "      <th>Street</th>\n",
       "      <th>Area</th>\n",
       "      <th>Dorms</th>\n",
       "      <th>Baths</th>\n",
       "      <th>Parking Slots</th>\n",
       "      <th>Condominio</th>\n",
       "      <th>IPTU</th>\n",
       "      <th>Price</th>\n",
       "    </tr>\n",
       "  </thead>\n",
       "  <tbody>\n",
       "    <tr>\n",
       "      <th>3</th>\n",
       "      <td>Barão de Icaraí</td>\n",
       "      <td>160.0</td>\n",
       "      <td>2.0</td>\n",
       "      <td>3.0</td>\n",
       "      <td>2.0</td>\n",
       "      <td>1200.0</td>\n",
       "      <td>433.0</td>\n",
       "      <td>1800000.0</td>\n",
       "    </tr>\n",
       "    <tr>\n",
       "      <th>4</th>\n",
       "      <td>Barão de Icaraí</td>\n",
       "      <td>100.0</td>\n",
       "      <td>2.0</td>\n",
       "      <td>1.0</td>\n",
       "      <td>2.0</td>\n",
       "      <td>950.0</td>\n",
       "      <td>280.0</td>\n",
       "      <td>1050000.0</td>\n",
       "    </tr>\n",
       "    <tr>\n",
       "      <th>5</th>\n",
       "      <td>Barão de Icaraí</td>\n",
       "      <td>78.0</td>\n",
       "      <td>2.0</td>\n",
       "      <td>2.0</td>\n",
       "      <td>1.0</td>\n",
       "      <td>790.0</td>\n",
       "      <td>2202.0</td>\n",
       "      <td>949999.0</td>\n",
       "    </tr>\n",
       "    <tr>\n",
       "      <th>6</th>\n",
       "      <td>Barão de Icaraí</td>\n",
       "      <td>102.0</td>\n",
       "      <td>3.0</td>\n",
       "      <td>2.0</td>\n",
       "      <td>1.0</td>\n",
       "      <td>1100.0</td>\n",
       "      <td>214.0</td>\n",
       "      <td>973000.0</td>\n",
       "    </tr>\n",
       "    <tr>\n",
       "      <th>7</th>\n",
       "      <td>Barão de Icaraí</td>\n",
       "      <td>130.0</td>\n",
       "      <td>3.0</td>\n",
       "      <td>2.0</td>\n",
       "      <td>1.0</td>\n",
       "      <td>1650.0</td>\n",
       "      <td>295.0</td>\n",
       "      <td>1150000.0</td>\n",
       "    </tr>\n",
       "    <tr>\n",
       "      <th>...</th>\n",
       "      <td>...</td>\n",
       "      <td>...</td>\n",
       "      <td>...</td>\n",
       "      <td>...</td>\n",
       "      <td>...</td>\n",
       "      <td>...</td>\n",
       "      <td>...</td>\n",
       "      <td>...</td>\n",
       "    </tr>\n",
       "    <tr>\n",
       "      <th>2884</th>\n",
       "      <td>Senador Vergueiro</td>\n",
       "      <td>385.0</td>\n",
       "      <td>5.0</td>\n",
       "      <td>3.0</td>\n",
       "      <td>1.0</td>\n",
       "      <td>3680.0</td>\n",
       "      <td>878.0</td>\n",
       "      <td>2500000.0</td>\n",
       "    </tr>\n",
       "    <tr>\n",
       "      <th>2885</th>\n",
       "      <td>Senador Vergueiro</td>\n",
       "      <td>198.0</td>\n",
       "      <td>4.0</td>\n",
       "      <td>4.0</td>\n",
       "      <td>1.0</td>\n",
       "      <td>1600.0</td>\n",
       "      <td>491.0</td>\n",
       "      <td>1800000.0</td>\n",
       "    </tr>\n",
       "    <tr>\n",
       "      <th>2886</th>\n",
       "      <td>Senador Vergueiro</td>\n",
       "      <td>160.0</td>\n",
       "      <td>3.0</td>\n",
       "      <td>3.0</td>\n",
       "      <td>1.0</td>\n",
       "      <td>1500.0</td>\n",
       "      <td>3840.0</td>\n",
       "      <td>2030000.0</td>\n",
       "    </tr>\n",
       "    <tr>\n",
       "      <th>2887</th>\n",
       "      <td>Senador Vergueiro</td>\n",
       "      <td>220.0</td>\n",
       "      <td>4.0</td>\n",
       "      <td>3.0</td>\n",
       "      <td>1.0</td>\n",
       "      <td>1555.0</td>\n",
       "      <td>46440.0</td>\n",
       "      <td>2240000.0</td>\n",
       "    </tr>\n",
       "    <tr>\n",
       "      <th>2888</th>\n",
       "      <td>Senador Vergueiro</td>\n",
       "      <td>218.0</td>\n",
       "      <td>4.0</td>\n",
       "      <td>3.0</td>\n",
       "      <td>1.0</td>\n",
       "      <td>NaN</td>\n",
       "      <td>46440.0</td>\n",
       "      <td>2240000.0</td>\n",
       "    </tr>\n",
       "  </tbody>\n",
       "</table>\n",
       "<p>1986 rows × 8 columns</p>\n",
       "</div>"
      ],
      "text/plain": [
       "                 Street   Area  Dorms  Baths  Parking Slots  Condominio  \\\n",
       "3       Barão de Icaraí  160.0    2.0    3.0            2.0      1200.0   \n",
       "4       Barão de Icaraí  100.0    2.0    1.0            2.0       950.0   \n",
       "5       Barão de Icaraí   78.0    2.0    2.0            1.0       790.0   \n",
       "6       Barão de Icaraí  102.0    3.0    2.0            1.0      1100.0   \n",
       "7       Barão de Icaraí  130.0    3.0    2.0            1.0      1650.0   \n",
       "...                 ...    ...    ...    ...            ...         ...   \n",
       "2884  Senador Vergueiro  385.0    5.0    3.0            1.0      3680.0   \n",
       "2885  Senador Vergueiro  198.0    4.0    4.0            1.0      1600.0   \n",
       "2886  Senador Vergueiro  160.0    3.0    3.0            1.0      1500.0   \n",
       "2887  Senador Vergueiro  220.0    4.0    3.0            1.0      1555.0   \n",
       "2888  Senador Vergueiro  218.0    4.0    3.0            1.0         NaN   \n",
       "\n",
       "         IPTU      Price  \n",
       "3       433.0  1800000.0  \n",
       "4       280.0  1050000.0  \n",
       "5      2202.0   949999.0  \n",
       "6       214.0   973000.0  \n",
       "7       295.0  1150000.0  \n",
       "...       ...        ...  \n",
       "2884    878.0  2500000.0  \n",
       "2885    491.0  1800000.0  \n",
       "2886   3840.0  2030000.0  \n",
       "2887  46440.0  2240000.0  \n",
       "2888  46440.0  2240000.0  \n",
       "\n",
       "[1986 rows x 8 columns]"
      ]
     },
     "execution_count": 365,
     "metadata": {},
     "output_type": "execute_result"
    }
   ],
   "source": [
    "df"
   ]
  },
  {
   "cell_type": "markdown",
   "metadata": {},
   "source": [
    "#### Condomínio\n",
    "Temos 63 apartamentos sem informação sobre o valor do condomínio, que representa cerca de 3% de nossos dados. Como a quantidade é de pouca significância, vamos eliminar as linhas."
   ]
  },
  {
   "cell_type": "code",
   "execution_count": 366,
   "metadata": {},
   "outputs": [],
   "source": [
    "#removendo dos dados as linhas com valor nulo de Condominio\n",
    "df = df.dropna(axis = 0, subset=['Condominio'])"
   ]
  },
  {
   "cell_type": "code",
   "execution_count": 367,
   "metadata": {},
   "outputs": [
    {
     "data": {
      "text/html": [
       "<div>\n",
       "<style scoped>\n",
       "    .dataframe tbody tr th:only-of-type {\n",
       "        vertical-align: middle;\n",
       "    }\n",
       "\n",
       "    .dataframe tbody tr th {\n",
       "        vertical-align: top;\n",
       "    }\n",
       "\n",
       "    .dataframe thead th {\n",
       "        text-align: right;\n",
       "    }\n",
       "</style>\n",
       "<table border=\"1\" class=\"dataframe\">\n",
       "  <thead>\n",
       "    <tr style=\"text-align: right;\">\n",
       "      <th></th>\n",
       "      <th>Street</th>\n",
       "      <th>Area</th>\n",
       "      <th>Dorms</th>\n",
       "      <th>Baths</th>\n",
       "      <th>Parking Slots</th>\n",
       "      <th>Condominio</th>\n",
       "      <th>IPTU</th>\n",
       "      <th>Price</th>\n",
       "    </tr>\n",
       "  </thead>\n",
       "  <tbody>\n",
       "    <tr>\n",
       "      <th>3</th>\n",
       "      <td>Barão de Icaraí</td>\n",
       "      <td>160.0</td>\n",
       "      <td>2.0</td>\n",
       "      <td>3.0</td>\n",
       "      <td>2.0</td>\n",
       "      <td>1200.0</td>\n",
       "      <td>433.0</td>\n",
       "      <td>1800000.0</td>\n",
       "    </tr>\n",
       "    <tr>\n",
       "      <th>4</th>\n",
       "      <td>Barão de Icaraí</td>\n",
       "      <td>100.0</td>\n",
       "      <td>2.0</td>\n",
       "      <td>1.0</td>\n",
       "      <td>2.0</td>\n",
       "      <td>950.0</td>\n",
       "      <td>280.0</td>\n",
       "      <td>1050000.0</td>\n",
       "    </tr>\n",
       "    <tr>\n",
       "      <th>5</th>\n",
       "      <td>Barão de Icaraí</td>\n",
       "      <td>78.0</td>\n",
       "      <td>2.0</td>\n",
       "      <td>2.0</td>\n",
       "      <td>1.0</td>\n",
       "      <td>790.0</td>\n",
       "      <td>2202.0</td>\n",
       "      <td>949999.0</td>\n",
       "    </tr>\n",
       "    <tr>\n",
       "      <th>6</th>\n",
       "      <td>Barão de Icaraí</td>\n",
       "      <td>102.0</td>\n",
       "      <td>3.0</td>\n",
       "      <td>2.0</td>\n",
       "      <td>1.0</td>\n",
       "      <td>1100.0</td>\n",
       "      <td>214.0</td>\n",
       "      <td>973000.0</td>\n",
       "    </tr>\n",
       "    <tr>\n",
       "      <th>7</th>\n",
       "      <td>Barão de Icaraí</td>\n",
       "      <td>130.0</td>\n",
       "      <td>3.0</td>\n",
       "      <td>2.0</td>\n",
       "      <td>1.0</td>\n",
       "      <td>1650.0</td>\n",
       "      <td>295.0</td>\n",
       "      <td>1150000.0</td>\n",
       "    </tr>\n",
       "    <tr>\n",
       "      <th>...</th>\n",
       "      <td>...</td>\n",
       "      <td>...</td>\n",
       "      <td>...</td>\n",
       "      <td>...</td>\n",
       "      <td>...</td>\n",
       "      <td>...</td>\n",
       "      <td>...</td>\n",
       "      <td>...</td>\n",
       "    </tr>\n",
       "    <tr>\n",
       "      <th>2880</th>\n",
       "      <td>Senador Vergueiro</td>\n",
       "      <td>385.0</td>\n",
       "      <td>5.0</td>\n",
       "      <td>3.0</td>\n",
       "      <td>1.0</td>\n",
       "      <td>3680.0</td>\n",
       "      <td>8787.0</td>\n",
       "      <td>2450000.0</td>\n",
       "    </tr>\n",
       "    <tr>\n",
       "      <th>2884</th>\n",
       "      <td>Senador Vergueiro</td>\n",
       "      <td>385.0</td>\n",
       "      <td>5.0</td>\n",
       "      <td>3.0</td>\n",
       "      <td>1.0</td>\n",
       "      <td>3680.0</td>\n",
       "      <td>878.0</td>\n",
       "      <td>2500000.0</td>\n",
       "    </tr>\n",
       "    <tr>\n",
       "      <th>2885</th>\n",
       "      <td>Senador Vergueiro</td>\n",
       "      <td>198.0</td>\n",
       "      <td>4.0</td>\n",
       "      <td>4.0</td>\n",
       "      <td>1.0</td>\n",
       "      <td>1600.0</td>\n",
       "      <td>491.0</td>\n",
       "      <td>1800000.0</td>\n",
       "    </tr>\n",
       "    <tr>\n",
       "      <th>2886</th>\n",
       "      <td>Senador Vergueiro</td>\n",
       "      <td>160.0</td>\n",
       "      <td>3.0</td>\n",
       "      <td>3.0</td>\n",
       "      <td>1.0</td>\n",
       "      <td>1500.0</td>\n",
       "      <td>3840.0</td>\n",
       "      <td>2030000.0</td>\n",
       "    </tr>\n",
       "    <tr>\n",
       "      <th>2887</th>\n",
       "      <td>Senador Vergueiro</td>\n",
       "      <td>220.0</td>\n",
       "      <td>4.0</td>\n",
       "      <td>3.0</td>\n",
       "      <td>1.0</td>\n",
       "      <td>1555.0</td>\n",
       "      <td>46440.0</td>\n",
       "      <td>2240000.0</td>\n",
       "    </tr>\n",
       "  </tbody>\n",
       "</table>\n",
       "<p>1922 rows × 8 columns</p>\n",
       "</div>"
      ],
      "text/plain": [
       "                 Street   Area  Dorms  Baths  Parking Slots  Condominio  \\\n",
       "3       Barão de Icaraí  160.0    2.0    3.0            2.0      1200.0   \n",
       "4       Barão de Icaraí  100.0    2.0    1.0            2.0       950.0   \n",
       "5       Barão de Icaraí   78.0    2.0    2.0            1.0       790.0   \n",
       "6       Barão de Icaraí  102.0    3.0    2.0            1.0      1100.0   \n",
       "7       Barão de Icaraí  130.0    3.0    2.0            1.0      1650.0   \n",
       "...                 ...    ...    ...    ...            ...         ...   \n",
       "2880  Senador Vergueiro  385.0    5.0    3.0            1.0      3680.0   \n",
       "2884  Senador Vergueiro  385.0    5.0    3.0            1.0      3680.0   \n",
       "2885  Senador Vergueiro  198.0    4.0    4.0            1.0      1600.0   \n",
       "2886  Senador Vergueiro  160.0    3.0    3.0            1.0      1500.0   \n",
       "2887  Senador Vergueiro  220.0    4.0    3.0            1.0      1555.0   \n",
       "\n",
       "         IPTU      Price  \n",
       "3       433.0  1800000.0  \n",
       "4       280.0  1050000.0  \n",
       "5      2202.0   949999.0  \n",
       "6       214.0   973000.0  \n",
       "7       295.0  1150000.0  \n",
       "...       ...        ...  \n",
       "2880   8787.0  2450000.0  \n",
       "2884    878.0  2500000.0  \n",
       "2885    491.0  1800000.0  \n",
       "2886   3840.0  2030000.0  \n",
       "2887  46440.0  2240000.0  \n",
       "\n",
       "[1922 rows x 8 columns]"
      ]
     },
     "execution_count": 367,
     "metadata": {},
     "output_type": "execute_result"
    }
   ],
   "source": [
    "df"
   ]
  },
  {
   "cell_type": "markdown",
   "metadata": {},
   "source": [
    "#### IPTU\n",
    "Ficamos com 168 apartamentos sem informação sobre o valor do IPTU, que representa cerca de 9% dos dados restantes.\n",
    "\n",
    "Por enquanto, vamos manter esses valores como nulos. Assim, mais à frente, temos como opções:\n",
    "1. Usar um modelo xgboost, que sabe trabalhar com valores nulos.\n",
    "2. Criar um modelo secundário que prevê o valor de do IPTU com base nas outras features, e usar essa previsão no lugar dos valores nulos\n",
    "3. Substituir o valores nulos pela média do IPTU de outros apartamentos que tenham características similares àquele de IPTU nulo."
   ]
  },
  {
   "cell_type": "code",
   "execution_count": 368,
   "metadata": {},
   "outputs": [
    {
     "name": "stdout",
     "output_type": "stream",
     "text": [
      "Quantidade de Linhas com IPTU NaN: 168\n"
     ]
    }
   ],
   "source": [
    "print(f\"Quantidade de Linhas com IPTU NaN: {df.isna().sum().IPTU}\")"
   ]
  },
  {
   "cell_type": "markdown",
   "metadata": {},
   "source": [
    "#### Dados após tratamento de missing data\n",
    "Abaixo, verificamos que ficamos com 1922 linhas restantes. Dessas, os únicos missing data que ainda temos são 168 linhas sem informação do IPTU."
   ]
  },
  {
   "cell_type": "code",
   "execution_count": 369,
   "metadata": {},
   "outputs": [
    {
     "name": "stdout",
     "output_type": "stream",
     "text": [
      "Quantidade de Linhas Restantes: 1922\n"
     ]
    },
    {
     "data": {
      "text/plain": [
       "Street             0\n",
       "Area               0\n",
       "Dorms              0\n",
       "Baths              0\n",
       "Parking Slots      0\n",
       "Condominio         0\n",
       "IPTU             168\n",
       "Price              0\n",
       "dtype: int64"
      ]
     },
     "execution_count": 369,
     "metadata": {},
     "output_type": "execute_result"
    }
   ],
   "source": [
    "print(f\"Quantidade de Linhas Restantes: {len(df.index)}\")\n",
    "\n",
    "#missing data restantes\n",
    "df.isna().sum()"
   ]
  },
  {
   "cell_type": "markdown",
   "metadata": {},
   "source": [
    "# Datatypes inteiros\n",
    "Havíamos convertido algumas colunas numéricas que deveriam ser do tipo 'int' para 'float', pois somente o 'float' admite missing data. Agora que essas colunas não possuem mais missing data, vamos convertê-las para 'int'."
   ]
  },
  {
   "cell_type": "code",
   "execution_count": null,
   "metadata": {},
   "outputs": [],
   "source": [
    "#convertendo para inteiro, ao invés de float\n",
    "df['Dorms'] = df.Dorms.astype(int)\n",
    "df['Baths'] = df.Baths.astype(int)\n",
    "df['Parking Slots'] = df['Parking Slots'].astype(int)"
   ]
  },
  {
   "cell_type": "code",
   "execution_count": 371,
   "metadata": {},
   "outputs": [
    {
     "data": {
      "text/plain": [
       "Street            object\n",
       "Area             float64\n",
       "Dorms              int32\n",
       "Baths              int32\n",
       "Parking Slots      int32\n",
       "Condominio       float64\n",
       "IPTU             float64\n",
       "Price            float64\n",
       "dtype: object"
      ]
     },
     "execution_count": 371,
     "metadata": {},
     "output_type": "execute_result"
    }
   ],
   "source": [
    "df.dtypes"
   ]
  },
  {
   "cell_type": "markdown",
   "metadata": {},
   "source": [
    "# Partindo para a Análise Exploratória de Dados\n",
    "Agora que nossos dados estão com formato apropriado, podemos fazer a análise exploratória de dados e, depois, a modelagem.\n",
    "\n",
    "Vamos exportar esses dados tratados para um .csv."
   ]
  },
  {
   "cell_type": "code",
   "execution_count": 372,
   "metadata": {},
   "outputs": [],
   "source": [
    "df.to_csv('data/wrangled_data.csv', index=False)"
   ]
  },
  {
   "cell_type": "markdown",
   "metadata": {},
   "source": [
    "Abaixo, verificamos algumas informações sobre nossos dados finais."
   ]
  },
  {
   "cell_type": "code",
   "execution_count": 373,
   "metadata": {},
   "outputs": [
    {
     "data": {
      "text/html": [
       "<div>\n",
       "<style scoped>\n",
       "    .dataframe tbody tr th:only-of-type {\n",
       "        vertical-align: middle;\n",
       "    }\n",
       "\n",
       "    .dataframe tbody tr th {\n",
       "        vertical-align: top;\n",
       "    }\n",
       "\n",
       "    .dataframe thead th {\n",
       "        text-align: right;\n",
       "    }\n",
       "</style>\n",
       "<table border=\"1\" class=\"dataframe\">\n",
       "  <thead>\n",
       "    <tr style=\"text-align: right;\">\n",
       "      <th></th>\n",
       "      <th>Street</th>\n",
       "      <th>Area</th>\n",
       "      <th>Dorms</th>\n",
       "      <th>Baths</th>\n",
       "      <th>Parking Slots</th>\n",
       "      <th>Condominio</th>\n",
       "      <th>IPTU</th>\n",
       "      <th>Price</th>\n",
       "    </tr>\n",
       "  </thead>\n",
       "  <tbody>\n",
       "    <tr>\n",
       "      <th>3</th>\n",
       "      <td>Barão de Icaraí</td>\n",
       "      <td>160.0</td>\n",
       "      <td>2</td>\n",
       "      <td>3</td>\n",
       "      <td>2</td>\n",
       "      <td>1200.0</td>\n",
       "      <td>433.0</td>\n",
       "      <td>1800000.0</td>\n",
       "    </tr>\n",
       "    <tr>\n",
       "      <th>4</th>\n",
       "      <td>Barão de Icaraí</td>\n",
       "      <td>100.0</td>\n",
       "      <td>2</td>\n",
       "      <td>1</td>\n",
       "      <td>2</td>\n",
       "      <td>950.0</td>\n",
       "      <td>280.0</td>\n",
       "      <td>1050000.0</td>\n",
       "    </tr>\n",
       "    <tr>\n",
       "      <th>5</th>\n",
       "      <td>Barão de Icaraí</td>\n",
       "      <td>78.0</td>\n",
       "      <td>2</td>\n",
       "      <td>2</td>\n",
       "      <td>1</td>\n",
       "      <td>790.0</td>\n",
       "      <td>2202.0</td>\n",
       "      <td>949999.0</td>\n",
       "    </tr>\n",
       "  </tbody>\n",
       "</table>\n",
       "</div>"
      ],
      "text/plain": [
       "            Street   Area  Dorms  Baths  Parking Slots  Condominio    IPTU  \\\n",
       "3  Barão de Icaraí  160.0      2      3              2      1200.0   433.0   \n",
       "4  Barão de Icaraí  100.0      2      1              2       950.0   280.0   \n",
       "5  Barão de Icaraí   78.0      2      2              1       790.0  2202.0   \n",
       "\n",
       "       Price  \n",
       "3  1800000.0  \n",
       "4  1050000.0  \n",
       "5   949999.0  "
      ]
     },
     "execution_count": 373,
     "metadata": {},
     "output_type": "execute_result"
    }
   ],
   "source": [
    "df.head(3)"
   ]
  },
  {
   "cell_type": "code",
   "execution_count": 374,
   "metadata": {},
   "outputs": [
    {
     "data": {
      "text/plain": [
       "3    852\n",
       "2    467\n",
       "4    414\n",
       "1    159\n",
       "5     16\n",
       "6     13\n",
       "7      1\n",
       "Name: Dorms, dtype: int64"
      ]
     },
     "execution_count": 374,
     "metadata": {},
     "output_type": "execute_result"
    }
   ],
   "source": [
    "df.Dorms.value_counts()"
   ]
  },
  {
   "cell_type": "code",
   "execution_count": 375,
   "metadata": {},
   "outputs": [
    {
     "data": {
      "text/plain": [
       "2     632\n",
       "3     595\n",
       "1     363\n",
       "4     219\n",
       "5      73\n",
       "6      26\n",
       "7       9\n",
       "8       3\n",
       "11      1\n",
       "9       1\n",
       "Name: Baths, dtype: int64"
      ]
     },
     "execution_count": 375,
     "metadata": {},
     "output_type": "execute_result"
    }
   ],
   "source": [
    "df.Baths.value_counts()"
   ]
  },
  {
   "cell_type": "code",
   "execution_count": 376,
   "metadata": {},
   "outputs": [
    {
     "data": {
      "text/plain": [
       "1    1052\n",
       "0     640\n",
       "2     204\n",
       "3      25\n",
       "4       1\n",
       "Name: Parking Slots, dtype: int64"
      ]
     },
     "execution_count": 376,
     "metadata": {},
     "output_type": "execute_result"
    }
   ],
   "source": [
    "df['Parking Slots'].value_counts()"
   ]
  },
  {
   "cell_type": "code",
   "execution_count": 377,
   "metadata": {},
   "outputs": [
    {
     "data": {
      "text/plain": [
       "Senador Vergueiro      528\n",
       "Marquês de Abrantes    408\n",
       "Oswaldo Cruz           353\n",
       "Rui Barbosa            347\n",
       "Senador Euzebio         60\n",
       "Barão de Icaraí         56\n",
       "Cruz Lima               53\n",
       "Honório de Barros       39\n",
       "Fernando Osório         34\n",
       "Marquês de Paraná       28\n",
       "Princesa Januaria       16\n",
       "Name: Street, dtype: int64"
      ]
     },
     "execution_count": 377,
     "metadata": {},
     "output_type": "execute_result"
    }
   ],
   "source": [
    "df.Street.value_counts()"
   ]
  }
 ],
 "metadata": {
  "kernelspec": {
   "display_name": "Python 3",
   "language": "python",
   "name": "python3"
  },
  "language_info": {
   "codemirror_mode": {
    "name": "ipython",
    "version": 3
   },
   "file_extension": ".py",
   "mimetype": "text/x-python",
   "name": "python",
   "nbconvert_exporter": "python",
   "pygments_lexer": "ipython3",
   "version": "3.8.2"
  }
 },
 "nbformat": 4,
 "nbformat_minor": 4
}
