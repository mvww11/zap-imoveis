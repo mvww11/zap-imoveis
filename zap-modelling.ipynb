{
 "cells": [
  {
   "cell_type": "code",
   "execution_count": 1,
   "metadata": {
    "_cell_guid": "b1076dfc-b9ad-4769-8c92-a6c4dae69d19",
    "_uuid": "8f2839f25d086af736a60e9eeb907d3b93b6e0e5",
    "execution": {
     "iopub.execute_input": "2020-11-06T20:35:29.310590Z",
     "iopub.status.busy": "2020-11-06T20:35:29.309529Z",
     "iopub.status.idle": "2020-11-06T20:35:29.316353Z",
     "shell.execute_reply": "2020-11-06T20:35:29.315325Z"
    },
    "papermill": {
     "duration": 0.054336,
     "end_time": "2020-11-06T20:35:29.316530",
     "exception": false,
     "start_time": "2020-11-06T20:35:29.262194",
     "status": "completed"
    },
    "tags": []
   },
   "outputs": [
    {
     "name": "stdout",
     "output_type": "stream",
     "text": [
      "/kaggle/input/zap20201028/wrangled_data2.csv\n"
     ]
    }
   ],
   "source": [
    "# This Python 3 environment comes with many helpful analytics libraries installed\n",
    "# It is defined by the kaggle/python Docker image: https://github.com/kaggle/docker-python\n",
    "# For example, here's several helpful packages to load\n",
    "\n",
    "import numpy as np # linear algebra\n",
    "import pandas as pd # data processing, CSV file I/O (e.g. pd.read_csv)\n",
    "\n",
    "# Input data files are available in the read-only \"../input/\" directory\n",
    "# For example, running this (by clicking run or pressing Shift+Enter) will list all files under the input directory\n",
    "\n",
    "import os\n",
    "for dirname, _, filenames in os.walk('/kaggle/input'):\n",
    "    for filename in filenames:\n",
    "        print(os.path.join(dirname, filename))\n",
    "\n",
    "# You can write up to 20GB to the current directory (/kaggle/working/) that gets preserved as output when you create a version using \"Save & Run All\" \n",
    "# You can also write temporary files to /kaggle/temp/, but they won't be saved outside of the current session"
   ]
  },
  {
   "cell_type": "code",
   "execution_count": 2,
   "metadata": {
    "execution": {
     "iopub.execute_input": "2020-11-06T20:35:29.407429Z",
     "iopub.status.busy": "2020-11-06T20:35:29.406642Z",
     "iopub.status.idle": "2020-11-06T20:35:29.410440Z",
     "shell.execute_reply": "2020-11-06T20:35:29.409836Z"
    },
    "papermill": {
     "duration": 0.046639,
     "end_time": "2020-11-06T20:35:29.410597",
     "exception": false,
     "start_time": "2020-11-06T20:35:29.363958",
     "status": "completed"
    },
    "tags": []
   },
   "outputs": [],
   "source": [
    "#import seaborn as sns\n",
    "#!pip install --upgrade seaborn\n",
    "#sns.__version__"
   ]
  },
  {
   "cell_type": "markdown",
   "metadata": {
    "papermill": {
     "duration": 0.037207,
     "end_time": "2020-11-06T20:35:29.485796",
     "exception": false,
     "start_time": "2020-11-06T20:35:29.448589",
     "status": "completed"
    },
    "tags": []
   },
   "source": [
    "# Modelagem\n",
    "Agora, com nossos dados já tratados, seguiremos para a modelagem.\n",
    "\n",
    "Nesse arquivo, treinaremos nosso modelo para fazer a regressão do valor de venda do imóvel. Utilizaremos o algoritmo XGBoost, que é uma implementação otimizada de Gradient Boosting. O Gradient Boosting é um algoritmo de ensemble no qual treinamos classificadores de forma sequencial, em que cada classificador tenta corrigir os erros dos anteriores por meio da modalagem dos resíduos deixados por eles.\n",
    "\n",
    "* Utilizamos a técnica de otimização bayesiana para fazer o refinamento dos hiperparâmetros do xgboost.\n",
    "* O modelo final alcançou um erro absoluto médio de R\\\\$ 151.812,00 no conjunto de teste (pontos nunca vistos pelo modelo)."
   ]
  },
  {
   "cell_type": "code",
   "execution_count": 3,
   "metadata": {
    "_cell_guid": "79c7e3d0-c299-4dcb-8224-4455121ee9b0",
    "_uuid": "d629ff2d2480ee46fbb7e2d37f6b5fab8052498a",
    "execution": {
     "iopub.execute_input": "2020-11-06T20:35:29.566150Z",
     "iopub.status.busy": "2020-11-06T20:35:29.565280Z",
     "iopub.status.idle": "2020-11-06T20:35:31.747171Z",
     "shell.execute_reply": "2020-11-06T20:35:31.746337Z"
    },
    "papermill": {
     "duration": 2.224515,
     "end_time": "2020-11-06T20:35:31.747313",
     "exception": false,
     "start_time": "2020-11-06T20:35:29.522798",
     "status": "completed"
    },
    "tags": []
   },
   "outputs": [],
   "source": [
    "import pandas as pd\n",
    "from xgboost import XGBRegressor\n",
    "import xgboost as xgb\n",
    "import matplotlib.pyplot as plt\n",
    "from sklearn import metrics\n",
    "import seaborn as sns"
   ]
  },
  {
   "cell_type": "code",
   "execution_count": 4,
   "metadata": {
    "execution": {
     "iopub.execute_input": "2020-11-06T20:35:31.828340Z",
     "iopub.status.busy": "2020-11-06T20:35:31.827518Z",
     "iopub.status.idle": "2020-11-06T20:35:31.867308Z",
     "shell.execute_reply": "2020-11-06T20:35:31.866683Z"
    },
    "papermill": {
     "duration": 0.082686,
     "end_time": "2020-11-06T20:35:31.867455",
     "exception": false,
     "start_time": "2020-11-06T20:35:31.784769",
     "status": "completed"
    },
    "tags": []
   },
   "outputs": [
    {
     "data": {
      "text/html": [
       "<div>\n",
       "<style scoped>\n",
       "    .dataframe tbody tr th:only-of-type {\n",
       "        vertical-align: middle;\n",
       "    }\n",
       "\n",
       "    .dataframe tbody tr th {\n",
       "        vertical-align: top;\n",
       "    }\n",
       "\n",
       "    .dataframe thead th {\n",
       "        text-align: right;\n",
       "    }\n",
       "</style>\n",
       "<table border=\"1\" class=\"dataframe\">\n",
       "  <thead>\n",
       "    <tr style=\"text-align: right;\">\n",
       "      <th></th>\n",
       "      <th>Street</th>\n",
       "      <th>Area</th>\n",
       "      <th>Dorms</th>\n",
       "      <th>Baths</th>\n",
       "      <th>Parking Slots</th>\n",
       "      <th>Condominio</th>\n",
       "      <th>IPTU</th>\n",
       "      <th>Price</th>\n",
       "    </tr>\n",
       "  </thead>\n",
       "  <tbody>\n",
       "    <tr>\n",
       "      <th>0</th>\n",
       "      <td>Barão de Icaraí</td>\n",
       "      <td>160.0</td>\n",
       "      <td>2</td>\n",
       "      <td>3</td>\n",
       "      <td>2</td>\n",
       "      <td>1200.0</td>\n",
       "      <td>433.0</td>\n",
       "      <td>1800000.0</td>\n",
       "    </tr>\n",
       "    <tr>\n",
       "      <th>1</th>\n",
       "      <td>Barão de Icaraí</td>\n",
       "      <td>100.0</td>\n",
       "      <td>2</td>\n",
       "      <td>1</td>\n",
       "      <td>2</td>\n",
       "      <td>950.0</td>\n",
       "      <td>280.0</td>\n",
       "      <td>1050000.0</td>\n",
       "    </tr>\n",
       "    <tr>\n",
       "      <th>2</th>\n",
       "      <td>Barão de Icaraí</td>\n",
       "      <td>78.0</td>\n",
       "      <td>2</td>\n",
       "      <td>2</td>\n",
       "      <td>1</td>\n",
       "      <td>790.0</td>\n",
       "      <td>2202.0</td>\n",
       "      <td>949999.0</td>\n",
       "    </tr>\n",
       "    <tr>\n",
       "      <th>3</th>\n",
       "      <td>Barão de Icaraí</td>\n",
       "      <td>102.0</td>\n",
       "      <td>3</td>\n",
       "      <td>2</td>\n",
       "      <td>1</td>\n",
       "      <td>1100.0</td>\n",
       "      <td>214.0</td>\n",
       "      <td>973000.0</td>\n",
       "    </tr>\n",
       "    <tr>\n",
       "      <th>4</th>\n",
       "      <td>Barão de Icaraí</td>\n",
       "      <td>130.0</td>\n",
       "      <td>3</td>\n",
       "      <td>2</td>\n",
       "      <td>1</td>\n",
       "      <td>1650.0</td>\n",
       "      <td>295.0</td>\n",
       "      <td>1150000.0</td>\n",
       "    </tr>\n",
       "    <tr>\n",
       "      <th>...</th>\n",
       "      <td>...</td>\n",
       "      <td>...</td>\n",
       "      <td>...</td>\n",
       "      <td>...</td>\n",
       "      <td>...</td>\n",
       "      <td>...</td>\n",
       "      <td>...</td>\n",
       "      <td>...</td>\n",
       "    </tr>\n",
       "    <tr>\n",
       "      <th>1750</th>\n",
       "      <td>Senador Vergueiro</td>\n",
       "      <td>385.0</td>\n",
       "      <td>5</td>\n",
       "      <td>3</td>\n",
       "      <td>1</td>\n",
       "      <td>3680.0</td>\n",
       "      <td>8787.0</td>\n",
       "      <td>2450000.0</td>\n",
       "    </tr>\n",
       "    <tr>\n",
       "      <th>1751</th>\n",
       "      <td>Senador Vergueiro</td>\n",
       "      <td>385.0</td>\n",
       "      <td>5</td>\n",
       "      <td>3</td>\n",
       "      <td>1</td>\n",
       "      <td>3680.0</td>\n",
       "      <td>878.0</td>\n",
       "      <td>2500000.0</td>\n",
       "    </tr>\n",
       "    <tr>\n",
       "      <th>1752</th>\n",
       "      <td>Senador Vergueiro</td>\n",
       "      <td>198.0</td>\n",
       "      <td>4</td>\n",
       "      <td>4</td>\n",
       "      <td>1</td>\n",
       "      <td>1600.0</td>\n",
       "      <td>491.0</td>\n",
       "      <td>1800000.0</td>\n",
       "    </tr>\n",
       "    <tr>\n",
       "      <th>1753</th>\n",
       "      <td>Senador Vergueiro</td>\n",
       "      <td>160.0</td>\n",
       "      <td>3</td>\n",
       "      <td>3</td>\n",
       "      <td>1</td>\n",
       "      <td>1500.0</td>\n",
       "      <td>3840.0</td>\n",
       "      <td>2030000.0</td>\n",
       "    </tr>\n",
       "    <tr>\n",
       "      <th>1754</th>\n",
       "      <td>Senador Vergueiro</td>\n",
       "      <td>220.0</td>\n",
       "      <td>4</td>\n",
       "      <td>3</td>\n",
       "      <td>1</td>\n",
       "      <td>1555.0</td>\n",
       "      <td>46440.0</td>\n",
       "      <td>2240000.0</td>\n",
       "    </tr>\n",
       "  </tbody>\n",
       "</table>\n",
       "<p>1755 rows × 8 columns</p>\n",
       "</div>"
      ],
      "text/plain": [
       "                 Street   Area  Dorms  Baths  Parking Slots  Condominio  \\\n",
       "0       Barão de Icaraí  160.0      2      3              2      1200.0   \n",
       "1       Barão de Icaraí  100.0      2      1              2       950.0   \n",
       "2       Barão de Icaraí   78.0      2      2              1       790.0   \n",
       "3       Barão de Icaraí  102.0      3      2              1      1100.0   \n",
       "4       Barão de Icaraí  130.0      3      2              1      1650.0   \n",
       "...                 ...    ...    ...    ...            ...         ...   \n",
       "1750  Senador Vergueiro  385.0      5      3              1      3680.0   \n",
       "1751  Senador Vergueiro  385.0      5      3              1      3680.0   \n",
       "1752  Senador Vergueiro  198.0      4      4              1      1600.0   \n",
       "1753  Senador Vergueiro  160.0      3      3              1      1500.0   \n",
       "1754  Senador Vergueiro  220.0      4      3              1      1555.0   \n",
       "\n",
       "         IPTU      Price  \n",
       "0       433.0  1800000.0  \n",
       "1       280.0  1050000.0  \n",
       "2      2202.0   949999.0  \n",
       "3       214.0   973000.0  \n",
       "4       295.0  1150000.0  \n",
       "...       ...        ...  \n",
       "1750   8787.0  2450000.0  \n",
       "1751    878.0  2500000.0  \n",
       "1752    491.0  1800000.0  \n",
       "1753   3840.0  2030000.0  \n",
       "1754  46440.0  2240000.0  \n",
       "\n",
       "[1755 rows x 8 columns]"
      ]
     },
     "execution_count": 4,
     "metadata": {},
     "output_type": "execute_result"
    }
   ],
   "source": [
    "df = pd.read_csv('../input/zap20201028/wrangled_data2.csv')\n",
    "df"
   ]
  },
  {
   "cell_type": "markdown",
   "metadata": {
    "papermill": {
     "duration": 0.044139,
     "end_time": "2020-11-06T20:35:31.949422",
     "exception": false,
     "start_time": "2020-11-06T20:35:31.905283",
     "status": "completed"
    },
    "tags": []
   },
   "source": [
    "## Preprocessamento das features\n",
    "Antes do treinamento, faremos um preprocessamento final das features. Vamos transformar as features categórias em dummies."
   ]
  },
  {
   "cell_type": "code",
   "execution_count": 5,
   "metadata": {
    "execution": {
     "iopub.execute_input": "2020-11-06T20:35:32.048532Z",
     "iopub.status.busy": "2020-11-06T20:35:32.047648Z",
     "iopub.status.idle": "2020-11-06T20:35:32.090025Z",
     "shell.execute_reply": "2020-11-06T20:35:32.090641Z"
    },
    "papermill": {
     "duration": 0.099186,
     "end_time": "2020-11-06T20:35:32.090791",
     "exception": false,
     "start_time": "2020-11-06T20:35:31.991605",
     "status": "completed"
    },
    "tags": []
   },
   "outputs": [
    {
     "data": {
      "text/html": [
       "<div>\n",
       "<style scoped>\n",
       "    .dataframe tbody tr th:only-of-type {\n",
       "        vertical-align: middle;\n",
       "    }\n",
       "\n",
       "    .dataframe tbody tr th {\n",
       "        vertical-align: top;\n",
       "    }\n",
       "\n",
       "    .dataframe thead th {\n",
       "        text-align: right;\n",
       "    }\n",
       "</style>\n",
       "<table border=\"1\" class=\"dataframe\">\n",
       "  <thead>\n",
       "    <tr style=\"text-align: right;\">\n",
       "      <th></th>\n",
       "      <th>Barão de Icaraí</th>\n",
       "      <th>Cruz Lima</th>\n",
       "      <th>Fernando Osório</th>\n",
       "      <th>Honório de Barros</th>\n",
       "      <th>Marquês de Abrantes</th>\n",
       "      <th>Marquês de Paraná</th>\n",
       "      <th>Oswaldo Cruz</th>\n",
       "      <th>Princesa Januaria</th>\n",
       "      <th>Rui Barbosa</th>\n",
       "      <th>Senador Euzebio</th>\n",
       "      <th>Senador Vergueiro</th>\n",
       "      <th>Area</th>\n",
       "      <th>Dorms</th>\n",
       "      <th>Baths</th>\n",
       "      <th>Parking Slots</th>\n",
       "      <th>Condominio</th>\n",
       "      <th>IPTU</th>\n",
       "      <th>Price</th>\n",
       "    </tr>\n",
       "  </thead>\n",
       "  <tbody>\n",
       "    <tr>\n",
       "      <th>0</th>\n",
       "      <td>1</td>\n",
       "      <td>0</td>\n",
       "      <td>0</td>\n",
       "      <td>0</td>\n",
       "      <td>0</td>\n",
       "      <td>0</td>\n",
       "      <td>0</td>\n",
       "      <td>0</td>\n",
       "      <td>0</td>\n",
       "      <td>0</td>\n",
       "      <td>0</td>\n",
       "      <td>160.0</td>\n",
       "      <td>2</td>\n",
       "      <td>3</td>\n",
       "      <td>2</td>\n",
       "      <td>1200.0</td>\n",
       "      <td>433.0</td>\n",
       "      <td>1800000.0</td>\n",
       "    </tr>\n",
       "    <tr>\n",
       "      <th>1</th>\n",
       "      <td>1</td>\n",
       "      <td>0</td>\n",
       "      <td>0</td>\n",
       "      <td>0</td>\n",
       "      <td>0</td>\n",
       "      <td>0</td>\n",
       "      <td>0</td>\n",
       "      <td>0</td>\n",
       "      <td>0</td>\n",
       "      <td>0</td>\n",
       "      <td>0</td>\n",
       "      <td>100.0</td>\n",
       "      <td>2</td>\n",
       "      <td>1</td>\n",
       "      <td>2</td>\n",
       "      <td>950.0</td>\n",
       "      <td>280.0</td>\n",
       "      <td>1050000.0</td>\n",
       "    </tr>\n",
       "    <tr>\n",
       "      <th>2</th>\n",
       "      <td>1</td>\n",
       "      <td>0</td>\n",
       "      <td>0</td>\n",
       "      <td>0</td>\n",
       "      <td>0</td>\n",
       "      <td>0</td>\n",
       "      <td>0</td>\n",
       "      <td>0</td>\n",
       "      <td>0</td>\n",
       "      <td>0</td>\n",
       "      <td>0</td>\n",
       "      <td>78.0</td>\n",
       "      <td>2</td>\n",
       "      <td>2</td>\n",
       "      <td>1</td>\n",
       "      <td>790.0</td>\n",
       "      <td>2202.0</td>\n",
       "      <td>949999.0</td>\n",
       "    </tr>\n",
       "    <tr>\n",
       "      <th>3</th>\n",
       "      <td>1</td>\n",
       "      <td>0</td>\n",
       "      <td>0</td>\n",
       "      <td>0</td>\n",
       "      <td>0</td>\n",
       "      <td>0</td>\n",
       "      <td>0</td>\n",
       "      <td>0</td>\n",
       "      <td>0</td>\n",
       "      <td>0</td>\n",
       "      <td>0</td>\n",
       "      <td>102.0</td>\n",
       "      <td>3</td>\n",
       "      <td>2</td>\n",
       "      <td>1</td>\n",
       "      <td>1100.0</td>\n",
       "      <td>214.0</td>\n",
       "      <td>973000.0</td>\n",
       "    </tr>\n",
       "    <tr>\n",
       "      <th>4</th>\n",
       "      <td>1</td>\n",
       "      <td>0</td>\n",
       "      <td>0</td>\n",
       "      <td>0</td>\n",
       "      <td>0</td>\n",
       "      <td>0</td>\n",
       "      <td>0</td>\n",
       "      <td>0</td>\n",
       "      <td>0</td>\n",
       "      <td>0</td>\n",
       "      <td>0</td>\n",
       "      <td>130.0</td>\n",
       "      <td>3</td>\n",
       "      <td>2</td>\n",
       "      <td>1</td>\n",
       "      <td>1650.0</td>\n",
       "      <td>295.0</td>\n",
       "      <td>1150000.0</td>\n",
       "    </tr>\n",
       "    <tr>\n",
       "      <th>...</th>\n",
       "      <td>...</td>\n",
       "      <td>...</td>\n",
       "      <td>...</td>\n",
       "      <td>...</td>\n",
       "      <td>...</td>\n",
       "      <td>...</td>\n",
       "      <td>...</td>\n",
       "      <td>...</td>\n",
       "      <td>...</td>\n",
       "      <td>...</td>\n",
       "      <td>...</td>\n",
       "      <td>...</td>\n",
       "      <td>...</td>\n",
       "      <td>...</td>\n",
       "      <td>...</td>\n",
       "      <td>...</td>\n",
       "      <td>...</td>\n",
       "      <td>...</td>\n",
       "    </tr>\n",
       "    <tr>\n",
       "      <th>1750</th>\n",
       "      <td>0</td>\n",
       "      <td>0</td>\n",
       "      <td>0</td>\n",
       "      <td>0</td>\n",
       "      <td>0</td>\n",
       "      <td>0</td>\n",
       "      <td>0</td>\n",
       "      <td>0</td>\n",
       "      <td>0</td>\n",
       "      <td>0</td>\n",
       "      <td>1</td>\n",
       "      <td>385.0</td>\n",
       "      <td>5</td>\n",
       "      <td>3</td>\n",
       "      <td>1</td>\n",
       "      <td>3680.0</td>\n",
       "      <td>8787.0</td>\n",
       "      <td>2450000.0</td>\n",
       "    </tr>\n",
       "    <tr>\n",
       "      <th>1751</th>\n",
       "      <td>0</td>\n",
       "      <td>0</td>\n",
       "      <td>0</td>\n",
       "      <td>0</td>\n",
       "      <td>0</td>\n",
       "      <td>0</td>\n",
       "      <td>0</td>\n",
       "      <td>0</td>\n",
       "      <td>0</td>\n",
       "      <td>0</td>\n",
       "      <td>1</td>\n",
       "      <td>385.0</td>\n",
       "      <td>5</td>\n",
       "      <td>3</td>\n",
       "      <td>1</td>\n",
       "      <td>3680.0</td>\n",
       "      <td>878.0</td>\n",
       "      <td>2500000.0</td>\n",
       "    </tr>\n",
       "    <tr>\n",
       "      <th>1752</th>\n",
       "      <td>0</td>\n",
       "      <td>0</td>\n",
       "      <td>0</td>\n",
       "      <td>0</td>\n",
       "      <td>0</td>\n",
       "      <td>0</td>\n",
       "      <td>0</td>\n",
       "      <td>0</td>\n",
       "      <td>0</td>\n",
       "      <td>0</td>\n",
       "      <td>1</td>\n",
       "      <td>198.0</td>\n",
       "      <td>4</td>\n",
       "      <td>4</td>\n",
       "      <td>1</td>\n",
       "      <td>1600.0</td>\n",
       "      <td>491.0</td>\n",
       "      <td>1800000.0</td>\n",
       "    </tr>\n",
       "    <tr>\n",
       "      <th>1753</th>\n",
       "      <td>0</td>\n",
       "      <td>0</td>\n",
       "      <td>0</td>\n",
       "      <td>0</td>\n",
       "      <td>0</td>\n",
       "      <td>0</td>\n",
       "      <td>0</td>\n",
       "      <td>0</td>\n",
       "      <td>0</td>\n",
       "      <td>0</td>\n",
       "      <td>1</td>\n",
       "      <td>160.0</td>\n",
       "      <td>3</td>\n",
       "      <td>3</td>\n",
       "      <td>1</td>\n",
       "      <td>1500.0</td>\n",
       "      <td>3840.0</td>\n",
       "      <td>2030000.0</td>\n",
       "    </tr>\n",
       "    <tr>\n",
       "      <th>1754</th>\n",
       "      <td>0</td>\n",
       "      <td>0</td>\n",
       "      <td>0</td>\n",
       "      <td>0</td>\n",
       "      <td>0</td>\n",
       "      <td>0</td>\n",
       "      <td>0</td>\n",
       "      <td>0</td>\n",
       "      <td>0</td>\n",
       "      <td>0</td>\n",
       "      <td>1</td>\n",
       "      <td>220.0</td>\n",
       "      <td>4</td>\n",
       "      <td>3</td>\n",
       "      <td>1</td>\n",
       "      <td>1555.0</td>\n",
       "      <td>46440.0</td>\n",
       "      <td>2240000.0</td>\n",
       "    </tr>\n",
       "  </tbody>\n",
       "</table>\n",
       "<p>1755 rows × 18 columns</p>\n",
       "</div>"
      ],
      "text/plain": [
       "      Barão de Icaraí  Cruz Lima  Fernando Osório  Honório de Barros  \\\n",
       "0                   1          0                0                  0   \n",
       "1                   1          0                0                  0   \n",
       "2                   1          0                0                  0   \n",
       "3                   1          0                0                  0   \n",
       "4                   1          0                0                  0   \n",
       "...               ...        ...              ...                ...   \n",
       "1750                0          0                0                  0   \n",
       "1751                0          0                0                  0   \n",
       "1752                0          0                0                  0   \n",
       "1753                0          0                0                  0   \n",
       "1754                0          0                0                  0   \n",
       "\n",
       "      Marquês de Abrantes  Marquês de Paraná  Oswaldo Cruz  Princesa Januaria  \\\n",
       "0                       0                  0             0                  0   \n",
       "1                       0                  0             0                  0   \n",
       "2                       0                  0             0                  0   \n",
       "3                       0                  0             0                  0   \n",
       "4                       0                  0             0                  0   \n",
       "...                   ...                ...           ...                ...   \n",
       "1750                    0                  0             0                  0   \n",
       "1751                    0                  0             0                  0   \n",
       "1752                    0                  0             0                  0   \n",
       "1753                    0                  0             0                  0   \n",
       "1754                    0                  0             0                  0   \n",
       "\n",
       "      Rui Barbosa  Senador Euzebio  Senador Vergueiro   Area  Dorms  Baths  \\\n",
       "0               0                0                  0  160.0      2      3   \n",
       "1               0                0                  0  100.0      2      1   \n",
       "2               0                0                  0   78.0      2      2   \n",
       "3               0                0                  0  102.0      3      2   \n",
       "4               0                0                  0  130.0      3      2   \n",
       "...           ...              ...                ...    ...    ...    ...   \n",
       "1750            0                0                  1  385.0      5      3   \n",
       "1751            0                0                  1  385.0      5      3   \n",
       "1752            0                0                  1  198.0      4      4   \n",
       "1753            0                0                  1  160.0      3      3   \n",
       "1754            0                0                  1  220.0      4      3   \n",
       "\n",
       "      Parking Slots  Condominio     IPTU      Price  \n",
       "0                 2      1200.0    433.0  1800000.0  \n",
       "1                 2       950.0    280.0  1050000.0  \n",
       "2                 1       790.0   2202.0   949999.0  \n",
       "3                 1      1100.0    214.0   973000.0  \n",
       "4                 1      1650.0    295.0  1150000.0  \n",
       "...             ...         ...      ...        ...  \n",
       "1750              1      3680.0   8787.0  2450000.0  \n",
       "1751              1      3680.0    878.0  2500000.0  \n",
       "1752              1      1600.0    491.0  1800000.0  \n",
       "1753              1      1500.0   3840.0  2030000.0  \n",
       "1754              1      1555.0  46440.0  2240000.0  \n",
       "\n",
       "[1755 rows x 18 columns]"
      ]
     },
     "execution_count": 5,
     "metadata": {},
     "output_type": "execute_result"
    }
   ],
   "source": [
    "df_dummies = pd.concat([pd.get_dummies(df.Street), df.drop('Street', axis=1)], axis=1)\n",
    "df_dummies"
   ]
  },
  {
   "cell_type": "code",
   "execution_count": 6,
   "metadata": {
    "execution": {
     "iopub.execute_input": "2020-11-06T20:35:32.175882Z",
     "iopub.status.busy": "2020-11-06T20:35:32.175085Z",
     "iopub.status.idle": "2020-11-06T20:35:32.183415Z",
     "shell.execute_reply": "2020-11-06T20:35:32.182722Z"
    },
    "papermill": {
     "duration": 0.053026,
     "end_time": "2020-11-06T20:35:32.183554",
     "exception": false,
     "start_time": "2020-11-06T20:35:32.130528",
     "status": "completed"
    },
    "tags": []
   },
   "outputs": [
    {
     "data": {
      "text/plain": [
       "Barão de Icaraí          0\n",
       "Cruz Lima                0\n",
       "Fernando Osório          0\n",
       "Honório de Barros        0\n",
       "Marquês de Abrantes      0\n",
       "Marquês de Paraná        0\n",
       "Oswaldo Cruz             0\n",
       "Princesa Januaria        0\n",
       "Rui Barbosa              0\n",
       "Senador Euzebio          0\n",
       "Senador Vergueiro        0\n",
       "Area                     0\n",
       "Dorms                    0\n",
       "Baths                    0\n",
       "Parking Slots            0\n",
       "Condominio               0\n",
       "IPTU                   145\n",
       "Price                    0\n",
       "dtype: int64"
      ]
     },
     "execution_count": 6,
     "metadata": {},
     "output_type": "execute_result"
    }
   ],
   "source": [
    "df_dummies.isna().sum()"
   ]
  },
  {
   "cell_type": "code",
   "execution_count": 7,
   "metadata": {
    "execution": {
     "iopub.execute_input": "2020-11-06T20:35:32.284658Z",
     "iopub.status.busy": "2020-11-06T20:35:32.270520Z",
     "iopub.status.idle": "2020-11-06T20:35:32.289379Z",
     "shell.execute_reply": "2020-11-06T20:35:32.288761Z"
    },
    "papermill": {
     "duration": 0.065082,
     "end_time": "2020-11-06T20:35:32.289506",
     "exception": false,
     "start_time": "2020-11-06T20:35:32.224424",
     "status": "completed"
    },
    "tags": []
   },
   "outputs": [
    {
     "data": {
      "text/html": [
       "<div>\n",
       "<style scoped>\n",
       "    .dataframe tbody tr th:only-of-type {\n",
       "        vertical-align: middle;\n",
       "    }\n",
       "\n",
       "    .dataframe tbody tr th {\n",
       "        vertical-align: top;\n",
       "    }\n",
       "\n",
       "    .dataframe thead th {\n",
       "        text-align: right;\n",
       "    }\n",
       "</style>\n",
       "<table border=\"1\" class=\"dataframe\">\n",
       "  <thead>\n",
       "    <tr style=\"text-align: right;\">\n",
       "      <th></th>\n",
       "      <th>Barão de Icaraí</th>\n",
       "      <th>Cruz Lima</th>\n",
       "      <th>Fernando Osório</th>\n",
       "      <th>Honório de Barros</th>\n",
       "      <th>Marquês de Abrantes</th>\n",
       "      <th>Marquês de Paraná</th>\n",
       "      <th>Oswaldo Cruz</th>\n",
       "      <th>Princesa Januaria</th>\n",
       "      <th>Rui Barbosa</th>\n",
       "      <th>Senador Euzebio</th>\n",
       "      <th>Senador Vergueiro</th>\n",
       "      <th>Area</th>\n",
       "      <th>Dorms</th>\n",
       "      <th>Baths</th>\n",
       "      <th>Parking Slots</th>\n",
       "      <th>Condominio</th>\n",
       "      <th>IPTU</th>\n",
       "    </tr>\n",
       "  </thead>\n",
       "  <tbody>\n",
       "    <tr>\n",
       "      <th>0</th>\n",
       "      <td>1</td>\n",
       "      <td>0</td>\n",
       "      <td>0</td>\n",
       "      <td>0</td>\n",
       "      <td>0</td>\n",
       "      <td>0</td>\n",
       "      <td>0</td>\n",
       "      <td>0</td>\n",
       "      <td>0</td>\n",
       "      <td>0</td>\n",
       "      <td>0</td>\n",
       "      <td>160.0</td>\n",
       "      <td>2</td>\n",
       "      <td>3</td>\n",
       "      <td>2</td>\n",
       "      <td>1200.0</td>\n",
       "      <td>433.0</td>\n",
       "    </tr>\n",
       "    <tr>\n",
       "      <th>1</th>\n",
       "      <td>1</td>\n",
       "      <td>0</td>\n",
       "      <td>0</td>\n",
       "      <td>0</td>\n",
       "      <td>0</td>\n",
       "      <td>0</td>\n",
       "      <td>0</td>\n",
       "      <td>0</td>\n",
       "      <td>0</td>\n",
       "      <td>0</td>\n",
       "      <td>0</td>\n",
       "      <td>100.0</td>\n",
       "      <td>2</td>\n",
       "      <td>1</td>\n",
       "      <td>2</td>\n",
       "      <td>950.0</td>\n",
       "      <td>280.0</td>\n",
       "    </tr>\n",
       "    <tr>\n",
       "      <th>2</th>\n",
       "      <td>1</td>\n",
       "      <td>0</td>\n",
       "      <td>0</td>\n",
       "      <td>0</td>\n",
       "      <td>0</td>\n",
       "      <td>0</td>\n",
       "      <td>0</td>\n",
       "      <td>0</td>\n",
       "      <td>0</td>\n",
       "      <td>0</td>\n",
       "      <td>0</td>\n",
       "      <td>78.0</td>\n",
       "      <td>2</td>\n",
       "      <td>2</td>\n",
       "      <td>1</td>\n",
       "      <td>790.0</td>\n",
       "      <td>2202.0</td>\n",
       "    </tr>\n",
       "  </tbody>\n",
       "</table>\n",
       "</div>"
      ],
      "text/plain": [
       "   Barão de Icaraí  Cruz Lima  Fernando Osório  Honório de Barros  \\\n",
       "0                1          0                0                  0   \n",
       "1                1          0                0                  0   \n",
       "2                1          0                0                  0   \n",
       "\n",
       "   Marquês de Abrantes  Marquês de Paraná  Oswaldo Cruz  Princesa Januaria  \\\n",
       "0                    0                  0             0                  0   \n",
       "1                    0                  0             0                  0   \n",
       "2                    0                  0             0                  0   \n",
       "\n",
       "   Rui Barbosa  Senador Euzebio  Senador Vergueiro   Area  Dorms  Baths  \\\n",
       "0            0                0                  0  160.0      2      3   \n",
       "1            0                0                  0  100.0      2      1   \n",
       "2            0                0                  0   78.0      2      2   \n",
       "\n",
       "   Parking Slots  Condominio    IPTU  \n",
       "0              2      1200.0   433.0  \n",
       "1              2       950.0   280.0  \n",
       "2              1       790.0  2202.0  "
      ]
     },
     "execution_count": 7,
     "metadata": {},
     "output_type": "execute_result"
    }
   ],
   "source": [
    "X = df_dummies.drop('Price', axis=1)\n",
    "y = df_dummies.Price\n",
    "X.head(3)"
   ]
  },
  {
   "cell_type": "markdown",
   "metadata": {
    "papermill": {
     "duration": 0.039715,
     "end_time": "2020-11-06T20:35:32.369654",
     "exception": false,
     "start_time": "2020-11-06T20:35:32.329939",
     "status": "completed"
    },
    "tags": []
   },
   "source": [
    "## Train Test Split\n",
    "Nossos dados já estão no formato apropriado para serem inputados no modelo.\n",
    "\n",
    "Antes do treinamento, precisamos separar nosso conjunto de dados em conjunto de treinamento e teste. Faremos um split de 70/30%, respectivamente.\n",
    "\n",
    "Para fazer a comparação entre diferentes modelos e refinar os hiperparâmetros, não utilizaremos um conjunto de validação dedicado, mas sim a técnica de K-fold cross validation. Assim, não estaremos diminuindo ainda mais o tamanho de nosso conjunto de treinamento, que possui apenas 1228 exemplos. \n",
    "\n",
    "O conjunto de teste será usado uma única vez, ao final do projeto, para estimar a performance de nosso modelo em exemplos nunca vistos por ele."
   ]
  },
  {
   "cell_type": "code",
   "execution_count": 8,
   "metadata": {
    "execution": {
     "iopub.execute_input": "2020-11-06T20:35:32.459433Z",
     "iopub.status.busy": "2020-11-06T20:35:32.458608Z",
     "iopub.status.idle": "2020-11-06T20:35:32.488299Z",
     "shell.execute_reply": "2020-11-06T20:35:32.487598Z"
    },
    "papermill": {
     "duration": 0.078404,
     "end_time": "2020-11-06T20:35:32.488422",
     "exception": false,
     "start_time": "2020-11-06T20:35:32.410018",
     "status": "completed"
    },
    "tags": []
   },
   "outputs": [],
   "source": [
    "#train test split\n",
    "from sklearn.model_selection import train_test_split\n",
    "X_train, X_test, y_train, y_test = train_test_split(X, y, test_size=0.3, random_state=101)\n",
    "\n",
    "# formato apropriado dos dados para xgboost\n",
    "Dmatrix_train = xgb.DMatrix(data=X_train,label=y_train)"
   ]
  },
  {
   "cell_type": "markdown",
   "metadata": {
    "papermill": {
     "duration": 0.040008,
     "end_time": "2020-11-06T20:35:32.569109",
     "exception": false,
     "start_time": "2020-11-06T20:35:32.529101",
     "status": "completed"
    },
    "tags": []
   },
   "source": [
    "Distribuição de Preços de imóvei no conjunto de teste (laranja) e de treinamento (azul). Perceba que a distribuição é aproximadamente a mesma, como desejado. Do contrário, estaríamos otimizando o modelo para uma distribuição diferente daquela que estamos interessados em acertar."
   ]
  },
  {
   "cell_type": "code",
   "execution_count": 9,
   "metadata": {
    "execution": {
     "iopub.execute_input": "2020-11-06T20:35:32.655782Z",
     "iopub.status.busy": "2020-11-06T20:35:32.654975Z",
     "iopub.status.idle": "2020-11-06T20:35:32.926649Z",
     "shell.execute_reply": "2020-11-06T20:35:32.925758Z"
    },
    "papermill": {
     "duration": 0.317243,
     "end_time": "2020-11-06T20:35:32.926806",
     "exception": false,
     "start_time": "2020-11-06T20:35:32.609563",
     "status": "completed"
    },
    "tags": []
   },
   "outputs": [
    {
     "data": {
      "image/png": "[encoded data removed]",
      "text/plain": [
       "<Figure size 432x288 with 1 Axes>"
      ]
     },
     "metadata": {
      "needs_background": "light"
     },
     "output_type": "display_data"
    }
   ],
   "source": [
    "sns.distplot(y_train)\n",
    "sns.distplot(y_test)\n",
    "\n",
    "plt.show()"
   ]
  },
  {
   "cell_type": "markdown",
   "metadata": {
    "papermill": {
     "duration": 0.042497,
     "end_time": "2020-11-06T20:35:33.012238",
     "exception": false,
     "start_time": "2020-11-06T20:35:32.969741",
     "status": "completed"
    },
    "tags": []
   },
   "source": [
    "## Benchmark model\n",
    "Vamos treinar um modelo com os parâmetros default do XGBoost para termos uma base de performance.\n",
    "\n",
    "Escolhi usar a métrica do erro absoluto médio (MAE) para avaliar a performance do modelo. Isso porque não desejo punir o algoritmo mais intensamente por resíduos maiores, como seria o caso do RMSE."
   ]
  },
  {
   "cell_type": "code",
   "execution_count": 10,
   "metadata": {
    "execution": {
     "iopub.execute_input": "2020-11-06T20:35:33.103684Z",
     "iopub.status.busy": "2020-11-06T20:35:33.102911Z",
     "iopub.status.idle": "2020-11-06T20:35:33.245759Z",
     "shell.execute_reply": "2020-11-06T20:35:33.246501Z"
    },
    "papermill": {
     "duration": 0.192087,
     "end_time": "2020-11-06T20:35:33.246709",
     "exception": false,
     "start_time": "2020-11-06T20:35:33.054622",
     "status": "completed"
    },
    "tags": []
   },
   "outputs": [],
   "source": [
    "benchmark_model = XGBRegressor()\n",
    "benchmark_model = benchmark_model.fit(X_train, y_train)"
   ]
  },
  {
   "cell_type": "code",
   "execution_count": 11,
   "metadata": {
    "execution": {
     "iopub.execute_input": "2020-11-06T20:35:33.355539Z",
     "iopub.status.busy": "2020-11-06T20:35:33.354712Z",
     "iopub.status.idle": "2020-11-06T20:35:33.661725Z",
     "shell.execute_reply": "2020-11-06T20:35:33.662479Z"
    },
    "papermill": {
     "duration": 0.36576,
     "end_time": "2020-11-06T20:35:33.662659",
     "exception": false,
     "start_time": "2020-11-06T20:35:33.296899",
     "status": "completed"
    },
    "tags": []
   },
   "outputs": [
    {
     "name": "stdout",
     "output_type": "stream",
     "text": [
      "Resultado XGBoost\n",
      "MAE: 155623.5784511385\n",
      "RMSE: 225648.09661769634\n"
     ]
    },
    {
     "data": {
      "image/png": "[encoded data removed]",
      "text/plain": [
       "<Figure size 432x288 with 1 Axes>"
      ]
     },
     "metadata": {
      "needs_background": "light"
     },
     "output_type": "display_data"
    }
   ],
   "source": [
    "#avaliando métricas do modelo\n",
    "predictions = benchmark_model.predict(X_test)\n",
    "\n",
    "print('Resultado XGBoost')\n",
    "print('MAE:', metrics.mean_absolute_error(y_test, predictions))\n",
    "print('RMSE:', np.sqrt(metrics.mean_squared_error(y_test, predictions)))\n",
    "\n",
    "sns.distplot((y_test-predictions),bins=50)\n",
    "plt.show()"
   ]
  },
  {
   "cell_type": "markdown",
   "metadata": {
    "papermill": {
     "duration": 0.043639,
     "end_time": "2020-11-06T20:35:33.750101",
     "exception": false,
     "start_time": "2020-11-06T20:35:33.706462",
     "status": "completed"
    },
    "tags": []
   },
   "source": [
    "Nosso modelo de benchmark apresentou um MAE de R\\\\$ 155.623 no conjunto de teste. A seguir, refinaremos os hiperparâmetros para diminuir esse valor.\n",
    "\n",
    "Notamos também que os resíduos são aproximadamente normalmente distribuídos. Fico satisfeito com isso, pois o modelo não é tendencioso em prever valores sempre maiores, ou sempre menores, em comparação com os valores verdadeiros.\n",
    "\n",
    "## Refinando o modelo\n",
    "Agora que já treinamos nosso modelo de benchmark, vamos procurar os valores dos hiperparâmetros do xgboost que otimizam nossa métrica de avaliação, o MAE.\n",
    "\n",
    "A implementação do Gradient Boosting do XGBoosting possui vários parâmetros de treinamento, como por exemplo o learning_rate (coeficiente do resultado encontrado por cada árvore para o cálculo da previsão final) e max_depth (número máximo de camadas de cada árvore, que restringe a quantidade de splits que cada árvore faz). Esses parâmetros não são treináveis, i.e., devem ser informados manualmente ao algoritmo antes que ele realize o treinamento que irá determinar as especificações do modelo que fará a previsão de novos exemplos. Por isso, eles são chamados de hiperparâmetros.\n",
    "\n",
    "O processo de refinamento consiste em treinar diferentes modelos, que diferem pelos seus hiperparâmetros, e utilizar o conjunto de validação para verificar qual dos modelos faz a melhor previsão. Utilizaremos a técnica de k-fold cross validation, que separa nosso training set em k subconjuntos, treina o algoritmo em (k-1) desses subconjuntos e usa o subconjunto que ficou de fora para avaliar nossa métrica de avaliação, o MAE. Isso é repetido k vezes, cada vez com um subconjunto diferente de fora do treinamento. Ao final, fazemos a média dos k MAE medidos.\n",
    "\n",
    "As duas formas mais comuns de se testar diferentes conjuntos de hiperparâmetros são o \"grid search\" e o \"random search\". No primeiro, definimos um conjunto discreto de valores candidatos para cada hiperparâmetro, e treinamos modelos com todas as combinações possíveis entre os diferentes hiperparâmetros. No segundo, definimos intervalos de valores candidatos para cada hiperparâmetro, e selecionamos aleatoriamente, dentro de cada intervalo, os valores que serão utilizados em cada modelo.\n",
    "\n",
    "Uma terceira forma de fazer a busca por hiperparâmetros é o [Bayesian optimization](https://towardsdatascience.com/automated-machine-learning-hyperparameter-tuning-in-python-dfda59b72f8a). Nesse método, também sorteamos aleatoriamente valores para os hiperparâmetros. Mas, ao contrário do random search, onde a distribuição de probabilidades entre os valores possíveis é uniforme, o Bayesian optimization utiliza iterativamente os resultados que vão sendo obtidos para explorar mais intensamente os intervalos de valores mais promissores, para cada hiperparâmetro. Assim, a cada novo modelo treinado, é atualizada a distribuição de probabilidade dos valores associados a cada hiperparâmetro. A implementação do Bayesian optimization que utilizaremos aqui é a do pacote [hyperopt](https://github.com/hyperopt/hyperopt)."
   ]
  },
  {
   "cell_type": "code",
   "execution_count": 12,
   "metadata": {
    "execution": {
     "iopub.execute_input": "2020-11-06T20:35:33.847403Z",
     "iopub.status.busy": "2020-11-06T20:35:33.846363Z",
     "iopub.status.idle": "2020-11-06T20:35:34.447801Z",
     "shell.execute_reply": "2020-11-06T20:35:34.446999Z"
    },
    "papermill": {
     "duration": 0.653935,
     "end_time": "2020-11-06T20:35:34.447932",
     "exception": false,
     "start_time": "2020-11-06T20:35:33.793997",
     "status": "completed"
    },
    "tags": []
   },
   "outputs": [],
   "source": [
    "from hyperopt import hp\n",
    "\n",
    "#Espaço de hiperparâmetros a ser explorado:\n",
    "space = {\n",
    "    'learning_rate': hp.loguniform('learning_rate', np.log(0.01), np.log(0.6)),\n",
    "    'gamma': hp.uniform('gamma', 0.0, 5.0),\n",
    "    'max_depth': hp.randint('max_depth', 4, 30),\n",
    "    'min_child_weight': hp.loguniform('min_child_weight', np.log(0.08), np.log(10)),\n",
    "    'reg_lambda': hp.uniform('reg_lambda', 0.0, 2.0),\n",
    "    'reg_alpha': hp.uniform('reg_alpha', 0.0, 2.0),\n",
    "}"
   ]
  },
  {
   "cell_type": "code",
   "execution_count": 13,
   "metadata": {
    "execution": {
     "iopub.execute_input": "2020-11-06T20:35:34.546323Z",
     "iopub.status.busy": "2020-11-06T20:35:34.545279Z",
     "iopub.status.idle": "2020-11-06T20:35:34.550240Z",
     "shell.execute_reply": "2020-11-06T20:35:34.549533Z"
    },
    "papermill": {
     "duration": 0.057944,
     "end_time": "2020-11-06T20:35:34.550365",
     "exception": false,
     "start_time": "2020-11-06T20:35:34.492421",
     "status": "completed"
    },
    "tags": []
   },
   "outputs": [
    {
     "data": {
      "text/plain": [
       "{'gamma': 2.0678427597526827,\n",
       " 'learning_rate': 0.4353827753259679,\n",
       " 'max_depth': array(6),\n",
       " 'min_child_weight': 6.420824530285674,\n",
       " 'reg_alpha': 1.4525003372482628,\n",
       " 'reg_lambda': 0.18656780304151166}"
      ]
     },
     "execution_count": 13,
     "metadata": {},
     "output_type": "execute_result"
    }
   ],
   "source": [
    "#Testando o espaço de hiperparâmetros: sorteando um conjunto aleatório de hiperparâmetros\n",
    "from hyperopt.pyll.stochastic import sample\n",
    "\n",
    "example = sample(space)\n",
    "example"
   ]
  },
  {
   "cell_type": "code",
   "execution_count": 14,
   "metadata": {
    "execution": {
     "iopub.execute_input": "2020-11-06T20:35:34.655090Z",
     "iopub.status.busy": "2020-11-06T20:35:34.654283Z",
     "iopub.status.idle": "2020-11-06T20:35:34.657391Z",
     "shell.execute_reply": "2020-11-06T20:35:34.656644Z"
    },
    "papermill": {
     "duration": 0.062736,
     "end_time": "2020-11-06T20:35:34.657515",
     "exception": false,
     "start_time": "2020-11-06T20:35:34.594779",
     "status": "completed"
    },
    "tags": []
   },
   "outputs": [],
   "source": [
    "from hyperopt import STATUS_OK\n",
    "\n",
    "#definindo a função que treina o modelo e calcula a métrica de avaliação (usando k-fold cv)\n",
    "def objective(params):\n",
    "    \"\"\"Objective function for Gradient Boosting Machine Hyperparameter Tuning\"\"\"     \n",
    "    \n",
    "    #gerando o modelo\n",
    "    #model = XGBRegressor()\n",
    "    \n",
    "    #treinando o modelo\n",
    "    cv_results = xgb.cv(dtrain=Dmatrix_train, params=params, nfold=10,\n",
    "                    num_boost_round=1000,early_stopping_rounds=25, metrics=\"mae\", as_pandas=False, seed=101)\n",
    "    \n",
    "    #métrica de avaliação: 1 - ROC AUC\n",
    "    loss = cv_results['test-mae-mean'][-1]\n",
    "    \n",
    "    # dicionário com o resultado\n",
    "    return {'loss': loss, 'params': params, 'status': STATUS_OK}"
   ]
  },
  {
   "cell_type": "code",
   "execution_count": 15,
   "metadata": {
    "execution": {
     "iopub.execute_input": "2020-11-06T20:35:34.760094Z",
     "iopub.status.busy": "2020-11-06T20:35:34.759084Z",
     "iopub.status.idle": "2020-11-06T21:33:12.908637Z",
     "shell.execute_reply": "2020-11-06T21:33:12.906530Z"
    },
    "papermill": {
     "duration": 3458.206851,
     "end_time": "2020-11-06T21:33:12.908815",
     "exception": false,
     "start_time": "2020-11-06T20:35:34.701964",
     "status": "completed"
    },
    "tags": []
   },
   "outputs": [
    {
     "name": "stdout",
     "output_type": "stream",
     "text": [
      "100%|██████████| 500/500 [57:37<00:00,  6.92s/trial, best loss: 137713.2320312]\n"
     ]
    }
   ],
   "source": [
    "# Fazendo 500 iterações da busca bayesiana\n",
    "\n",
    "# Algoritmo\n",
    "from hyperopt import tpe\n",
    "tpe_algorithm = tpe.suggest\n",
    "\n",
    "\n",
    "# Objeto que registra o progresso\n",
    "from hyperopt import Trials\n",
    "bayes_trials = Trials()\n",
    "\n",
    "# Função que faz a busca\n",
    "from hyperopt import fmin\n",
    "\n",
    "# Rodando a busca\n",
    "best = fmin(fn = objective, space = space, algo = tpe.suggest, \n",
    "            max_evals = 500, trials = bayes_trials)"
   ]
  },
  {
   "cell_type": "code",
   "execution_count": 16,
   "metadata": {
    "execution": {
     "iopub.execute_input": "2020-11-06T21:33:13.409020Z",
     "iopub.status.busy": "2020-11-06T21:33:13.408032Z",
     "iopub.status.idle": "2020-11-06T21:33:13.412949Z",
     "shell.execute_reply": "2020-11-06T21:33:13.412278Z"
    },
    "papermill": {
     "duration": 0.256935,
     "end_time": "2020-11-06T21:33:13.413086",
     "exception": false,
     "start_time": "2020-11-06T21:33:13.156151",
     "status": "completed"
    },
    "tags": []
   },
   "outputs": [
    {
     "data": {
      "text/plain": [
       "{'gamma': 4.99838244542053,\n",
       " 'learning_rate': 0.03912246776120425,\n",
       " 'max_depth': 29,\n",
       " 'min_child_weight': 3.485648967260897,\n",
       " 'reg_alpha': 1.3681590662840368,\n",
       " 'reg_lambda': 0.4344152151420315}"
      ]
     },
     "execution_count": 16,
     "metadata": {},
     "output_type": "execute_result"
    }
   ],
   "source": [
    "# hiperparâmetros do melhor modelo\n",
    "best"
   ]
  },
  {
   "cell_type": "code",
   "execution_count": 17,
   "metadata": {
    "execution": {
     "iopub.execute_input": "2020-11-06T21:33:13.977817Z",
     "iopub.status.busy": "2020-11-06T21:33:13.976766Z",
     "iopub.status.idle": "2020-11-06T21:33:13.982170Z",
     "shell.execute_reply": "2020-11-06T21:33:13.981541Z"
    },
    "papermill": {
     "duration": 0.319573,
     "end_time": "2020-11-06T21:33:13.982299",
     "exception": false,
     "start_time": "2020-11-06T21:33:13.662726",
     "status": "completed"
    },
    "tags": []
   },
   "outputs": [
    {
     "data": {
      "text/plain": [
       "{'loss': 137713.2320312,\n",
       " 'params': {'gamma': 4.99838244542053,\n",
       "  'learning_rate': 0.03912246776120425,\n",
       "  'max_depth': 29,\n",
       "  'min_child_weight': 3.485648967260897,\n",
       "  'reg_alpha': 1.3681590662840368,\n",
       "  'reg_lambda': 0.4344152151420315},\n",
       " 'status': 'ok'}"
      ]
     },
     "execution_count": 17,
     "metadata": {},
     "output_type": "execute_result"
    }
   ],
   "source": [
    "#infos do melhor modelo\n",
    "bayes_trials.best_trial['result']#['params']"
   ]
  },
  {
   "cell_type": "code",
   "execution_count": 18,
   "metadata": {
    "execution": {
     "iopub.execute_input": "2020-11-06T21:33:14.505618Z",
     "iopub.status.busy": "2020-11-06T21:33:14.504484Z",
     "iopub.status.idle": "2020-11-06T21:33:14.508017Z",
     "shell.execute_reply": "2020-11-06T21:33:14.507269Z"
    },
    "papermill": {
     "duration": 0.257407,
     "end_time": "2020-11-06T21:33:14.508145",
     "exception": false,
     "start_time": "2020-11-06T21:33:14.250738",
     "status": "completed"
    },
    "tags": []
   },
   "outputs": [],
   "source": [
    "#guardando os hyperparâmetros do melhor modelo\n",
    "#params = bayes_trials.best_trial['result']['params']\n",
    "params = {'gamma': 2.199596107711117,\n",
    "  'learning_rate': 0.0974381627092206,\n",
    "  'max_depth': 29,\n",
    "  'min_child_weight': 3.2385338264269485,\n",
    "  'reg_alpha': 0.18472575899500998,\n",
    "  'reg_lambda': 0.38244758223682157}"
   ]
  },
  {
   "cell_type": "code",
   "execution_count": 19,
   "metadata": {
    "execution": {
     "iopub.execute_input": "2020-11-06T21:33:15.022843Z",
     "iopub.status.busy": "2020-11-06T21:33:15.021606Z",
     "iopub.status.idle": "2020-11-06T21:33:18.709231Z",
     "shell.execute_reply": "2020-11-06T21:33:18.709951Z"
    },
    "papermill": {
     "duration": 3.954546,
     "end_time": "2020-11-06T21:33:18.710135",
     "exception": false,
     "start_time": "2020-11-06T21:33:14.755589",
     "status": "completed"
    },
    "tags": []
   },
   "outputs": [
    {
     "data": {
      "text/html": [
       "<div>\n",
       "<style scoped>\n",
       "    .dataframe tbody tr th:only-of-type {\n",
       "        vertical-align: middle;\n",
       "    }\n",
       "\n",
       "    .dataframe tbody tr th {\n",
       "        vertical-align: top;\n",
       "    }\n",
       "\n",
       "    .dataframe thead th {\n",
       "        text-align: right;\n",
       "    }\n",
       "</style>\n",
       "<table border=\"1\" class=\"dataframe\">\n",
       "  <thead>\n",
       "    <tr style=\"text-align: right;\">\n",
       "      <th></th>\n",
       "      <th>train-mae-mean</th>\n",
       "      <th>train-mae-std</th>\n",
       "      <th>test-mae-mean</th>\n",
       "      <th>test-mae-std</th>\n",
       "    </tr>\n",
       "  </thead>\n",
       "  <tbody>\n",
       "    <tr>\n",
       "      <th>56</th>\n",
       "      <td>22292.634766</td>\n",
       "      <td>391.822739</td>\n",
       "      <td>137941.603125</td>\n",
       "      <td>9270.245457</td>\n",
       "    </tr>\n",
       "    <tr>\n",
       "      <th>57</th>\n",
       "      <td>21604.397852</td>\n",
       "      <td>394.904582</td>\n",
       "      <td>137915.209375</td>\n",
       "      <td>9268.285447</td>\n",
       "    </tr>\n",
       "  </tbody>\n",
       "</table>\n",
       "</div>"
      ],
      "text/plain": [
       "    train-mae-mean  train-mae-std  test-mae-mean  test-mae-std\n",
       "56    22292.634766     391.822739  137941.603125   9270.245457\n",
       "57    21604.397852     394.904582  137915.209375   9268.285447"
      ]
     },
     "execution_count": 19,
     "metadata": {},
     "output_type": "execute_result"
    }
   ],
   "source": [
    "# verificando qual é o n_estimators ótimo para o melhor modelo\n",
    "cv_results = xgb.cv(dtrain=Dmatrix_train, params=params, nfold=10,\n",
    "                    num_boost_round=1000,early_stopping_rounds=25, metrics=\"mae\", as_pandas=True, seed=101)\n",
    "\n",
    "#best score\n",
    "cv_results.tail(2)"
   ]
  },
  {
   "cell_type": "code",
   "execution_count": 20,
   "metadata": {
    "execution": {
     "iopub.execute_input": "2020-11-06T21:33:19.279255Z",
     "iopub.status.busy": "2020-11-06T21:33:19.278142Z",
     "iopub.status.idle": "2020-11-06T21:33:19.509743Z",
     "shell.execute_reply": "2020-11-06T21:33:19.510597Z"
    },
    "papermill": {
     "duration": 0.498152,
     "end_time": "2020-11-06T21:33:19.510801",
     "exception": false,
     "start_time": "2020-11-06T21:33:19.012649",
     "status": "completed"
    },
    "tags": []
   },
   "outputs": [],
   "source": [
    "# treinando o melhor modelo\n",
    "final_model = XGBRegressor(\n",
    "        n_estimators=58,\n",
    "        learning_rate = params['learning_rate'],\n",
    "        gamma = params['gamma'],\n",
    "        max_depth = params['max_depth'],\n",
    "        min_child_weight = params['min_child_weight'],\n",
    "        reg_lambda = params['reg_lambda'],\n",
    "        reg_alpha = params['reg_alpha'],\n",
    "    )\n",
    "\n",
    "final_model = final_model.fit(X_train, y_train)"
   ]
  },
  {
   "cell_type": "code",
   "execution_count": 21,
   "metadata": {
    "execution": {
     "iopub.execute_input": "2020-11-06T21:33:20.054160Z",
     "iopub.status.busy": "2020-11-06T21:33:20.053007Z",
     "iopub.status.idle": "2020-11-06T21:33:20.369162Z",
     "shell.execute_reply": "2020-11-06T21:33:20.369810Z"
    },
    "papermill": {
     "duration": 0.580541,
     "end_time": "2020-11-06T21:33:20.369971",
     "exception": false,
     "start_time": "2020-11-06T21:33:19.789430",
     "status": "completed"
    },
    "tags": []
   },
   "outputs": [
    {
     "name": "stdout",
     "output_type": "stream",
     "text": [
      "Resultado XGBoost\n",
      "MAE: 21563.60172791124\n",
      "RMSE: 36916.73842820076\n"
     ]
    },
    {
     "data": {
      "image/png": "[encoded data removed]",
      "text/plain": [
       "<Figure size 432x288 with 1 Axes>"
      ]
     },
     "metadata": {
      "needs_background": "light"
     },
     "output_type": "display_data"
    }
   ],
   "source": [
    "#avaliando métricas do melhor modelo no conjunto de TREINAMENTO\n",
    "predictions = final_model.predict(X_train)\n",
    "\n",
    "print('Resultado XGBoost')\n",
    "print('MAE:', metrics.mean_absolute_error(y_train, predictions))\n",
    "print('RMSE:', np.sqrt(metrics.mean_squared_error(y_train, predictions)))\n",
    "\n",
    "sns.distplot((y_train-predictions),bins=50)\n",
    "plt.show()"
   ]
  },
  {
   "cell_type": "code",
   "execution_count": 22,
   "metadata": {
    "execution": {
     "iopub.execute_input": "2020-11-06T21:33:20.900771Z",
     "iopub.status.busy": "2020-11-06T21:33:20.899409Z",
     "iopub.status.idle": "2020-11-06T21:33:21.215866Z",
     "shell.execute_reply": "2020-11-06T21:33:21.215051Z"
    },
    "papermill": {
     "duration": 0.590246,
     "end_time": "2020-11-06T21:33:21.215995",
     "exception": false,
     "start_time": "2020-11-06T21:33:20.625749",
     "status": "completed"
    },
    "tags": []
   },
   "outputs": [
    {
     "name": "stdout",
     "output_type": "stream",
     "text": [
      "Resultado XGBoost\n",
      "MAE: 152613.1968690702\n",
      "RMSE: 224883.2077147728\n"
     ]
    },
    {
     "data": {
      "image/png": "[encoded data removed]",
      "text/plain": [
       "<Figure size 432x288 with 1 Axes>"
      ]
     },
     "metadata": {
      "needs_background": "light"
     },
     "output_type": "display_data"
    }
   ],
   "source": [
    "#avaliando métricas do melhor modelo no conjunto de TESTE\n",
    "predictions = final_model.predict(X_test)\n",
    "\n",
    "print('Resultado XGBoost')\n",
    "print('MAE:', metrics.mean_absolute_error(y_test, predictions))\n",
    "print('RMSE:', np.sqrt(metrics.mean_squared_error(y_test, predictions)))\n",
    "\n",
    "sns.distplot((y_test-predictions),bins=50)\n",
    "plt.show()"
   ]
  },
  {
   "cell_type": "markdown",
   "metadata": {
    "papermill": {
     "duration": 0.257184,
     "end_time": "2020-11-06T21:33:21.724891",
     "exception": false,
     "start_time": "2020-11-06T21:33:21.467707",
     "status": "completed"
    },
    "tags": []
   },
   "source": [
    "A busca bayesiana permitiu que refinássemos os hiperparâmetros, diminuindo o MAE de ___ (modelo de benchmark) para ___, no conjunto de teste.\n",
    "\n",
    "### Avaliando overfitting\n",
    "No conjunto de treinamento, obtivemos um MAE de cerca de R\\\\$ 22mil, enquanto que no conjunto de teste o MAE foi de cerca de R\\\\$ 150mil. Isso mostra que nosso modelo apresenta um grau de overfitting relativamente elevado. Ele está prevendo muito bem pontos do conjunto de treinamento, mas não está generalizando tão bem para pontos nunca vistos por ele no treinamento.\n",
    "\n",
    "Para minimizar o overfitting podemos otimizar certos hiperparâmetros do XGBoosting com que ainda não trabalhamos, como o subsample. Outra estratégia para combater o problema é aumentar o tamanho de nosso conjunto de treinamento.\n",
    "\n",
    "Numa próxima etapa do projeto tentaremos minimizar esse overfitting. "
   ]
  },
  {
   "cell_type": "markdown",
   "metadata": {
    "papermill": {
     "duration": 0.254311,
     "end_time": "2020-11-06T21:33:22.233924",
     "exception": false,
     "start_time": "2020-11-06T21:33:21.979613",
     "status": "completed"
    },
    "tags": []
   },
   "source": [
    "# Previsão para nosso cliente\n",
    "Com o modelo final já treinado, podemos fazer a previsão do valor de venda do imóvel de nosso cliente.\n",
    "\n",
    "O imóvel fica localizado na Avenida Oswaldo Cruz. Possui 102m², 4 quartos, 3 banheiros e 1 vaga de garagem. O condomínio é de R\\\\$ 2000, e o IPTU de R\\\\$ 250. Assim, nossas features assumem os seguintes valores:"
   ]
  },
  {
   "cell_type": "code",
   "execution_count": 23,
   "metadata": {
    "execution": {
     "iopub.execute_input": "2020-11-06T21:33:22.762481Z",
     "iopub.status.busy": "2020-11-06T21:33:22.756585Z",
     "iopub.status.idle": "2020-11-06T21:33:22.767137Z",
     "shell.execute_reply": "2020-11-06T21:33:22.767701Z"
    },
    "papermill": {
     "duration": 0.279041,
     "end_time": "2020-11-06T21:33:22.767875",
     "exception": false,
     "start_time": "2020-11-06T21:33:22.488834",
     "status": "completed"
    },
    "tags": []
   },
   "outputs": [
    {
     "data": {
      "text/html": [
       "<div>\n",
       "<style scoped>\n",
       "    .dataframe tbody tr th:only-of-type {\n",
       "        vertical-align: middle;\n",
       "    }\n",
       "\n",
       "    .dataframe tbody tr th {\n",
       "        vertical-align: top;\n",
       "    }\n",
       "\n",
       "    .dataframe thead th {\n",
       "        text-align: right;\n",
       "    }\n",
       "</style>\n",
       "<table border=\"1\" class=\"dataframe\">\n",
       "  <thead>\n",
       "    <tr style=\"text-align: right;\">\n",
       "      <th></th>\n",
       "      <th>Barão de Icaraí</th>\n",
       "      <th>Cruz Lima</th>\n",
       "      <th>Fernando Osório</th>\n",
       "      <th>Honório de Barros</th>\n",
       "      <th>Marquês de Abrantes</th>\n",
       "      <th>Marquês de Paraná</th>\n",
       "      <th>Oswaldo Cruz</th>\n",
       "      <th>Princesa Januaria</th>\n",
       "      <th>Rui Barbosa</th>\n",
       "      <th>Senador Euzebio</th>\n",
       "      <th>Senador Vergueiro</th>\n",
       "      <th>Area</th>\n",
       "      <th>Dorms</th>\n",
       "      <th>Baths</th>\n",
       "      <th>Parking Slots</th>\n",
       "      <th>Condominio</th>\n",
       "      <th>IPTU</th>\n",
       "    </tr>\n",
       "  </thead>\n",
       "  <tbody>\n",
       "    <tr>\n",
       "      <th>0</th>\n",
       "      <td>0</td>\n",
       "      <td>0</td>\n",
       "      <td>0</td>\n",
       "      <td>0</td>\n",
       "      <td>0</td>\n",
       "      <td>0</td>\n",
       "      <td>1</td>\n",
       "      <td>0</td>\n",
       "      <td>0</td>\n",
       "      <td>0</td>\n",
       "      <td>0</td>\n",
       "      <td>102</td>\n",
       "      <td>4</td>\n",
       "      <td>3</td>\n",
       "      <td>1</td>\n",
       "      <td>2000</td>\n",
       "      <td>250</td>\n",
       "    </tr>\n",
       "  </tbody>\n",
       "</table>\n",
       "</div>"
      ],
      "text/plain": [
       "   Barão de Icaraí  Cruz Lima  Fernando Osório  Honório de Barros  \\\n",
       "0                0          0                0                  0   \n",
       "\n",
       "   Marquês de Abrantes  Marquês de Paraná  Oswaldo Cruz  Princesa Januaria  \\\n",
       "0                    0                  0             1                  0   \n",
       "\n",
       "   Rui Barbosa  Senador Euzebio  Senador Vergueiro  Area  Dorms  Baths  \\\n",
       "0            0                0                  0   102      4      3   \n",
       "\n",
       "   Parking Slots  Condominio  IPTU  \n",
       "0              1        2000   250  "
      ]
     },
     "execution_count": 23,
     "metadata": {},
     "output_type": "execute_result"
    }
   ],
   "source": [
    "client_info = pd.Series([0,0,0,0,0,0,1,0,0,0,0,102, 4, 3, 1, 2000, 250], index=df_dummies.columns[:-1])\n",
    "\n",
    "x = pd.DataFrame(client_info).transpose()\n",
    "x"
   ]
  },
  {
   "cell_type": "code",
   "execution_count": 24,
   "metadata": {
    "execution": {
     "iopub.execute_input": "2020-11-06T21:33:23.292718Z",
     "iopub.status.busy": "2020-11-06T21:33:23.291803Z",
     "iopub.status.idle": "2020-11-06T21:33:23.298367Z",
     "shell.execute_reply": "2020-11-06T21:33:23.297656Z"
    },
    "papermill": {
     "duration": 0.268009,
     "end_time": "2020-11-06T21:33:23.298528",
     "exception": false,
     "start_time": "2020-11-06T21:33:23.030519",
     "status": "completed"
    },
    "tags": []
   },
   "outputs": [
    {
     "name": "stdout",
     "output_type": "stream",
     "text": [
      "A previsão é de R$ 1183819.75\n"
     ]
    }
   ],
   "source": [
    "#fazendo a previsão para o apartamento de nosso cliente\n",
    "\n",
    "prediction = final_model.predict(x)\n",
    "\n",
    "print(f\"A previsão é de R$ {prediction[0]}\")"
   ]
  },
  {
   "cell_type": "markdown",
   "metadata": {
    "papermill": {
     "duration": 0.254597,
     "end_time": "2020-11-06T21:33:23.840869",
     "exception": false,
     "start_time": "2020-11-06T21:33:23.586272",
     "status": "completed"
    },
    "tags": []
   },
   "source": [
    "Vemos acima que a previsão de valor para o imóvel de nosso cliente é de R\\\\$ 1.183.002,00.\n",
    "\n",
    "É importante lembrar que esse valor foi encontrado com base nos valores dos anúncios de outros imóveis da região. É muito comum que sejam negociados descontos sobre os valores anunciados. Logo, não necessariamente o valor encontrado por nosso modelo é o valor de mercado real do imóvel.\n",
    "\n",
    "Vale salientar também que nosso modelo não incorporou características dos imóveis que são relevantes para os preços de venda, como estado de conservação do edifício e do imóvel, além da vista.\n",
    "\n",
    "# Explicabilidade do modelo\n",
    "Com o modelo já treinado e otimizado, agora nossa tarefa é entender e explicar quais são as decisões que o modelo toma para chegar a determinada previsão de valor.\n",
    "\n",
    "Usaremos o SHAP (SHapley Additive exPlanations), que é um approach baseado em teoria dos jogos para cumprir essa tarefa. Usaremos a implementação da biblioteca [shap](https://github.com/slundberg/shap) para Python.\n",
    "\n",
    "Primeiramente, vamos carregar a biblioteca, e encontrar os valores de shap para os exemplos de nosso conjunto de treinamento."
   ]
  },
  {
   "cell_type": "code",
   "execution_count": 25,
   "metadata": {
    "execution": {
     "iopub.execute_input": "2020-11-06T21:33:24.358903Z",
     "iopub.status.busy": "2020-11-06T21:33:24.357940Z",
     "iopub.status.idle": "2020-11-06T21:33:28.843908Z",
     "shell.execute_reply": "2020-11-06T21:33:28.844659Z"
    },
    "papermill": {
     "duration": 4.750084,
     "end_time": "2020-11-06T21:33:28.844850",
     "exception": false,
     "start_time": "2020-11-06T21:33:24.094766",
     "status": "completed"
    },
    "tags": []
   },
   "outputs": [],
   "source": [
    "import shap\n",
    "\n",
    "#calculando os valores de SHAP para cada feature de cada reserva\n",
    "explainer = shap.TreeExplainer(final_model)\n",
    "shap_values = explainer.shap_values(X_train)"
   ]
  },
  {
   "cell_type": "markdown",
   "metadata": {
    "papermill": {
     "duration": 0.258149,
     "end_time": "2020-11-06T21:33:29.398799",
     "exception": false,
     "start_time": "2020-11-06T21:33:29.140650",
     "status": "completed"
    },
    "tags": []
   },
   "source": [
    "Existe uma relação monotonamente crescente entre a soma dos valores de SHAP para todas as features de um imóvel, e a previsão que nosso model faz para o valor desse imóvel. Isso significa que quanto maior for o valor total de SHAP para um imóvel, maior é o valor de venda, previsto por nosso modelo. Em outras palavras, reservas que tem um valor total de SHAP alto também têm altos valores de venda. E reservas com valor total de SHAP baixo têm baixos valores de venda. O SHAP de uma certa feature, para um certo imóvel, informa a contribuição marginal que aquela feature tem na previsão de valor de venda.\n",
    "\n",
    "## Medindo Feature importances pelo SHAP\n",
    "Como valores de SHAP altos aumentam a previsão de valor de venda, e valores de SHAP baixos diminuem essa previsão, então a média dos módulos dos valores de SHAP para uma certa feature, ao longo de todo o nosso dataset, dá uma ideia de quão importante aquela feature é para que nosso modelo faça sua previsão.\n",
    "\n",
    "Essas importâncias relativas são mostradas no gráfico abaixo. Notamos que a área é, disparada, a feature mais importante para que nosso modelo faça a previsão de valor de venda de imóvel. Com muito menos importância, mas ainda sim importantes, temos o número de vagas de garagem. Em seguida, com igual importância, temos o valor de condomínio, IPTU, e o fato do imóvel estar (ou não) localizado na Avenida Rui Barbosa. A seguir, com um pouco menos importância, temos o número de banheiros e de dormitórios. As outras features informam se o imóvel está localizado em cada uma das ruas estudadas."
   ]
  },
  {
   "cell_type": "code",
   "execution_count": 26,
   "metadata": {
    "execution": {
     "iopub.execute_input": "2020-11-06T21:33:29.918000Z",
     "iopub.status.busy": "2020-11-06T21:33:29.911795Z",
     "iopub.status.idle": "2020-11-06T21:33:30.159804Z",
     "shell.execute_reply": "2020-11-06T21:33:30.159163Z"
    },
    "papermill": {
     "duration": 0.504922,
     "end_time": "2020-11-06T21:33:30.159927",
     "exception": false,
     "start_time": "2020-11-06T21:33:29.655005",
     "status": "completed"
    },
    "tags": []
   },
   "outputs": [
    {
     "data": {
      "image/png": "[encoded data removed]",
      "text/plain": [
       "<Figure size 576x597.6 with 1 Axes>"
      ]
     },
     "metadata": {
      "needs_background": "light"
     },
     "output_type": "display_data"
    }
   ],
   "source": [
    "#plotando as feature importances finais\n",
    "shap.summary_plot(shap_values, X_train.columns, plot_type=\"bar\")"
   ]
  },
  {
   "cell_type": "markdown",
   "metadata": {
    "papermill": {
     "duration": 0.256216,
     "end_time": "2020-11-06T21:33:30.670131",
     "exception": false,
     "start_time": "2020-11-06T21:33:30.413915",
     "status": "completed"
    },
    "tags": []
   },
   "source": [
    "## Impacto das features na previsão do modelo\n",
    "O gráfico abaixo dá uma visão geral das decisões que nosso modelo faz para chegar à previsão de valor de venda do imóvel. Cada linha representa uma feature diferente e deve ser lida separadamente. Perceba que as features são ordenadas da mais importante para a menos importante, de acordo com as feature importances mostradas acima.\n",
    "\n",
    "A primeira linha representa a área do imóvel. Temos uma correlação positiva: quanto maior é a área do imóvel, maior é a previsão de valor de venda encontrada por nosso modelo.\n",
    "\n",
    "A segunda linha representa quantas vagas de garagem possui o imóvel. Quando não há vagas (em azul), a previsão de valor é diminuída. Quando há 1 vaga (cluster roxo), a previsão é suavemente aumentada. Para mais vagas, temos maiores aumentos na previsão do modelo.\n",
    "\n",
    "A terceira e quarta linhas, de Condomínio e IPTU, respectivamente, apresentam comportamentos similares. Quando esses valores são mais baixos, a previsão do modelo tende a diminuir.\n",
    "\n",
    "A quinta linha, Rui Barbosa, mostra que nosso modelo atribui um valor premium a imóveis localizados nessa rua. Imóveis que não estão localizados na Rui Barbosa sofrem uma diminuição de previsão de nota, e imóveis que lá estão têm sua previsão aumentada.\n",
    "\n",
    "As linhas seis e sete mostram que a tendência é que a previsão de nota sejam maior quando o imóvel possui mais banheiros ou quartos, mas esse efeito é limitado."
   ]
  },
  {
   "cell_type": "code",
   "execution_count": 27,
   "metadata": {
    "execution": {
     "iopub.execute_input": "2020-11-06T21:33:31.184932Z",
     "iopub.status.busy": "2020-11-06T21:33:31.184147Z",
     "iopub.status.idle": "2020-11-06T21:33:31.859250Z",
     "shell.execute_reply": "2020-11-06T21:33:31.859855Z"
    },
    "papermill": {
     "duration": 0.93661,
     "end_time": "2020-11-06T21:33:31.860015",
     "exception": false,
     "start_time": "2020-11-06T21:33:30.923405",
     "status": "completed"
    },
    "tags": []
   },
   "outputs": [
    {
     "data": {
      "image/png": "[encoded data removed]",
      "text/plain": [
       "<Figure size 576x597.6 with 2 Axes>"
      ]
     },
     "metadata": {
      "needs_background": "light"
     },
     "output_type": "display_data"
    }
   ],
   "source": [
    "#plotando os valores de SHAP para cada feature de cada reserva\n",
    "shap.summary_plot(shap_values, X_train)"
   ]
  },
  {
   "cell_type": "markdown",
   "metadata": {
    "papermill": {
     "duration": 0.257056,
     "end_time": "2020-11-06T21:33:32.373989",
     "exception": false,
     "start_time": "2020-11-06T21:33:32.116933",
     "status": "completed"
    },
    "tags": []
   },
   "source": [
    "### Area\n",
    "O gráfico abaixo mostra que a previsão do modelo tem relação aproximadamente linear com a área do imóvel, em especial para imóveis com áreas de até 140m²."
   ]
  },
  {
   "cell_type": "code",
   "execution_count": 28,
   "metadata": {
    "execution": {
     "iopub.execute_input": "2020-11-06T21:33:32.905094Z",
     "iopub.status.busy": "2020-11-06T21:33:32.902761Z",
     "iopub.status.idle": "2020-11-06T21:33:33.085088Z",
     "shell.execute_reply": "2020-11-06T21:33:33.084449Z"
    },
    "papermill": {
     "duration": 0.451733,
     "end_time": "2020-11-06T21:33:33.085219",
     "exception": false,
     "start_time": "2020-11-06T21:33:32.633486",
     "status": "completed"
    },
    "tags": []
   },
   "outputs": [
    {
     "data": {
      "image/png": "[encoded data removed]",
      "text/plain": [
       "<Figure size 432x360 with 1 Axes>"
      ]
     },
     "metadata": {
      "needs_background": "light"
     },
     "output_type": "display_data"
    }
   ],
   "source": [
    "shap.dependence_plot('Area', shap_values, X_train, interaction_index=None)"
   ]
  },
  {
   "cell_type": "markdown",
   "metadata": {
    "papermill": {
     "duration": 0.257974,
     "end_time": "2020-11-06T21:33:33.601502",
     "exception": false,
     "start_time": "2020-11-06T21:33:33.343528",
     "status": "completed"
    },
    "tags": []
   },
   "source": [
    "## Vagas de Garagem\n",
    "O gráfico abaixo reafirma que imóveis com vagas de garagem tendem a ter maiores previsões de valor feitas por nosso modelo.\n",
    "\n",
    "Podemos observar um outro efeito interessante: caso o imóvel não possua vagas de garagem, a diminuição na previsão que nosso modelo faz é mais intensa para imóveis de maior área."
   ]
  },
  {
   "cell_type": "code",
   "execution_count": 29,
   "metadata": {
    "execution": {
     "iopub.execute_input": "2020-11-06T21:33:34.132387Z",
     "iopub.status.busy": "2020-11-06T21:33:34.131225Z",
     "iopub.status.idle": "2020-11-06T21:33:34.394508Z",
     "shell.execute_reply": "2020-11-06T21:33:34.395140Z"
    },
    "papermill": {
     "duration": 0.537946,
     "end_time": "2020-11-06T21:33:34.395292",
     "exception": false,
     "start_time": "2020-11-06T21:33:33.857346",
     "status": "completed"
    },
    "tags": []
   },
   "outputs": [
    {
     "data": {
      "image/png": "[encoded data removed]",
      "text/plain": [
       "<Figure size 540x360 with 2 Axes>"
      ]
     },
     "metadata": {
      "needs_background": "light"
     },
     "output_type": "display_data"
    }
   ],
   "source": [
    "shap.dependence_plot('Parking Slots', shap_values, X_train, interaction_index=\"Area\")"
   ]
  },
  {
   "cell_type": "markdown",
   "metadata": {
    "papermill": {
     "duration": 0.259143,
     "end_time": "2020-11-06T21:33:34.916673",
     "exception": false,
     "start_time": "2020-11-06T21:33:34.657530",
     "status": "completed"
    },
    "tags": []
   },
   "source": [
    "## Condomínio\n",
    "Valores baixos de condomínio tendem a fazer a previsão do nosso modelo diminuir.\n",
    "\n",
    "Em contrapartida, valores altos de condomínio não geram um aumento ou diminuição consistente de previsão do modelo."
   ]
  },
  {
   "cell_type": "code",
   "execution_count": 30,
   "metadata": {
    "execution": {
     "iopub.execute_input": "2020-11-06T21:33:35.448265Z",
     "iopub.status.busy": "2020-11-06T21:33:35.442109Z",
     "iopub.status.idle": "2020-11-06T21:33:35.726017Z",
     "shell.execute_reply": "2020-11-06T21:33:35.726625Z"
    },
    "papermill": {
     "duration": 0.548601,
     "end_time": "2020-11-06T21:33:35.726789",
     "exception": false,
     "start_time": "2020-11-06T21:33:35.178188",
     "status": "completed"
    },
    "tags": []
   },
   "outputs": [
    {
     "data": {
      "image/png": "[encoded data removed]",
      "text/plain": [
       "<Figure size 540x360 with 2 Axes>"
      ]
     },
     "metadata": {
      "needs_background": "light"
     },
     "output_type": "display_data"
    }
   ],
   "source": [
    "shap.dependence_plot('Condominio', shap_values, X_train, interaction_index=\"Area\")"
   ]
  },
  {
   "cell_type": "markdown",
   "metadata": {
    "papermill": {
     "duration": 0.262604,
     "end_time": "2020-11-06T21:33:36.251097",
     "exception": false,
     "start_time": "2020-11-06T21:33:35.988493",
     "status": "completed"
    },
    "tags": []
   },
   "source": [
    "## Rui Barbosa\n",
    "Nosso modelo associa um valor premium a apartamentos que estão localizados na Av. Rui Barbosa.\n",
    "\n",
    "O gráfico abaixo mostra um efeito interessante: apartamentos com grandes áreas sofrem uma penalização maior na previsão de nosso modelo por não estarem localizados na Rui Barbosa, se comparados a imóveis de menores áreas."
   ]
  },
  {
   "cell_type": "code",
   "execution_count": 31,
   "metadata": {
    "execution": {
     "iopub.execute_input": "2020-11-06T21:33:36.780645Z",
     "iopub.status.busy": "2020-11-06T21:33:36.779886Z",
     "iopub.status.idle": "2020-11-06T21:33:37.248241Z",
     "shell.execute_reply": "2020-11-06T21:33:37.247501Z"
    },
    "papermill": {
     "duration": 0.737122,
     "end_time": "2020-11-06T21:33:37.248368",
     "exception": false,
     "start_time": "2020-11-06T21:33:36.511246",
     "status": "completed"
    },
    "tags": []
   },
   "outputs": [
    {
     "data": {
      "image/png": "[encoded data removed]",
      "text/plain": [
       "<Figure size 540x360 with 2 Axes>"
      ]
     },
     "metadata": {
      "needs_background": "light"
     },
     "output_type": "display_data"
    }
   ],
   "source": [
    "shap.dependence_plot('Rui Barbosa', shap_values, X_train)"
   ]
  },
  {
   "cell_type": "markdown",
   "metadata": {
    "papermill": {
     "duration": 0.264351,
     "end_time": "2020-11-06T21:33:37.773404",
     "exception": false,
     "start_time": "2020-11-06T21:33:37.509053",
     "status": "completed"
    },
    "tags": []
   },
   "source": [
    "## Banheiros\n",
    "Quanto maior o número de banheiros, maior a previsão de nosso modelo. Outro efeito interessante mostrado abaixo é que quando um imóvel possui 3 ou 4 banheiros, o aumento da previsão do modelo é mais intenso para imóveis de menor área. Em outras palavras, esses imóveis \"compensam\" sua menor área pela presença de um banheiro extra."
   ]
  },
  {
   "cell_type": "code",
   "execution_count": 32,
   "metadata": {
    "execution": {
     "iopub.execute_input": "2020-11-06T21:33:38.312636Z",
     "iopub.status.busy": "2020-11-06T21:33:38.311790Z",
     "iopub.status.idle": "2020-11-06T21:33:38.562205Z",
     "shell.execute_reply": "2020-11-06T21:33:38.561555Z"
    },
    "papermill": {
     "duration": 0.526207,
     "end_time": "2020-11-06T21:33:38.562337",
     "exception": false,
     "start_time": "2020-11-06T21:33:38.036130",
     "status": "completed"
    },
    "tags": []
   },
   "outputs": [
    {
     "data": {
      "image/png": "[encoded data removed]",
      "text/plain": [
       "<Figure size 540x360 with 2 Axes>"
      ]
     },
     "metadata": {
      "needs_background": "light"
     },
     "output_type": "display_data"
    }
   ],
   "source": [
    "shap.dependence_plot('Baths', shap_values, X_train, interaction_index=\"Area\")"
   ]
  },
  {
   "cell_type": "markdown",
   "metadata": {
    "papermill": {
     "duration": 0.293852,
     "end_time": "2020-11-06T21:33:39.118161",
     "exception": false,
     "start_time": "2020-11-06T21:33:38.824309",
     "status": "completed"
    },
    "tags": []
   },
   "source": [
    "## Quartos\n",
    "vemos abaixo que nosso modelo diminui fortemente a previsão de valor de imóveis que possuem apenas um quarto."
   ]
  },
  {
   "cell_type": "code",
   "execution_count": 33,
   "metadata": {
    "execution": {
     "iopub.execute_input": "2020-11-06T21:33:39.676161Z",
     "iopub.status.busy": "2020-11-06T21:33:39.674618Z",
     "iopub.status.idle": "2020-11-06T21:33:39.954050Z",
     "shell.execute_reply": "2020-11-06T21:33:39.954912Z"
    },
    "papermill": {
     "duration": 0.564887,
     "end_time": "2020-11-06T21:33:39.955111",
     "exception": false,
     "start_time": "2020-11-06T21:33:39.390224",
     "status": "completed"
    },
    "tags": []
   },
   "outputs": [
    {
     "data": {
      "image/png": "[encoded data removed]",
      "text/plain": [
       "<Figure size 540x360 with 2 Axes>"
      ]
     },
     "metadata": {
      "needs_background": "light"
     },
     "output_type": "display_data"
    }
   ],
   "source": [
    "shap.dependence_plot('Dorms', shap_values, X_train, interaction_index=\"Area\")"
   ]
  },
  {
   "cell_type": "markdown",
   "metadata": {
    "papermill": {
     "duration": 0.268722,
     "end_time": "2020-11-06T21:33:40.528827",
     "exception": false,
     "start_time": "2020-11-06T21:33:40.260105",
     "status": "completed"
    },
    "tags": []
   },
   "source": [
    "## Oswaldo Cruz\n",
    "Vemos abaixo que o modelo aumenta a previsão de nota quando o imóvel está localizado na Av. Oswaldo Cruz."
   ]
  },
  {
   "cell_type": "code",
   "execution_count": 34,
   "metadata": {
    "execution": {
     "iopub.execute_input": "2020-11-06T21:33:41.076038Z",
     "iopub.status.busy": "2020-11-06T21:33:41.070365Z",
     "iopub.status.idle": "2020-11-06T21:33:41.242737Z",
     "shell.execute_reply": "2020-11-06T21:33:41.241935Z"
    },
    "papermill": {
     "duration": 0.445053,
     "end_time": "2020-11-06T21:33:41.242868",
     "exception": false,
     "start_time": "2020-11-06T21:33:40.797815",
     "status": "completed"
    },
    "tags": []
   },
   "outputs": [
    {
     "data": {
      "image/png": "[encoded data removed]",
      "text/plain": [
       "<Figure size 432x360 with 1 Axes>"
      ]
     },
     "metadata": {
      "needs_background": "light"
     },
     "output_type": "display_data"
    }
   ],
   "source": [
    "shap.dependence_plot('Oswaldo Cruz', shap_values, X_train, interaction_index=None)"
   ]
  }
 ],
 "metadata": {
  "kernelspec": {
   "display_name": "Python 3",
   "language": "python",
   "name": "python3"
  },
  "language_info": {
   "codemirror_mode": {
    "name": "ipython",
    "version": 3
   },
   "file_extension": ".py",
   "mimetype": "text/x-python",
   "name": "python",
   "nbconvert_exporter": "python",
   "pygments_lexer": "ipython3",
   "version": "3.7.6"
  },
  "papermill": {
   "duration": 3497.353179,
   "end_time": "2020-11-06T21:33:41.617647",
   "environment_variables": {},
   "exception": null,
   "input_path": "__notebook__.ipynb",
   "output_path": "__notebook__.ipynb",
   "parameters": {},
   "start_time": "2020-11-06T20:35:24.264468",
   "version": "2.1.0"
  }
 },
 "nbformat": 4,
 "nbformat_minor": 4
}
