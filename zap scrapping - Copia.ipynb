{
 "cells": [
  {
   "cell_type": "markdown",
   "metadata": {},
   "source": [
    "# Data Scrapping\n",
    "* Nesse arquivo, utilizamos a biblioteca BeautifulSoup para extrair dados sobre imóveis do [Zap Imóveis](https://www.zapimoveis.com.br).\n",
    "* O Zap imóveis usa uma proteção do [Cloudflare.com](https://www.cloudflare.com) para impedir que scripts tenham acesso às informações do site. Contornamos esse problema usando o pacote [cloudscraper](https://pypi.org/project/cloudscraper/), que simula o requester ter suporte à javascript (como um browser).\n",
    "* Conseguimos importar com sucesso informações sobre 2889 apartamentos à venda na área de interesse, incluindo endereço, área, quantidade de dormitórios, quantidade de banheiros, quantidade de vagas de garagem, valor do condomínio, iptu, e preço de venda."
   ]
  },
  {
   "cell_type": "code",
   "execution_count": 4,
   "metadata": {},
   "outputs": [],
   "source": [
    "#importando as bibliotecas\n",
    "import requests\n",
    "from bs4 import BeautifulSoup as bs\n",
    "import pandas as pd\n",
    "import time"
   ]
  },
  {
   "cell_type": "markdown",
   "metadata": {},
   "source": [
    "Primeiramente, tentamos fazer o data scrapping da maneira convencional. Ou seja, tentamos usar a biblioteca requests para receber o HTML da página. Entretando, recebemos o seguinte erro:\n",
    "\n",
    "**Access denied | www.zapimoveis.com.br used Cloudflare to restrict access**"
   ]
  },
  {
   "cell_type": "code",
   "execution_count": 2,
   "metadata": {
    "scrolled": false
   },
   "outputs": [
    {
     "name": "stdout",
     "output_type": "stream",
     "text": [
      "<!DOCTYPE html>\n",
      "<!--[if lt IE 7]> <html class=\"no-js ie6 oldie\" lang=\"en-US\"> <![endif]--><!--[if IE 7]>    <html class=\"no-js ie7 oldie\" lang=\"en-US\"> <![endif]--><!--[if IE 8]>    <html class=\"no-js ie8 oldie\" lang=\"en-US\"> <![endif]--><!--[if gt IE 8]><!--><html class=\"no-js\" lang=\"en-US\"> <!--<![endif]-->\n",
      "<head>\n",
      "<title>Access denied | www.zapimoveis.com.br used Cloudflare to restrict access</title>\n",
      "<meta charset=\"utf-8\"/>\n",
      "<meta content=\"text/html; charset=utf-8\" http-equiv=\"Content-Type\"/>\n",
      "<meta content=\"IE=Edge,chrome=1\" http-equiv=\"X-UA-Compatible\"/>\n",
      "<meta content=\"noindex, nofollow\" name=\"robots\"/>\n",
      "<meta content=\"width=device-width,initial-scale=1\" name=\"viewport\"/>\n",
      "<link href=\"/cdn-cgi/styles/main.css\" id=\"cf_styles-css\" media=\"screen,projection\" rel=\"stylesheet\" type=\"text/css\"/>\n",
      "</head>\n",
      "<body>\n",
      "<div id=\"cf-wrapper\">\n",
      "<div class=\"cf-alert cf-alert-error cf-cookie-error hidden\" data-translate=\"enable_cookies\" id=\"cookie-alert\">Please enable cookies.</div>\n",
      "<div class=\"p-0\" id=\"cf-error-details\">\n",
      "<header class=\"mx-auto pt-10 lg:pt-6 lg:px-8 w-240 lg:w-full mb-15 antialiased\">\n",
      "<h1 class=\"inline-block md:block mr-2 md:mb-2 font-light text-60 md:text-3xl text-black-dark leading-tight\">\n",
      "<span data-translate=\"error\">Error</span>\n",
      "<span>1020</span>\n",
      "</h1>\n",
      "<span class=\"inline-block md:block heading-ray-id font-mono text-15 lg:text-sm lg:leading-relaxed\">Ray ID: 5eaf1b3f785ddb80 •</span>\n",
      "<span class=\"inline-block md:block heading-ray-id font-mono text-15 lg:text-sm lg:leading-relaxed\">2020-10-31 17:30:52 UTC</span>\n",
      "<h2 class=\"text-gray-600 leading-1.3 text-3xl lg:text-2xl font-light\">Access denied</h2>\n",
      "</header>\n",
      "<section class=\"w-240 lg:w-full mx-auto mb-8 lg:px-8\">\n",
      "<div class=\"w-1/2 md:w-full\" id=\"what-happened-section\">\n",
      "<h2 class=\"text-3xl leading-tight font-normal mb-4 text-black-dark antialiased\" data-translate=\"what_happened\">What happened?</h2>\n",
      "<p>This website is using a security service to protect itself from online attacks.</p>\n",
      "</div>\n",
      "</section>\n",
      "<div class=\"cf-error-footer cf-wrapper w-240 lg:w-full py-10 sm:py-4 sm:px-8 mx-auto text-center sm:text-left border-solid border-0 border-t border-gray-300\">\n",
      "<p class=\"text-13\">\n",
      "<span class=\"cf-footer-item sm:block sm:mb-1\">Cloudflare Ray ID: <strong class=\"font-semibold\">5eaf1b3f785ddb80</strong></span>\n",
      "<span class=\"cf-footer-separator sm:hidden\">•</span>\n",
      "<span class=\"cf-footer-item sm:block sm:mb-1\"><span>Your IP</span>: 2804:7f1:ea81:53b9:5557:934f:9a15:bc14</span>\n",
      "<span class=\"cf-footer-separator sm:hidden\">•</span>\n",
      "<span class=\"cf-footer-item sm:block sm:mb-1\"><span>Performance &amp; security by</span> <a href=\"https://www.cloudflare.com/5xx-error-landing\" id=\"brand_link\" rel=\"noopener noreferrer\" target=\"_blank\">Cloudflare</a></span>\n",
      "</p>\n",
      "</div><!-- /.error-footer -->\n",
      "</div><!-- /#cf-error-details -->\n",
      "</div><!-- /#cf-wrapper -->\n",
      "<script type=\"text/javascript\">\n",
      "  window._cf_translation = {};\n",
      "  \n",
      "  \n",
      "</script>\n",
      "</body>\n",
      "</html>\n",
      "\n"
     ]
    }
   ],
   "source": [
    "# Load the webpage content\n",
    "r = requests.get(\"https://www.zapimoveis.com.br/venda/apartamentos/rj+rio-de-janeiro+zona-sul+flamengo/?onde=,Rio%20de%20Janeiro,Rio%20de%20Janeiro,Zona%20Sul,Flamengo,,,,BR%3ERio%20de%20Janeiro%3ENULL%3ERio%20de%20Janeiro%3EZona%20Sul%3EFlamengo,-22.936822,-43.175702&transacao=Venda&tipo=Im%C3%B3vel%20usado&areaMaxima=35&tipoUnidade=Residencial,Apartamento&pagina=1\")\n",
    "\n",
    "# Convert to a beautiful soup object\n",
    "soup = bs(r.content)\n",
    "\n",
    "print(soup)\n",
    "\n",
    "# Print out our html\n",
    "#print(soup.prettify())"
   ]
  },
  {
   "cell_type": "markdown",
   "metadata": {},
   "source": [
    "Pesquisei sobre a maneira como o Cloudfare faz essa proteção: *Cloudflare's anti-bot page currently just checks if the client supports Javascript*. Para contornar esse problema, usamos o pacote [cloudscraper](https://pypi.org/project/cloudscraper/), que simula o requester ter suporte à javascript (como um browser).\n",
    "\n",
    "Fiz um teste abaixo e consegui receber as informações dos anúncios do Zap com sucesso."
   ]
  },
  {
   "cell_type": "code",
   "execution_count": 11,
   "metadata": {
    "scrolled": false
   },
   "outputs": [],
   "source": [
    "import cloudscraper\n",
    "\n",
    "scraper = cloudscraper.create_scraper()  # returns a CloudScraper instance\n",
    "\n",
    "#vamos testar o funcionamento com uma URL qualquer\n",
    "url = 'https://www.zapimoveis.com.br/venda/apartamentos/rj+rio-de-janeiro/avenida-oswaldo-cruz/?onde=,Rio%20de%20Janeiro,Rio%20de%20Janeiro,Zona%20Sul,Botafogo,Avenida%20Oswaldo%20Cruz,,,BR%3ERio%20de%20Janeiro%3ENULL%3ERio%20de%20Janeiro%3EZona%20Sul%3EBotafogo,-22.9398472,-43.175138&transacao=Venda&areaMaxima=100&areaMinima=0&tipoUnidade=Residencial,Apartamento&tipo=Im%C3%B3vel%20usado&pagina=2'\n",
    "request_body = scraper.get(url).text\n",
    "\n",
    "soup = bs(request_body)\n",
    "\n",
    "cards_all = soup.find_all(\"div\", attrs={\"class\": \"box--display-flex box--flex-column gutter-top-double gutter-left-double gutter-right-double gutter-bottom-double simple-card__box\"})\n",
    "#print(soup.prettify())"
   ]
  },
  {
   "cell_type": "code",
   "execution_count": 28,
   "metadata": {},
   "outputs": [],
   "source": [
    "oswaldo_cruz = {\n",
    "f'https://www.zapimoveis.com.br/venda/apartamentos/rj+rio-de-janeiro/avenida-oswaldo-cruz/?onde=,Rio%20de%20Janeiro,Rio%20de%20Janeiro,Zona%20Sul,Botafogo,Avenida%20Oswaldo%20Cruz,,,BR%3ERio%20de%20Janeiro%3ENULL%3ERio%20de%20Janeiro%3EZona%20Sul%3EBotafogo,-22.9398472,-43.175138&transacao=Venda&areaMaxima=100&areaMinima=0&tipoUnidade=Residencial,Apartamento&tipo=Im%C3%B3vel%20usado': 6,\n",
    "f'https://www.zapimoveis.com.br/venda/apartamentos/rj+rio-de-janeiro/avenida-oswaldo-cruz/?onde=,Rio%20de%20Janeiro,Rio%20de%20Janeiro,Zona%20Sul,Botafogo,Avenida%20Oswaldo%20Cruz,,,BR%3ERio%20de%20Janeiro%3ENULL%3ERio%20de%20Janeiro%3EZona%20Sul%3EBotafogo,-22.9398472,-43.175138&transacao=Venda&areaMaxima=130&areaMinima=101&tipoUnidade=Residencial,Apartamento&tipo=Im%C3%B3vel%20usado': 4,\n",
    "f'https://www.zapimoveis.com.br/venda/apartamentos/rj+rio-de-janeiro/avenida-oswaldo-cruz/?onde=,Rio%20de%20Janeiro,Rio%20de%20Janeiro,Zona%20Sul,Botafogo,Avenida%20Oswaldo%20Cruz,,,BR%3ERio%20de%20Janeiro%3ENULL%3ERio%20de%20Janeiro%3EZona%20Sul%3EBotafogo,-22.9398472,-43.175138&transacao=Venda&areaMaxima=210&areaMinima=131&tipoUnidade=Residencial,Apartamento&tipo=Im%C3%B3vel%20usado': 9,\n",
    "f'https://www.zapimoveis.com.br/venda/apartamentos/rj+rio-de-janeiro/avenida-oswaldo-cruz/?onde=,Rio%20de%20Janeiro,Rio%20de%20Janeiro,Zona%20Sul,Botafogo,Avenida%20Oswaldo%20Cruz,,,BR%3ERio%20de%20Janeiro%3ENULL%3ERio%20de%20Janeiro%3EZona%20Sul%3EBotafogo,-22.9398472,-43.175138&transacao=Venda&tipo=Im%C3%B3vel%20usado&areaMinima=211&areaMaxima=500&tipoUnidade=Residencial,Apartamento': 6\n",
    "}    "
   ]
  },
  {
   "cell_type": "code",
   "execution_count": 35,
   "metadata": {
    "scrolled": true
   },
   "outputs": [
    {
     "name": "stdout",
     "output_type": "stream",
     "text": [
      "https://www.zapimoveis.com.br/venda/apartamentos/rj+rio-de-janeiro/avenida-oswaldo-cruz/?onde=,Rio%20de%20Janeiro,Rio%20de%20Janeiro,Zona%20Sul,Botafogo,Avenida%20Oswaldo%20Cruz,,,BR%3ERio%20de%20Janeiro%3ENULL%3ERio%20de%20Janeiro%3EZona%20Sul%3EBotafogo,-22.9398472,-43.175138&transacao=Venda&areaMaxima=100&areaMinima=0&tipoUnidade=Residencial,Apartamento&tipo=Im%C3%B3vel%20usado&pagina=1\n",
      "https://www.zapimoveis.com.br/venda/apartamentos/rj+rio-de-janeiro/avenida-oswaldo-cruz/?onde=,Rio%20de%20Janeiro,Rio%20de%20Janeiro,Zona%20Sul,Botafogo,Avenida%20Oswaldo%20Cruz,,,BR%3ERio%20de%20Janeiro%3ENULL%3ERio%20de%20Janeiro%3EZona%20Sul%3EBotafogo,-22.9398472,-43.175138&transacao=Venda&areaMaxima=100&areaMinima=0&tipoUnidade=Residencial,Apartamento&tipo=Im%C3%B3vel%20usado&pagina=2\n",
      "https://www.zapimoveis.com.br/venda/apartamentos/rj+rio-de-janeiro/avenida-oswaldo-cruz/?onde=,Rio%20de%20Janeiro,Rio%20de%20Janeiro,Zona%20Sul,Botafogo,Avenida%20Oswaldo%20Cruz,,,BR%3ERio%20de%20Janeiro%3ENULL%3ERio%20de%20Janeiro%3EZona%20Sul%3EBotafogo,-22.9398472,-43.175138&transacao=Venda&areaMaxima=100&areaMinima=0&tipoUnidade=Residencial,Apartamento&tipo=Im%C3%B3vel%20usado&pagina=3\n",
      "https://www.zapimoveis.com.br/venda/apartamentos/rj+rio-de-janeiro/avenida-oswaldo-cruz/?onde=,Rio%20de%20Janeiro,Rio%20de%20Janeiro,Zona%20Sul,Botafogo,Avenida%20Oswaldo%20Cruz,,,BR%3ERio%20de%20Janeiro%3ENULL%3ERio%20de%20Janeiro%3EZona%20Sul%3EBotafogo,-22.9398472,-43.175138&transacao=Venda&areaMaxima=100&areaMinima=0&tipoUnidade=Residencial,Apartamento&tipo=Im%C3%B3vel%20usado&pagina=4\n",
      "https://www.zapimoveis.com.br/venda/apartamentos/rj+rio-de-janeiro/avenida-oswaldo-cruz/?onde=,Rio%20de%20Janeiro,Rio%20de%20Janeiro,Zona%20Sul,Botafogo,Avenida%20Oswaldo%20Cruz,,,BR%3ERio%20de%20Janeiro%3ENULL%3ERio%20de%20Janeiro%3EZona%20Sul%3EBotafogo,-22.9398472,-43.175138&transacao=Venda&areaMaxima=100&areaMinima=0&tipoUnidade=Residencial,Apartamento&tipo=Im%C3%B3vel%20usado&pagina=5\n",
      "https://www.zapimoveis.com.br/venda/apartamentos/rj+rio-de-janeiro/avenida-oswaldo-cruz/?onde=,Rio%20de%20Janeiro,Rio%20de%20Janeiro,Zona%20Sul,Botafogo,Avenida%20Oswaldo%20Cruz,,,BR%3ERio%20de%20Janeiro%3ENULL%3ERio%20de%20Janeiro%3EZona%20Sul%3EBotafogo,-22.9398472,-43.175138&transacao=Venda&areaMaxima=100&areaMinima=0&tipoUnidade=Residencial,Apartamento&tipo=Im%C3%B3vel%20usado&pagina=6\n",
      "https://www.zapimoveis.com.br/venda/apartamentos/rj+rio-de-janeiro/avenida-oswaldo-cruz/?onde=,Rio%20de%20Janeiro,Rio%20de%20Janeiro,Zona%20Sul,Botafogo,Avenida%20Oswaldo%20Cruz,,,BR%3ERio%20de%20Janeiro%3ENULL%3ERio%20de%20Janeiro%3EZona%20Sul%3EBotafogo,-22.9398472,-43.175138&transacao=Venda&areaMaxima=130&areaMinima=101&tipoUnidade=Residencial,Apartamento&tipo=Im%C3%B3vel%20usado&pagina=1\n",
      "https://www.zapimoveis.com.br/venda/apartamentos/rj+rio-de-janeiro/avenida-oswaldo-cruz/?onde=,Rio%20de%20Janeiro,Rio%20de%20Janeiro,Zona%20Sul,Botafogo,Avenida%20Oswaldo%20Cruz,,,BR%3ERio%20de%20Janeiro%3ENULL%3ERio%20de%20Janeiro%3EZona%20Sul%3EBotafogo,-22.9398472,-43.175138&transacao=Venda&areaMaxima=130&areaMinima=101&tipoUnidade=Residencial,Apartamento&tipo=Im%C3%B3vel%20usado&pagina=2\n",
      "https://www.zapimoveis.com.br/venda/apartamentos/rj+rio-de-janeiro/avenida-oswaldo-cruz/?onde=,Rio%20de%20Janeiro,Rio%20de%20Janeiro,Zona%20Sul,Botafogo,Avenida%20Oswaldo%20Cruz,,,BR%3ERio%20de%20Janeiro%3ENULL%3ERio%20de%20Janeiro%3EZona%20Sul%3EBotafogo,-22.9398472,-43.175138&transacao=Venda&areaMaxima=130&areaMinima=101&tipoUnidade=Residencial,Apartamento&tipo=Im%C3%B3vel%20usado&pagina=3\n",
      "https://www.zapimoveis.com.br/venda/apartamentos/rj+rio-de-janeiro/avenida-oswaldo-cruz/?onde=,Rio%20de%20Janeiro,Rio%20de%20Janeiro,Zona%20Sul,Botafogo,Avenida%20Oswaldo%20Cruz,,,BR%3ERio%20de%20Janeiro%3ENULL%3ERio%20de%20Janeiro%3EZona%20Sul%3EBotafogo,-22.9398472,-43.175138&transacao=Venda&areaMaxima=130&areaMinima=101&tipoUnidade=Residencial,Apartamento&tipo=Im%C3%B3vel%20usado&pagina=4\n",
      "https://www.zapimoveis.com.br/venda/apartamentos/rj+rio-de-janeiro/avenida-oswaldo-cruz/?onde=,Rio%20de%20Janeiro,Rio%20de%20Janeiro,Zona%20Sul,Botafogo,Avenida%20Oswaldo%20Cruz,,,BR%3ERio%20de%20Janeiro%3ENULL%3ERio%20de%20Janeiro%3EZona%20Sul%3EBotafogo,-22.9398472,-43.175138&transacao=Venda&areaMaxima=210&areaMinima=131&tipoUnidade=Residencial,Apartamento&tipo=Im%C3%B3vel%20usado&pagina=1\n",
      "https://www.zapimoveis.com.br/venda/apartamentos/rj+rio-de-janeiro/avenida-oswaldo-cruz/?onde=,Rio%20de%20Janeiro,Rio%20de%20Janeiro,Zona%20Sul,Botafogo,Avenida%20Oswaldo%20Cruz,,,BR%3ERio%20de%20Janeiro%3ENULL%3ERio%20de%20Janeiro%3EZona%20Sul%3EBotafogo,-22.9398472,-43.175138&transacao=Venda&areaMaxima=210&areaMinima=131&tipoUnidade=Residencial,Apartamento&tipo=Im%C3%B3vel%20usado&pagina=2\n",
      "https://www.zapimoveis.com.br/venda/apartamentos/rj+rio-de-janeiro/avenida-oswaldo-cruz/?onde=,Rio%20de%20Janeiro,Rio%20de%20Janeiro,Zona%20Sul,Botafogo,Avenida%20Oswaldo%20Cruz,,,BR%3ERio%20de%20Janeiro%3ENULL%3ERio%20de%20Janeiro%3EZona%20Sul%3EBotafogo,-22.9398472,-43.175138&transacao=Venda&areaMaxima=210&areaMinima=131&tipoUnidade=Residencial,Apartamento&tipo=Im%C3%B3vel%20usado&pagina=3\n",
      "https://www.zapimoveis.com.br/venda/apartamentos/rj+rio-de-janeiro/avenida-oswaldo-cruz/?onde=,Rio%20de%20Janeiro,Rio%20de%20Janeiro,Zona%20Sul,Botafogo,Avenida%20Oswaldo%20Cruz,,,BR%3ERio%20de%20Janeiro%3ENULL%3ERio%20de%20Janeiro%3EZona%20Sul%3EBotafogo,-22.9398472,-43.175138&transacao=Venda&areaMaxima=210&areaMinima=131&tipoUnidade=Residencial,Apartamento&tipo=Im%C3%B3vel%20usado&pagina=4\n",
      "https://www.zapimoveis.com.br/venda/apartamentos/rj+rio-de-janeiro/avenida-oswaldo-cruz/?onde=,Rio%20de%20Janeiro,Rio%20de%20Janeiro,Zona%20Sul,Botafogo,Avenida%20Oswaldo%20Cruz,,,BR%3ERio%20de%20Janeiro%3ENULL%3ERio%20de%20Janeiro%3EZona%20Sul%3EBotafogo,-22.9398472,-43.175138&transacao=Venda&areaMaxima=210&areaMinima=131&tipoUnidade=Residencial,Apartamento&tipo=Im%C3%B3vel%20usado&pagina=5\n",
      "https://www.zapimoveis.com.br/venda/apartamentos/rj+rio-de-janeiro/avenida-oswaldo-cruz/?onde=,Rio%20de%20Janeiro,Rio%20de%20Janeiro,Zona%20Sul,Botafogo,Avenida%20Oswaldo%20Cruz,,,BR%3ERio%20de%20Janeiro%3ENULL%3ERio%20de%20Janeiro%3EZona%20Sul%3EBotafogo,-22.9398472,-43.175138&transacao=Venda&areaMaxima=210&areaMinima=131&tipoUnidade=Residencial,Apartamento&tipo=Im%C3%B3vel%20usado&pagina=6\n",
      "https://www.zapimoveis.com.br/venda/apartamentos/rj+rio-de-janeiro/avenida-oswaldo-cruz/?onde=,Rio%20de%20Janeiro,Rio%20de%20Janeiro,Zona%20Sul,Botafogo,Avenida%20Oswaldo%20Cruz,,,BR%3ERio%20de%20Janeiro%3ENULL%3ERio%20de%20Janeiro%3EZona%20Sul%3EBotafogo,-22.9398472,-43.175138&transacao=Venda&areaMaxima=210&areaMinima=131&tipoUnidade=Residencial,Apartamento&tipo=Im%C3%B3vel%20usado&pagina=7\n",
      "https://www.zapimoveis.com.br/venda/apartamentos/rj+rio-de-janeiro/avenida-oswaldo-cruz/?onde=,Rio%20de%20Janeiro,Rio%20de%20Janeiro,Zona%20Sul,Botafogo,Avenida%20Oswaldo%20Cruz,,,BR%3ERio%20de%20Janeiro%3ENULL%3ERio%20de%20Janeiro%3EZona%20Sul%3EBotafogo,-22.9398472,-43.175138&transacao=Venda&areaMaxima=210&areaMinima=131&tipoUnidade=Residencial,Apartamento&tipo=Im%C3%B3vel%20usado&pagina=8\n",
      "https://www.zapimoveis.com.br/venda/apartamentos/rj+rio-de-janeiro/avenida-oswaldo-cruz/?onde=,Rio%20de%20Janeiro,Rio%20de%20Janeiro,Zona%20Sul,Botafogo,Avenida%20Oswaldo%20Cruz,,,BR%3ERio%20de%20Janeiro%3ENULL%3ERio%20de%20Janeiro%3EZona%20Sul%3EBotafogo,-22.9398472,-43.175138&transacao=Venda&areaMaxima=210&areaMinima=131&tipoUnidade=Residencial,Apartamento&tipo=Im%C3%B3vel%20usado&pagina=9\n",
      "https://www.zapimoveis.com.br/venda/apartamentos/rj+rio-de-janeiro/avenida-oswaldo-cruz/?onde=,Rio%20de%20Janeiro,Rio%20de%20Janeiro,Zona%20Sul,Botafogo,Avenida%20Oswaldo%20Cruz,,,BR%3ERio%20de%20Janeiro%3ENULL%3ERio%20de%20Janeiro%3EZona%20Sul%3EBotafogo,-22.9398472,-43.175138&transacao=Venda&tipo=Im%C3%B3vel%20usado&areaMinima=211&areaMaxima=500&tipoUnidade=Residencial,Apartamento&pagina=1\n",
      "https://www.zapimoveis.com.br/venda/apartamentos/rj+rio-de-janeiro/avenida-oswaldo-cruz/?onde=,Rio%20de%20Janeiro,Rio%20de%20Janeiro,Zona%20Sul,Botafogo,Avenida%20Oswaldo%20Cruz,,,BR%3ERio%20de%20Janeiro%3ENULL%3ERio%20de%20Janeiro%3EZona%20Sul%3EBotafogo,-22.9398472,-43.175138&transacao=Venda&tipo=Im%C3%B3vel%20usado&areaMinima=211&areaMaxima=500&tipoUnidade=Residencial,Apartamento&pagina=2\n",
      "https://www.zapimoveis.com.br/venda/apartamentos/rj+rio-de-janeiro/avenida-oswaldo-cruz/?onde=,Rio%20de%20Janeiro,Rio%20de%20Janeiro,Zona%20Sul,Botafogo,Avenida%20Oswaldo%20Cruz,,,BR%3ERio%20de%20Janeiro%3ENULL%3ERio%20de%20Janeiro%3EZona%20Sul%3EBotafogo,-22.9398472,-43.175138&transacao=Venda&tipo=Im%C3%B3vel%20usado&areaMinima=211&areaMaxima=500&tipoUnidade=Residencial,Apartamento&pagina=3\n",
      "https://www.zapimoveis.com.br/venda/apartamentos/rj+rio-de-janeiro/avenida-oswaldo-cruz/?onde=,Rio%20de%20Janeiro,Rio%20de%20Janeiro,Zona%20Sul,Botafogo,Avenida%20Oswaldo%20Cruz,,,BR%3ERio%20de%20Janeiro%3ENULL%3ERio%20de%20Janeiro%3EZona%20Sul%3EBotafogo,-22.9398472,-43.175138&transacao=Venda&tipo=Im%C3%B3vel%20usado&areaMinima=211&areaMaxima=500&tipoUnidade=Residencial,Apartamento&pagina=4\n",
      "https://www.zapimoveis.com.br/venda/apartamentos/rj+rio-de-janeiro/avenida-oswaldo-cruz/?onde=,Rio%20de%20Janeiro,Rio%20de%20Janeiro,Zona%20Sul,Botafogo,Avenida%20Oswaldo%20Cruz,,,BR%3ERio%20de%20Janeiro%3ENULL%3ERio%20de%20Janeiro%3EZona%20Sul%3EBotafogo,-22.9398472,-43.175138&transacao=Venda&tipo=Im%C3%B3vel%20usado&areaMinima=211&areaMaxima=500&tipoUnidade=Residencial,Apartamento&pagina=5\n",
      "https://www.zapimoveis.com.br/venda/apartamentos/rj+rio-de-janeiro/avenida-oswaldo-cruz/?onde=,Rio%20de%20Janeiro,Rio%20de%20Janeiro,Zona%20Sul,Botafogo,Avenida%20Oswaldo%20Cruz,,,BR%3ERio%20de%20Janeiro%3ENULL%3ERio%20de%20Janeiro%3EZona%20Sul%3EBotafogo,-22.9398472,-43.175138&transacao=Venda&tipo=Im%C3%B3vel%20usado&areaMinima=211&areaMaxima=500&tipoUnidade=Residencial,Apartamento&pagina=6\n"
     ]
    }
   ],
   "source": [
    "for (url, max_pag) in oswaldo_cruz.items():\n",
    "    for pagina in range(1,max_pag+1):\n",
    "        print(url + '&pagina=' + str(pagina))"
   ]
  },
  {
   "cell_type": "code",
   "execution_count": 116,
   "metadata": {},
   "outputs": [],
   "source": [
    "#criando a função\n",
    "\n",
    "def get_infos(cards_all):\n",
    "    _df = pd.DataFrame(columns=['Address', 'Area', 'Dorms', 'Baths', 'Parking Slots', 'Condominio', 'IPTU', 'Price'])\n",
    "    for each_card in cards_all:\n",
    "            card_features = each_card.find(\"div\", attrs={\"class\": \"simple-card__actions\"})\n",
    "            card_price = each_card.find(\"p\", attrs={\"class\": \"simple-card__price js-price heading-regular heading-regular__bolder align-left\"})\n",
    "\n",
    "            #address\n",
    "            try:\n",
    "                address = card_features.find(\"p\", attrs={\"class\": \"color-dark text-regular simple-card__address\"}).get_text()\n",
    "            except:\n",
    "                address = 'NULL'\n",
    "            \n",
    "            #area\n",
    "            try:\n",
    "                area_text_and_image = card_features.ul.find(\"li\", attrs={\"class\": \"feature__item text-small js-areas\"})\n",
    "                area_only_text = area_text_and_image.find_all(\"span\")[1]\n",
    "                area = area_only_text.get_text()\n",
    "            except:\n",
    "                area = 'NULL'\n",
    "                \n",
    "            #dorms\n",
    "            try:\n",
    "                dorms_text_and_image = card_features.ul.find(\"li\", attrs={\"class\": \"feature__item text-small js-bedrooms\"})\n",
    "                dorms_only_text = dorms_text_and_image.find_all(\"span\")[1]\n",
    "                dorms = dorms_only_text.get_text()\n",
    "            except:\n",
    "                dorms = 'NULL'\n",
    "                \n",
    "            #baths\n",
    "            try:\n",
    "                baths_text_and_image = card_features.ul.find(\"li\", attrs={\"class\": \"feature__item text-small js-bathrooms\"})\n",
    "                baths_only_text = baths_text_and_image.find_all(\"span\")[1]\n",
    "                baths = baths_only_text.get_text()\n",
    "            except:\n",
    "                baths = 'NULL'\n",
    "            \n",
    "            #parking_slots\n",
    "            try:\n",
    "                parking_text_and_image = card_features.ul.find(\"li\", attrs={\"class\": \"feature__item text-small js-parking-spaces\"})\n",
    "                parking_only_text = parking_text_and_image.find_all(\"span\")[1]\n",
    "                parking_slots = parking_only_text.get_text()\n",
    "            except:\n",
    "                parking_slots = 'NULL'\n",
    "                \n",
    "            #condomínio\n",
    "            try:\n",
    "                condominio_text = each_card.find(\"li\", attrs={\"class\": \"card-price__item condominium text-regular\"})\n",
    "                condominio = condominio_text.find(\"span\", attrs={\"class\": \"card-price__value\"}).get_text()\n",
    "            except:\n",
    "                condominio = 'NULL'\n",
    "                \n",
    "            #condomínio\n",
    "            try:\n",
    "                iptu_text = each_card.find(\"li\", attrs={\"class\": \"card-price__item iptu text-regular\"})\n",
    "                iptu = iptu_text.find(\"span\", attrs={\"class\": \"card-price__value\"}).get_text()\n",
    "            except:\n",
    "                iptu = 'NULL'\n",
    "            \n",
    "            \n",
    "            #price\n",
    "            try:\n",
    "                price = card_price.strong.get_text()\n",
    "            except:\n",
    "                price = 'NULL'\n",
    "\n",
    "            #print(address, area, baths, dorms, price)\n",
    "            _df = _df.append({'Address': address, 'Area': area, 'Dorms': dorms, 'Baths': baths, 'Parking Slots': parking_slots, 'Condominio': condominio, 'IPTU': iptu, 'Price': price}, ignore_index=True)\n",
    "        \n",
    "    return _df"
   ]
  },
  {
   "cell_type": "code",
   "execution_count": null,
   "metadata": {},
   "outputs": [],
   "source": [
    "#'https://www.zapimoveis.com.br/venda/apartamentos/rj+rio-de-janeiro/avenida-oswaldo-cruz/?onde=,Rio%20de%20Janeiro,Rio%20de%20Janeiro,Zona%20Sul,Botafogo,Avenida%20Oswaldo%20Cruz,,,BR%3ERio%20de%20Janeiro%3ENULL%3ERio%20de%20Janeiro%3EZona%20Sul%3EBotafogo,-22.9398472,-43.175138&transacao=Venda&areaMaxima=100&areaMinima=0&tipoUnidade=Residencial,Apartamento&tipo=Im%C3%B3vel%20usado&pagina=2'\n",
    "df = pd.DataFrame(columns=['Address', 'Area', 'Dorms', 'Baths', 'Parking Slots', 'Condominio', 'IPTU', 'Price'])\n",
    "\n",
    "df_new = get_infos(cards_all)\n",
    "\n",
    "df = pd.concat([df, df_new], axis=0)\n",
    "df"
   ]
  },
  {
   "cell_type": "code",
   "execution_count": 166,
   "metadata": {},
   "outputs": [],
   "source": [
    "oswaldo_cruz = {\n",
    "'https://www.zapimoveis.com.br/venda/apartamentos/rj+rio-de-janeiro/avenida-oswaldo-cruz/?onde=,Rio%20de%20Janeiro,Rio%20de%20Janeiro,Zona%20Sul,Botafogo,Avenida%20Oswaldo%20Cruz,,,BR%3ERio%20de%20Janeiro%3ENULL%3ERio%20de%20Janeiro%3EZona%20Sul%3EBotafogo,-22.9398472,-43.175138&transacao=Venda&areaMaxima=100&areaMinima=0&tipoUnidade=Residencial,Apartamento&tipo=Im%C3%B3vel%20usado': 6,\n",
    "'https://www.zapimoveis.com.br/venda/apartamentos/rj+rio-de-janeiro/avenida-oswaldo-cruz/?onde=,Rio%20de%20Janeiro,Rio%20de%20Janeiro,Zona%20Sul,Botafogo,Avenida%20Oswaldo%20Cruz,,,BR%3ERio%20de%20Janeiro%3ENULL%3ERio%20de%20Janeiro%3EZona%20Sul%3EBotafogo,-22.9398472,-43.175138&transacao=Venda&areaMaxima=130&areaMinima=101&tipoUnidade=Residencial,Apartamento&tipo=Im%C3%B3vel%20usado': 4,\n",
    "'https://www.zapimoveis.com.br/venda/apartamentos/rj+rio-de-janeiro/avenida-oswaldo-cruz/?onde=,Rio%20de%20Janeiro,Rio%20de%20Janeiro,Zona%20Sul,Botafogo,Avenida%20Oswaldo%20Cruz,,,BR%3ERio%20de%20Janeiro%3ENULL%3ERio%20de%20Janeiro%3EZona%20Sul%3EBotafogo,-22.9398472,-43.175138&transacao=Venda&areaMaxima=210&areaMinima=131&tipoUnidade=Residencial,Apartamento&tipo=Im%C3%B3vel%20usado': 9,\n",
    "'https://www.zapimoveis.com.br/venda/apartamentos/rj+rio-de-janeiro/avenida-oswaldo-cruz/?onde=,Rio%20de%20Janeiro,Rio%20de%20Janeiro,Zona%20Sul,Botafogo,Avenida%20Oswaldo%20Cruz,,,BR%3ERio%20de%20Janeiro%3ENULL%3ERio%20de%20Janeiro%3EZona%20Sul%3EBotafogo,-22.9398472,-43.175138&transacao=Venda&tipo=Im%C3%B3vel%20usado&areaMinima=211&areaMaxima=500&tipoUnidade=Residencial,Apartamento': 6\n",
    "}    \n",
    "\n",
    "rui_barbosa = {\n",
    "'https://www.zapimoveis.com.br/venda/apartamentos/rj+rio-de-janeiro/avenida-rui-barbosa/?onde=,Rio%20de%20Janeiro,Rio%20de%20Janeiro,Zona%20Sul,Flamengo,Avenida%20Rui%20Barbosa,,street,BR%3ERio%20de%20Janeiro%3ENULL%3ERio%20de%20Janeiro%3EZona%20Sul%3EFlamengo,-22.941972,-43.173507&transacao=Venda&areaMaxima=190&areaMinima=0&tipoUnidade=Residencial,Apartamento&tipo=Im%C3%B3vel%20usado': 8,\n",
    "'https://www.zapimoveis.com.br/venda/apartamentos/rj+rio-de-janeiro/avenida-rui-barbosa/?onde=,Rio%20de%20Janeiro,Rio%20de%20Janeiro,Zona%20Sul,Flamengo,Avenida%20Rui%20Barbosa,,street,BR%3ERio%20de%20Janeiro%3ENULL%3ERio%20de%20Janeiro%3EZona%20Sul%3EFlamengo,-22.941972,-43.173507&transacao=Venda&areaMaxima=300&areaMinima=191&tipoUnidade=Residencial,Apartamento&tipo=Im%C3%B3vel%20usado': 9,\n",
    "'https://www.zapimoveis.com.br/venda/imoveis/rj+rio-de-janeiro/avenida-rui-barbosa/?onde=,Rio%20de%20Janeiro,Rio%20de%20Janeiro,Zona%20Sul,Flamengo,Avenida%20Rui%20Barbosa,,street,BR%3ERio%20de%20Janeiro%3ENULL%3ERio%20de%20Janeiro%3EZona%20Sul%3EFlamengo,-22.941972,-43.173507&transacao=Venda&areaMinima=301&tipo=Im%C3%B3vel%20usado': 8\n",
    "}\n",
    "\n",
    "honorio_barros = {\n",
    "'https://www.zapimoveis.com.br/venda/apartamentos/rj+rio-de-janeiro/rua-honorio-de-barros/?onde=,Rio%20de%20Janeiro,Rio%20de%20Janeiro,Zona%20Sul,Flamengo,Rua%20Hon%C3%B3rio%20de%20Barros,,street,BR%3ERio%20de%20Janeiro%3ENULL%3ERio%20de%20Janeiro%3EZona%20Sul%3EFlamengo,-22.9394176,-43.1758625&transacao=Venda&tipoUnidade=Residencial,Apartamento&tipo=Im%C3%B3vel%20usado': 3    \n",
    "}\n",
    "\n",
    "barao_icarai = {\n",
    "    'https://www.zapimoveis.com.br/venda/apartamentos/rj+rio-de-janeiro/rua-barao-de-icarai/?onde=,Rio%20de%20Janeiro,Rio%20de%20Janeiro,Zona%20Sul,Flamengo,Rua%20Bar%C3%A3o%20de%20Icara%C3%AD,,street,BR%3ERio%20de%20Janeiro%3ENULL%3ERio%20de%20Janeiro%3EZona%20Sul%3EFlamengo,-22.938868,-43.175398&transacao=Venda&tipoUnidade=Residencial,Apartamento&tipo=Im%C3%B3vel%20usado': 4\n",
    "}\n",
    "\n",
    "senador_vergueiro = {\n",
    "    'https://www.zapimoveis.com.br/venda/apartamentos/rj+rio-de-janeiro/rua-senador-vergueiro/?onde=,Rio%20de%20Janeiro,Rio%20de%20Janeiro,Zona%20Sul,Flamengo,Rua%20Senador%20Vergueiro,,street,BR%3ERio%20de%20Janeiro%3ENULL%3ERio%20de%20Janeiro%3EZona%20Sul%3EFlamengo,-22.936943,-43.175787&transacao=Venda&areaMaxima=75&areaMinima=0&tipoUnidade=Residencial,Apartamento&tipo=Im%C3%B3vel%20usado': 8,\n",
    "    'https://www.zapimoveis.com.br/venda/apartamentos/rj+rio-de-janeiro/rua-senador-vergueiro/?onde=,Rio%20de%20Janeiro,Rio%20de%20Janeiro,Zona%20Sul,Flamengo,Rua%20Senador%20Vergueiro,,,BR%3ERio%20de%20Janeiro%3ENULL%3ERio%20de%20Janeiro%3EZona%20Sul%3EFlamengo,-22.936943,-43.175787&transacao=Venda&areaMaxima=95&areaMinima=76&tipoUnidade=Residencial,Apartamento&tipo=Im%C3%B3vel%20usado': 9,\n",
    "    'https://www.zapimoveis.com.br/venda/apartamentos/rj+rio-de-janeiro/rua-senador-vergueiro/?onde=,Rio%20de%20Janeiro,Rio%20de%20Janeiro,Zona%20Sul,Flamengo,Rua%20Senador%20Vergueiro,,,BR%3ERio%20de%20Janeiro%3ENULL%3ERio%20de%20Janeiro%3EZona%20Sul%3EFlamengo,-22.936943,-43.175787&transacao=Venda&areaMaxima=150&areaMinima=96&tipoUnidade=Residencial,Apartamento&tipo=Im%C3%B3vel%20usado': 9,\n",
    "    'https://www.zapimoveis.com.br/venda/apartamentos/rj+rio-de-janeiro/rua-senador-vergueiro/?onde=,Rio%20de%20Janeiro,Rio%20de%20Janeiro,Zona%20Sul,Flamengo,Rua%20Senador%20Vergueiro,,,BR%3ERio%20de%20Janeiro%3ENULL%3ERio%20de%20Janeiro%3EZona%20Sul%3EFlamengo,-22.936943,-43.175787&transacao=Venda&areaMinima=151&tipoUnidade=Residencial,Apartamento&tipo=Im%C3%B3vel%20usado': 8\n",
    "}\n",
    "\n",
    "marques_abrantes = {\n",
    "    'https://www.zapimoveis.com.br/venda/apartamentos/rj+rio-de-janeiro/rua-marques-de-abrantes/?onde=,Rio%20de%20Janeiro,Rio%20de%20Janeiro,Zona%20Sul,Flamengo,Rua%20Marqu%C3%AAs%20de%20Abrantes,,street,BR%3ERio%20de%20Janeiro%3ENULL%3ERio%20de%20Janeiro%3EZona%20Sul%3EFlamengo,-22.93711,-43.177533&transacao=Venda&areaMaxima=85&areaMinima=0&tipoUnidade=Residencial,Apartamento&tipo=Im%C3%B3vel%20usado': 9,\n",
    "    'https://www.zapimoveis.com.br/venda/apartamentos/rj+rio-de-janeiro/rua-marques-de-abrantes/?onde=,Rio%20de%20Janeiro,Rio%20de%20Janeiro,Zona%20Sul,Flamengo,Rua%20Marqu%C3%AAs%20de%20Abrantes,,,BR%3ERio%20de%20Janeiro%3ENULL%3ERio%20de%20Janeiro%3EZona%20Sul%3EFlamengo,-22.93711,-43.177533&transacao=Venda&areaMaxima=103&areaMinima=86&tipoUnidade=Residencial,Apartamento&tipo=Im%C3%B3vel%20usado': 9,\n",
    "    'https://www.zapimoveis.com.br/venda/apartamentos/rj+rio-de-janeiro/rua-marques-de-abrantes/?onde=,Rio%20de%20Janeiro,Rio%20de%20Janeiro,Zona%20Sul,Flamengo,Rua%20Marqu%C3%AAs%20de%20Abrantes,,,BR%3ERio%20de%20Janeiro%3ENULL%3ERio%20de%20Janeiro%3EZona%20Sul%3EFlamengo,-22.93711,-43.177533&transacao=Venda&areaMinima=104&tipoUnidade=Residencial,Apartamento&tipo=Im%C3%B3vel%20usado': 10\n",
    "}\n",
    "\n",
    "senador_euzebio = {\n",
    "    'https://www.zapimoveis.com.br/venda/apartamentos/rj+rio-de-janeiro/rua-senador-euzebio/?onde=,Rio%20de%20Janeiro,Rio%20de%20Janeiro,Zona%20Sul,Flamengo,Rua%20Senador%20Euzebio,,street,BR%3ERio%20de%20Janeiro%3ENULL%3ERio%20de%20Janeiro%3EZona%20Sul%3EFlamengo,-22.9378206,-43.1749561&transacao=Venda&tipoUnidade=Residencial,Apartamento&tipo=Im%C3%B3vel%20usado': 4\n",
    "}\n",
    "\n",
    "princesa_januaria = {\n",
    "    'https://www.zapimoveis.com.br/venda/apartamentos/rj+rio-de-janeiro/rua-princesa-januaria/?onde=,Rio%20de%20Janeiro,Rio%20de%20Janeiro,Zona%20Sul,Flamengo,Rua%20Princesa%20Januaria,,street,BR%3ERio%20de%20Janeiro%3ENULL%3ERio%20de%20Janeiro%3EZona%20Sul%3EFlamengo,-22.9383876,-43.1751276&transacao=Venda&tipoUnidade=Residencial,Apartamento&tipo=Im%C3%B3vel%20usado': 2\n",
    "}\n",
    "\n",
    "marques_parana = {\n",
    "    'https://www.zapimoveis.com.br/venda/apartamentos/rj+rio-de-janeiro/rua-marques-de-parana/?onde=,Rio%20de%20Janeiro,Rio%20de%20Janeiro,Zona%20Sul,Flamengo,Rua%20Marqu%C3%AAs%20de%20Paran%C3%A1,,street,BR%3ERio%20de%20Janeiro%3ENULL%3ERio%20de%20Janeiro%3EZona%20Sul%3EFlamengo,-22.938123,-43.177086&transacao=Venda&tipoUnidade=Residencial,Apartamento&tipo=Im%C3%B3vel%20usado': 2\n",
    "}\n",
    "\n",
    "cruz_lima = {\n",
    "    'https://www.zapimoveis.com.br/venda/apartamentos/rj+rio-de-janeiro/rua-cruz-lima/?transacao=Venda&tipoUnidade=Residencial,Apartamento&tipo=Im%C3%B3vel%20usado&onde=,Rio%20de%20Janeiro,Rio%20de%20Janeiro,Zona%20Sul,Flamengo,Rua%20Cruz%20Lima,,street,BR%3ERio%20de%20Janeiro%3ENULL%3ERio%20de%20Janeiro%3EZona%20Sul%3EFlamengo,-22.936769,-43.175169': 4\n",
    "}\n",
    "\n",
    "fernando_osorio = {\n",
    "    'https://www.zapimoveis.com.br/venda/apartamentos/rj+rio-de-janeiro/rua-fernando-osorio/?onde=,Rio%20de%20Janeiro,Rio%20de%20Janeiro,Zona%20Sul,Flamengo,Rua%20Fernando%20Os%C3%B3rio,,street,BR%3ERio%20de%20Janeiro%3ENULL%3ERio%20de%20Janeiro%3EZona%20Sul%3EFlamengo,-22.93641,-43.176243&transacao=Venda&tipoUnidade=Residencial,Apartamento&tipo=Im%C3%B3vel%20usado': 3\n",
    "}\n"
   ]
  },
  {
   "cell_type": "code",
   "execution_count": 169,
   "metadata": {},
   "outputs": [
    {
     "name": "stdout",
     "output_type": "stream",
     "text": [
      "Scrapping from:  https://www.zapimoveis.com.br/venda/apartamentos/rj+rio-de-janeiro/rua-fernando-osorio/?onde=,Rio%20de%20Janeiro,Rio%20de%20Janeiro,Zona%20Sul,Flamengo,Rua%20Fernando%20Os%C3%B3rio,,street,BR%3ERio%20de%20Janeiro%3ENULL%3ERio%20de%20Janeiro%3EZona%20Sul%3EFlamengo,-22.93641,-43.176243&transacao=Venda&tipoUnidade=Residencial,Apartamento&tipo=Im%C3%B3vel%20usado&pagina=1\n",
      "Scrapping from:  https://www.zapimoveis.com.br/venda/apartamentos/rj+rio-de-janeiro/rua-fernando-osorio/?onde=,Rio%20de%20Janeiro,Rio%20de%20Janeiro,Zona%20Sul,Flamengo,Rua%20Fernando%20Os%C3%B3rio,,street,BR%3ERio%20de%20Janeiro%3ENULL%3ERio%20de%20Janeiro%3EZona%20Sul%3EFlamengo,-22.93641,-43.176243&transacao=Venda&tipoUnidade=Residencial,Apartamento&tipo=Im%C3%B3vel%20usado&pagina=2\n",
      "Scrapping from:  https://www.zapimoveis.com.br/venda/apartamentos/rj+rio-de-janeiro/rua-fernando-osorio/?onde=,Rio%20de%20Janeiro,Rio%20de%20Janeiro,Zona%20Sul,Flamengo,Rua%20Fernando%20Os%C3%B3rio,,street,BR%3ERio%20de%20Janeiro%3ENULL%3ERio%20de%20Janeiro%3EZona%20Sul%3EFlamengo,-22.93641,-43.176243&transacao=Venda&tipoUnidade=Residencial,Apartamento&tipo=Im%C3%B3vel%20usado&pagina=3\n"
     ]
    }
   ],
   "source": [
    "df = pd.DataFrame(columns=['Address', 'Area', 'Dorms', 'Baths', 'Parking Slots', 'Condominio', 'IPTU', 'Price'])\n",
    "\n",
    "for (url, max_pag) in fernando_osorio.items():\n",
    "    for pagina in range(1,max_pag+1):\n",
    "        url_pag = url + '&pagina=' + str(pagina)\n",
    "        \n",
    "        print('Scrapping from: ', url_pag)\n",
    "        \n",
    "        \n",
    "        request_body = scraper.get(url_pag).text\n",
    "\n",
    "        soup = bs(request_body)\n",
    "\n",
    "        cards_all = soup.find_all(\"div\", attrs={\"class\": \"box--display-flex box--flex-column gutter-top-double gutter-left-double gutter-right-double gutter-bottom-double simple-card__box\"})\n",
    "        \n",
    "        \n",
    "        df_new = get_infos(cards_all)\n",
    "        df = pd.concat([df, df_new], axis=0)\n",
    "        time.sleep(5)"
   ]
  },
  {
   "cell_type": "code",
   "execution_count": 172,
   "metadata": {},
   "outputs": [
    {
     "data": {
      "text/plain": [
       "\\n    R$ 650.000\\n    /venda      8\n",
       "\\n    R$ 930.000\\n    /venda      6\n",
       "\\n    R$ 850.000\\n    /venda      5\n",
       "\\n    Sob consulta\\n              4\n",
       "\\n    R$ 950.000\\n    /venda      3\n",
       "\\n    R$ 680.000\\n    /venda      2\n",
       "\\n    R$ 700.000\\n    /venda      1\n",
       "\\n    R$ 1.855.000\\n    /venda    1\n",
       "\\n    R$ 980.000\\n    /venda      1\n",
       "\\n    R$ 1.204.900\\n    /venda    1\n",
       "\\n    R$ 740.000\\n    /venda      1\n",
       "\\n    R$ 1.194.000\\n    /venda    1\n",
       "\\n    R$ 748.000\\n    /venda      1\n",
       "\\n    R$ 750.000\\n    /venda      1\n",
       "\\n    R$ 890.000\\n    /venda      1\n",
       "\\n    R$ 970.000\\n    /venda      1\n",
       "\\n    R$ 878.000\\n    /venda      1\n",
       "\\n    R$ 880.000\\n    /venda      1\n",
       "\\n    R$ 1.665.000\\n    /venda    1\n",
       "\\n    R$ 920.000\\n    /venda      1\n",
       "\\n    R$ 960.000\\n    /venda      1\n",
       "\\n    R$ 1.100.000\\n    /venda    1\n",
       "\\n    R$ 860.000\\n    /venda      1\n",
       "\\n    R$ 630.000\\n    /venda      1\n",
       "\\n    R$ 895.000\\n    /venda      1\n",
       "\\n    R$ 940.000\\n    /venda      1\n",
       "\\n    R$ 768.000\\n    /venda      1\n",
       "\\n    R$ 690.000\\n    /venda      1\n",
       "Name: Price, dtype: int64"
      ]
     },
     "execution_count": 172,
     "metadata": {},
     "output_type": "execute_result"
    }
   ],
   "source": [
    "df.Price.value_counts()"
   ]
  },
  {
   "cell_type": "code",
   "execution_count": 171,
   "metadata": {},
   "outputs": [],
   "source": [
    "df.to_csv('fernando_osorio.csv', index=False)"
   ]
  }
 ],
 "metadata": {
  "kernelspec": {
   "display_name": "Python 3",
   "language": "python",
   "name": "python3"
  },
  "language_info": {
   "codemirror_mode": {
    "name": "ipython",
    "version": 3
   },
   "file_extension": ".py",
   "mimetype": "text/x-python",
   "name": "python",
   "nbconvert_exporter": "python",
   "pygments_lexer": "ipython3",
   "version": "3.8.2"
  }
 },
 "nbformat": 4,
 "nbformat_minor": 4
}
