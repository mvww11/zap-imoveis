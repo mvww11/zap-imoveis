{
 "cells": [
  {
   "cell_type": "markdown",
   "metadata": {},
   "source": [
    "# O modelo\n",
    "Nosso cliente está interessado em vender um apartamento na Avenida Oswaldo Cruz, Flamengo, Rio de Janeiro. Fomos contratados para avaliar a que preço o imóvel deveria ser colocado à venda. Para nos auxiliar a responder essa pergunta, criaremos um modelo de regressão para prever o preço de um imóvel à venda nas imediações da Rua Oswaldo Cruz, com base em outros imóveis à venda na mesma localidade.\n",
    "\n",
    "As informações que temos à disposição para cada imóvel são: rua onde o imóvel se localiza, área do imóvel (em m²), quantidade de quartos, quantidade de banheiros, quantidade de vagas de garagem, valor da cota do condomínio e valor do IPTU, e o preço de venda anunciado.\n",
    "\n",
    "Vamos começar a Análise Exploratória de Dados pelo Preço do imóvel, nossa variável dependente."
   ]
  },
  {
   "cell_type": "code",
   "execution_count": 3,
   "metadata": {},
   "outputs": [],
   "source": [
    "import pandas as pd\n",
    "import matplotlib.pyplot as plt\n",
    "import seaborn as sns"
   ]
  },
  {
   "cell_type": "code",
   "execution_count": 81,
   "metadata": {},
   "outputs": [
    {
     "data": {
      "text/html": [
       "<div>\n",
       "<style scoped>\n",
       "    .dataframe tbody tr th:only-of-type {\n",
       "        vertical-align: middle;\n",
       "    }\n",
       "\n",
       "    .dataframe tbody tr th {\n",
       "        vertical-align: top;\n",
       "    }\n",
       "\n",
       "    .dataframe thead th {\n",
       "        text-align: right;\n",
       "    }\n",
       "</style>\n",
       "<table border=\"1\" class=\"dataframe\">\n",
       "  <thead>\n",
       "    <tr style=\"text-align: right;\">\n",
       "      <th></th>\n",
       "      <th>Street</th>\n",
       "      <th>Area</th>\n",
       "      <th>Dorms</th>\n",
       "      <th>Baths</th>\n",
       "      <th>Parking Slots</th>\n",
       "      <th>Condominio</th>\n",
       "      <th>IPTU</th>\n",
       "      <th>Price</th>\n",
       "    </tr>\n",
       "  </thead>\n",
       "  <tbody>\n",
       "    <tr>\n",
       "      <th>0</th>\n",
       "      <td>Barão de Icaraí</td>\n",
       "      <td>160.0</td>\n",
       "      <td>2</td>\n",
       "      <td>3</td>\n",
       "      <td>2</td>\n",
       "      <td>1200.0</td>\n",
       "      <td>433.0</td>\n",
       "      <td>1800000.0</td>\n",
       "    </tr>\n",
       "    <tr>\n",
       "      <th>1</th>\n",
       "      <td>Barão de Icaraí</td>\n",
       "      <td>100.0</td>\n",
       "      <td>2</td>\n",
       "      <td>1</td>\n",
       "      <td>2</td>\n",
       "      <td>950.0</td>\n",
       "      <td>280.0</td>\n",
       "      <td>1050000.0</td>\n",
       "    </tr>\n",
       "    <tr>\n",
       "      <th>2</th>\n",
       "      <td>Barão de Icaraí</td>\n",
       "      <td>78.0</td>\n",
       "      <td>2</td>\n",
       "      <td>2</td>\n",
       "      <td>1</td>\n",
       "      <td>790.0</td>\n",
       "      <td>2202.0</td>\n",
       "      <td>949999.0</td>\n",
       "    </tr>\n",
       "    <tr>\n",
       "      <th>3</th>\n",
       "      <td>Barão de Icaraí</td>\n",
       "      <td>102.0</td>\n",
       "      <td>3</td>\n",
       "      <td>2</td>\n",
       "      <td>1</td>\n",
       "      <td>1100.0</td>\n",
       "      <td>214.0</td>\n",
       "      <td>973000.0</td>\n",
       "    </tr>\n",
       "    <tr>\n",
       "      <th>4</th>\n",
       "      <td>Barão de Icaraí</td>\n",
       "      <td>130.0</td>\n",
       "      <td>3</td>\n",
       "      <td>2</td>\n",
       "      <td>1</td>\n",
       "      <td>1650.0</td>\n",
       "      <td>295.0</td>\n",
       "      <td>1150000.0</td>\n",
       "    </tr>\n",
       "  </tbody>\n",
       "</table>\n",
       "</div>"
      ],
      "text/plain": [
       "            Street   Area  Dorms  Baths  Parking Slots  Condominio    IPTU  \\\n",
       "0  Barão de Icaraí  160.0      2      3              2      1200.0   433.0   \n",
       "1  Barão de Icaraí  100.0      2      1              2       950.0   280.0   \n",
       "2  Barão de Icaraí   78.0      2      2              1       790.0  2202.0   \n",
       "3  Barão de Icaraí  102.0      3      2              1      1100.0   214.0   \n",
       "4  Barão de Icaraí  130.0      3      2              1      1650.0   295.0   \n",
       "\n",
       "       Price  \n",
       "0  1800000.0  \n",
       "1  1050000.0  \n",
       "2   949999.0  \n",
       "3   973000.0  \n",
       "4  1150000.0  "
      ]
     },
     "execution_count": 81,
     "metadata": {},
     "output_type": "execute_result"
    }
   ],
   "source": [
    "df = pd.read_csv('data/wrangled_data.csv')\n",
    "df.head()"
   ]
  },
  {
   "cell_type": "markdown",
   "metadata": {},
   "source": [
    "# Preço: nossa variável dependente\n",
    "Essa é a variável que nosso modelo tentará prever. Vemos abaixo sua distribuição em nosso conjunto de dados. O preço médio é de cerca de R\\\\$ 1,5 milhão, com um desvio padrão de R\\\\$ 1 milhão.\n",
    "\n",
    "O imóvel mais barato está anunciado por R\\\\$ 255 mil, e o mais caro por cerca de R\\\\$ 8 milhões. A mediana é de R\\\\$ 1,15 milhão."
   ]
  },
  {
   "cell_type": "code",
   "execution_count": 82,
   "metadata": {},
   "outputs": [
    {
     "data": {
      "image/png": "[encoded data removed]",
      "text/plain": [
       "<Figure size 432x288 with 1 Axes>"
      ]
     },
     "metadata": {
      "needs_background": "light"
     },
     "output_type": "display_data"
    },
    {
     "name": "stdout",
     "output_type": "stream",
     "text": [
      "Estatística descritiva, em milhões:\n"
     ]
    },
    {
     "data": {
      "text/plain": [
       "count    0.001922\n",
       "mean     1.529990\n",
       "std      1.062784\n",
       "min      0.255000\n",
       "25%      0.830000\n",
       "50%      1.150000\n",
       "75%      1.900000\n",
       "max      7.950000\n",
       "Name: Price, dtype: float64"
      ]
     },
     "execution_count": 82,
     "metadata": {},
     "output_type": "execute_result"
    }
   ],
   "source": [
    "sns.distplot(df.Price/1000, kde=False, bins=30)\n",
    "\n",
    "plt.title('Price Histogram')\n",
    "plt.xlabel('Prices (in thousands)')\n",
    "plt.show()\n",
    "\n",
    "print('Estatística descritiva, em milhões:')\n",
    "df.Price.describe()/1E6"
   ]
  },
  {
   "cell_type": "code",
   "execution_count": 83,
   "metadata": {},
   "outputs": [
    {
     "data": {
      "image/png": "[encoded data removed]",
      "text/plain": [
       "<Figure size 432x288 with 1 Axes>"
      ]
     },
     "metadata": {
      "needs_background": "light"
     },
     "output_type": "display_data"
    }
   ],
   "source": [
    "sns.boxplot(df.Price/1E6)\n",
    "\n",
    "plt.title('Price Boxplot')\n",
    "plt.xlabel('Prices (in millions)')\n",
    "plt.show()"
   ]
  },
  {
   "cell_type": "markdown",
   "metadata": {},
   "source": [
    "### Outliers de Preço\n",
    "Vemos acima que temos alguns imóveis com preços muito mais altos que os demais.\n",
    "\n",
    "Analisando os imóveis com valor acima de R\\\\$ 3 milhões, observamos abaixo que quase todos estão na Avenida Rui Barbosa. São imóveis estatisticamente diferentes dos demais, e estatisticamente diferentes do tipo de imóvel que queremos modelar.\n",
    "\n",
    "Vamos eliminar esses imóveis da nossa análise com o objetivo de permitir que nosso modelo se especialize no mesmo tipo de imóvel que nosso cliente quer vender, cujo valor está bem abaixo dessa faixa."
   ]
  },
  {
   "cell_type": "code",
   "execution_count": 84,
   "metadata": {},
   "outputs": [
    {
     "data": {
      "text/plain": [
       "Rui Barbosa            145\n",
       "Oswaldo Cruz            13\n",
       "Marquês de Abrantes      1\n",
       "Senador Vergueiro        1\n",
       "Barão de Icaraí          1\n",
       "Name: Street, dtype: int64"
      ]
     },
     "execution_count": 84,
     "metadata": {},
     "output_type": "execute_result"
    }
   ],
   "source": [
    "#imóveis acima de R$3 milhões: onde estão localizados?\n",
    "df[df.Price >= 3E6].Street.value_counts()"
   ]
  },
  {
   "cell_type": "code",
   "execution_count": 85,
   "metadata": {},
   "outputs": [],
   "source": [
    "df = df[df.Price < 3E6]"
   ]
  },
  {
   "cell_type": "markdown",
   "metadata": {},
   "source": [
    "# Área\n",
    "Os imóveis anunciados possuem uma área entre 14m² e 525m². A média é de 135m², e a mediana de 107² e o percentil de 75% é 174²."
   ]
  },
  {
   "cell_type": "code",
   "execution_count": 90,
   "metadata": {},
   "outputs": [
    {
     "data": {
      "image/png": "[encoded data removed]",
      "text/plain": [
       "<Figure size 432x288 with 1 Axes>"
      ]
     },
     "metadata": {
      "needs_background": "light"
     },
     "output_type": "display_data"
    },
    {
     "name": "stdout",
     "output_type": "stream",
     "text": [
      "Estatística descritiva:\n"
     ]
    },
    {
     "data": {
      "text/plain": [
       "count    1761.000000\n",
       "mean      134.995457\n",
       "std        79.157567\n",
       "min        14.000000\n",
       "25%        84.000000\n",
       "50%       107.000000\n",
       "75%       174.000000\n",
       "max       525.000000\n",
       "Name: Area, dtype: float64"
      ]
     },
     "execution_count": 90,
     "metadata": {},
     "output_type": "execute_result"
    }
   ],
   "source": [
    "sns.boxplot(df.Area)\n",
    "\n",
    "plt.title('Area Boxplot')\n",
    "plt.xlabel('Area (m²)')\n",
    "plt.show()\n",
    "\n",
    "print('Estatística descritiva:')\n",
    "df.Area.describe()"
   ]
  },
  {
   "cell_type": "code",
   "execution_count": 91,
   "metadata": {},
   "outputs": [
    {
     "data": {
      "image/png": "[encoded data removed]",
      "text/plain": [
       "<Figure size 432x288 with 1 Axes>"
      ]
     },
     "metadata": {
      "needs_background": "light"
     },
     "output_type": "display_data"
    }
   ],
   "source": [
    "sns.scatterplot(x='Area', y=df['Price']/1E6, data=df)\n",
    "\n",
    "plt.title('Price x Area')\n",
    "plt.ylabel('Price (in R$ millions)')\n",
    "plt.xlabel('Area (in m²)')\n",
    "plt.show()"
   ]
  },
  {
   "cell_type": "code",
   "execution_count": null,
   "metadata": {},
   "outputs": [],
   "source": []
  },
  {
   "cell_type": "code",
   "execution_count": 101,
   "metadata": {},
   "outputs": [
    {
     "data": {
      "image/png": "[encoded data removed]",
      "text/plain": [
       "<Figure size 432x288 with 1 Axes>"
      ]
     },
     "metadata": {
      "needs_background": "light"
     },
     "output_type": "display_data"
    },
    {
     "name": "stdout",
     "output_type": "stream",
     "text": [
      "Estatística descritiva:\n"
     ]
    },
    {
     "data": {
      "text/plain": [
       "count    1761.000000\n",
       "mean        2.749006\n",
       "std         0.879392\n",
       "min         1.000000\n",
       "25%         2.000000\n",
       "50%         3.000000\n",
       "75%         3.000000\n",
       "max         7.000000\n",
       "Name: Dorms, dtype: float64"
      ]
     },
     "execution_count": 101,
     "metadata": {},
     "output_type": "execute_result"
    }
   ],
   "source": [
    "sns.boxplot(x=df.Dorms, y=df.Price)\n",
    "\n",
    "plt.title('Dorms Boxplot')\n",
    "plt.xlabel('Dorms')\n",
    "plt.show()\n",
    "\n",
    "print('Estatística descritiva:')\n",
    "df.Dorms.describe()"
   ]
  },
  {
   "cell_type": "code",
   "execution_count": 104,
   "metadata": {},
   "outputs": [
    {
     "data": {
      "text/plain": [
       "<matplotlib.axes._subplots.AxesSubplot at 0x24729a8d4c8>"
      ]
     },
     "execution_count": 104,
     "metadata": {},
     "output_type": "execute_result"
    },
    {
     "data": {
      "image/png": "[encoded data removed]",
      "text/plain": [
       "<Figure size 432x288 with 1 Axes>"
      ]
     },
     "metadata": {
      "needs_background": "light"
     },
     "output_type": "display_data"
    }
   ],
   "source": [
    "df.Dorms.plot.hist()"
   ]
  },
  {
   "cell_type": "code",
   "execution_count": 114,
   "metadata": {},
   "outputs": [
    {
     "ename": "TypeError",
     "evalue": "distplot() got an unexpected keyword argument 'discrete'",
     "output_type": "error",
     "traceback": [
      "\u001b[1;31m---------------------------------------------------------------------------\u001b[0m",
      "\u001b[1;31mTypeError\u001b[0m                                 Traceback (most recent call last)",
      "\u001b[1;32m<ipython-input-114-552ca8f7318a>\u001b[0m in \u001b[0;36m<module>\u001b[1;34m\u001b[0m\n\u001b[0;32m      1\u001b[0m \u001b[1;31m#sns.distplot(df.Dorms, kde=False, discrete=True)\u001b[0m\u001b[1;33m\u001b[0m\u001b[1;33m\u001b[0m\u001b[1;33m\u001b[0m\u001b[0m\n\u001b[1;32m----> 2\u001b[1;33m \u001b[0msns\u001b[0m\u001b[1;33m.\u001b[0m\u001b[0mdistplot\u001b[0m\u001b[1;33m(\u001b[0m\u001b[0mdf\u001b[0m\u001b[1;33m.\u001b[0m\u001b[0mDorms\u001b[0m\u001b[1;33m,\u001b[0m \u001b[0mdiscrete\u001b[0m\u001b[1;33m=\u001b[0m\u001b[1;32mTrue\u001b[0m\u001b[1;33m)\u001b[0m\u001b[1;33m\u001b[0m\u001b[1;33m\u001b[0m\u001b[0m\n\u001b[0m\u001b[0;32m      3\u001b[0m \u001b[1;33m\u001b[0m\u001b[0m\n\u001b[0;32m      4\u001b[0m \u001b[0mplt\u001b[0m\u001b[1;33m.\u001b[0m\u001b[0mtitle\u001b[0m\u001b[1;33m(\u001b[0m\u001b[1;34m'Price Histogram'\u001b[0m\u001b[1;33m)\u001b[0m\u001b[1;33m\u001b[0m\u001b[1;33m\u001b[0m\u001b[0m\n\u001b[0;32m      5\u001b[0m \u001b[0mplt\u001b[0m\u001b[1;33m.\u001b[0m\u001b[0mxlabel\u001b[0m\u001b[1;33m(\u001b[0m\u001b[1;34m'Prices (in thousands)'\u001b[0m\u001b[1;33m)\u001b[0m\u001b[1;33m\u001b[0m\u001b[1;33m\u001b[0m\u001b[0m\n",
      "\u001b[1;31mTypeError\u001b[0m: distplot() got an unexpected keyword argument 'discrete'"
     ]
    }
   ],
   "source": [
    "#sns.distplot(df.Dorms, kde=False, discrete=True)\n",
    "sns.distplot(df.Dorms, discrete=True)\n",
    "\n",
    "plt.title('Price Histogram')\n",
    "plt.xlabel('Prices (in thousands)')\n",
    "plt.show()"
   ]
  },
  {
   "cell_type": "code",
   "execution_count": 4,
   "metadata": {},
   "outputs": [
    {
     "data": {
      "text/plain": [
       "'0.10.0'"
      ]
     },
     "execution_count": 4,
     "metadata": {},
     "output_type": "execute_result"
    }
   ],
   "source": [
    "#!pip install seaborn --upgrade\n",
    "sns.__version__"
   ]
  },
  {
   "cell_type": "markdown",
   "metadata": {},
   "source": [
    "* To dos:"
   ]
  }
 ],
 "metadata": {
  "kernelspec": {
   "display_name": "Python 3",
   "language": "python",
   "name": "python3"
  },
  "language_info": {
   "codemirror_mode": {
    "name": "ipython",
    "version": 3
   },
   "file_extension": ".py",
   "mimetype": "text/x-python",
   "name": "python",
   "nbconvert_exporter": "python",
   "pygments_lexer": "ipython3",
   "version": "3.7.6"
  }
 },
 "nbformat": 4,
 "nbformat_minor": 4
}
